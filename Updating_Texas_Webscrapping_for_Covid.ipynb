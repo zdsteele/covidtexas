{
 "cells": [
  {
   "cell_type": "code",
   "execution_count": 1,
   "metadata": {},
   "outputs": [],
   "source": [
    "import pandas as pd\n",
    "import numpy as np\n",
    "from bs4 import BeautifulSoup as bs\n",
    "from time import sleep\n",
    "from datetime import datetime\n",
    "from splinter import Browser\n",
    "from selenium.webdriver.common.keys import Keys\n",
    "import time\n",
    "import json\n",
    "import os\n",
    "import shutil"
   ]
  },
  {
   "cell_type": "code",
   "execution_count": 2,
   "metadata": {},
   "outputs": [],
   "source": [
    "url = 'https://www.reddit.com/r/memes/comments/f2fi3z/covid19/'"
   ]
  },
  {
   "cell_type": "code",
   "execution_count": 3,
   "metadata": {},
   "outputs": [],
   "source": [
    "# Path to chromedriver.exe\n",
    "executable_path = {'executable_path':'C:/Users/zacha/AppData/Local/bin/chromedriver.exe'}\n",
    "\n",
    "# Open the Splinter Browswer\n",
    "browser = Browser('chrome', **executable_path)"
   ]
  },
  {
   "cell_type": "code",
   "execution_count": 4,
   "metadata": {},
   "outputs": [],
   "source": [
    "browser.visit(url)\n",
    "time.sleep(10)"
   ]
  },
  {
   "cell_type": "code",
   "execution_count": 5,
   "metadata": {},
   "outputs": [],
   "source": [
    "html = browser.html\n",
    "soup = bs(html, 'html.parser')"
   ]
  },
  {
   "cell_type": "code",
   "execution_count": 6,
   "metadata": {},
   "outputs": [],
   "source": [
    "memes = soup.find_all('div', class_='_3Oa0THmZ3f5iZXAQ0hBJ0k')"
   ]
  },
  {
   "cell_type": "code",
   "execution_count": 7,
   "metadata": {},
   "outputs": [
    {
     "data": {
      "text/plain": [
       "[<div class=\"_3Oa0THmZ3f5iZXAQ0hBJ0k\" style=\"margin:0 auto\"><a href=\"https://i.redd.it/24smtius5dg41.jpg\" target=\"_blank\"><img alt=\"Post image\" class=\"_2_tDEnGMLxpM6uOa2kaDB3 ImageBox-image media-element _1XWObl-3b9tPy64oaG6fax\" src=\"https://preview.redd.it/24smtius5dg41.jpg?width=640&amp;crop=smart&amp;auto=webp&amp;s=101d0bdd32f651a3dcd6e5ab3be2b5073884d969\" style=\"max-height:700px\"/></a></div>,\n",
       " <div class=\"_3Oa0THmZ3f5iZXAQ0hBJ0k\" style=\"max-height: 512px; margin: 0px auto;\"><div><img alt=\"Post image\" class=\"_2_tDEnGMLxpM6uOa2kaDB3 ImageBox-image media-element _1XWObl-3b9tPy64oaG6fax\" src=\"https://preview.redd.it/g0ntijya7to41.jpg?width=640&amp;height=537&amp;crop=smart&amp;auto=webp&amp;s=a8355a677f1585518917570e0896b639a865ae18\" style=\"max-height: 512px;\"/></div></div>,\n",
       " <div class=\"_3Oa0THmZ3f5iZXAQ0hBJ0k\" style=\"max-height: 512px; margin: 0px auto;\"><div><img alt=\"Post image\" class=\"_2_tDEnGMLxpM6uOa2kaDB3 ImageBox-image media-element _1XWObl-3b9tPy64oaG6fax\" src=\"https://external-preview.redd.it/zJsf1l2rQ07tYzgNT13Nq8qjIudquSjI6ifw5WxjqbE.jpg?width=640&amp;height=334&amp;crop=smart&amp;auto=webp&amp;s=2c1fcbc5a70ecdb2b7f5db6c0d2ec58f285cfda7\" style=\"max-height: 512px;\"/></div></div>,\n",
       " <div class=\"_3Oa0THmZ3f5iZXAQ0hBJ0k\" style=\"max-height: 512px; margin: 0px auto;\"><div><img alt=\"Post image\" class=\"_2_tDEnGMLxpM6uOa2kaDB3 ImageBox-image media-element _1XWObl-3b9tPy64oaG6fax\" src=\"https://preview.redd.it/g8u12cmuggp41.jpg?width=640&amp;height=517&amp;crop=smart&amp;auto=webp&amp;s=03463ad057ba814db4a5650c1d523d38a2f9a216\" style=\"max-height: 512px;\"/></div></div>,\n",
       " <div class=\"_3Oa0THmZ3f5iZXAQ0hBJ0k\" style=\"max-height: 512px; margin: 0px auto;\"><div><img alt=\"Post image\" class=\"_2_tDEnGMLxpM6uOa2kaDB3 ImageBox-image media-element _1XWObl-3b9tPy64oaG6fax\" src=\"https://preview.redd.it/89mep1u1mrp41.jpg?width=640&amp;height=589&amp;crop=smart&amp;auto=webp&amp;s=50b06ab77812e449c3f8871afd5d1f920e6817bb\" style=\"max-height: 512px;\"/></div></div>,\n",
       " <div class=\"_3Oa0THmZ3f5iZXAQ0hBJ0k\" style=\"max-height: 512px; margin: 0px auto;\"><div><img alt=\"Post image\" class=\"_2_tDEnGMLxpM6uOa2kaDB3 ImageBox-image media-element _1XWObl-3b9tPy64oaG6fax\" src=\"https://preview.redd.it/6chyjyvgzzo41.jpg?width=640&amp;height=876&amp;crop=smart&amp;auto=webp&amp;s=a70e9d8e0e787144ed61bcda40104d1f8b1afe32\" style=\"max-height: 512px;\"/></div></div>,\n",
       " <div class=\"_3Oa0THmZ3f5iZXAQ0hBJ0k\" style=\"max-height: 512px; margin: 0px auto;\"><div><img alt=\"Post image\" class=\"_2_tDEnGMLxpM6uOa2kaDB3 ImageBox-image media-element _1XWObl-3b9tPy64oaG6fax\" src=\"https://preview.redd.it/mgj1xku3rhp41.jpg?width=640&amp;height=519&amp;crop=smart&amp;auto=webp&amp;s=580f20ac7935ebad092f2636292f8aeb394ca03b\" style=\"max-height: 512px;\"/></div></div>,\n",
       " <div class=\"_3Oa0THmZ3f5iZXAQ0hBJ0k\" style=\"max-height: 512px; margin: 0px auto;\"><div><img alt=\"Post image\" class=\"_2_tDEnGMLxpM6uOa2kaDB3 ImageBox-image media-element _1XWObl-3b9tPy64oaG6fax\" src=\"https://preview.redd.it/fzd9i1e0ozo41.jpg?width=640&amp;height=656&amp;crop=smart&amp;auto=webp&amp;s=0cf7d7b8cfb0b98b15e0c87c5ec3775c8c147266\" style=\"max-height: 512px;\"/></div></div>,\n",
       " <div class=\"_3Oa0THmZ3f5iZXAQ0hBJ0k\" style=\"max-height: 512px; margin: 0px auto;\"><div><img alt=\"Post image\" class=\"_2_tDEnGMLxpM6uOa2kaDB3 ImageBox-image media-element _1XWObl-3b9tPy64oaG6fax\" src=\"https://preview.redd.it/ks7akog0kmo41.jpg?width=640&amp;height=640&amp;crop=smart&amp;auto=webp&amp;s=43fa7a232142a058af16f135bf74a8c66fba0b7a\" style=\"max-height: 512px;\"/></div></div>,\n",
       " <div class=\"_3Oa0THmZ3f5iZXAQ0hBJ0k\" style=\"max-height: 512px; margin: 0px auto;\"><div><img alt=\"Post image\" class=\"_2_tDEnGMLxpM6uOa2kaDB3 ImageBox-image media-element _1XWObl-3b9tPy64oaG6fax\" src=\"https://preview.redd.it/ug8i8uxjnno41.jpg?width=640&amp;height=837&amp;crop=smart&amp;auto=webp&amp;s=129ad8cae495f70fdbc5f91b2a8424e1f1d7164e\" style=\"max-height: 512px;\"/></div></div>,\n",
       " <div class=\"_3Oa0THmZ3f5iZXAQ0hBJ0k\" style=\"max-height: 512px; margin: 0px auto;\"><div><img alt=\"Post image\" class=\"_2_tDEnGMLxpM6uOa2kaDB3 ImageBox-image media-element _1XWObl-3b9tPy64oaG6fax\" src=\"https://preview.redd.it/3cv0ievm1uo41.jpg?width=640&amp;height=800&amp;crop=smart&amp;auto=webp&amp;s=ab79d6dd9e802ec946f6d74b93453d3b363f691e\" style=\"max-height: 512px;\"/></div></div>,\n",
       " <div class=\"_3Oa0THmZ3f5iZXAQ0hBJ0k\" style=\"max-height: 512px; margin: 0px auto;\"><div><img alt=\"Post image\" class=\"_2_tDEnGMLxpM6uOa2kaDB3 ImageBox-image media-element _1XWObl-3b9tPy64oaG6fax\" src=\"https://external-preview.redd.it/FiT9ge4R_b0dznquBFdc6asSIMqUNWBVde6U-nXmtvA.jpg?width=640&amp;height=334&amp;crop=smart&amp;auto=webp&amp;s=23c0cf1b03e459062a4acbc80963bba88a7cd7a8\" style=\"max-height: 512px;\"/></div></div>,\n",
       " <div class=\"_3Oa0THmZ3f5iZXAQ0hBJ0k\" style=\"max-height: 512px; margin: 0px auto;\"><div><img alt=\"Post image\" class=\"_2_tDEnGMLxpM6uOa2kaDB3 ImageBox-image media-element _1XWObl-3b9tPy64oaG6fax\" src=\"https://preview.redd.it/ylmr1ldb2tp41.jpg?width=640&amp;height=626&amp;crop=smart&amp;auto=webp&amp;s=0aa56d650d3268f9efd46c11b0d83bad28f34958\" style=\"max-height: 512px;\"/></div></div>,\n",
       " <div class=\"_3Oa0THmZ3f5iZXAQ0hBJ0k\" style=\"max-height: 512px; margin: 0px auto;\"><div><img alt=\"Post image\" class=\"_2_tDEnGMLxpM6uOa2kaDB3 ImageBox-image media-element _1XWObl-3b9tPy64oaG6fax\" src=\"https://preview.redd.it/ff1edtgugdp41.jpg?width=640&amp;height=480&amp;crop=smart&amp;auto=webp&amp;s=16dd3e55fa2486a7c9fd84945a289cb741d43502\" style=\"max-height: 512px;\"/></div></div>,\n",
       " <div class=\"_3Oa0THmZ3f5iZXAQ0hBJ0k\" style=\"max-height: 512px; margin: 0px auto;\"><div><img alt=\"Post image\" class=\"_2_tDEnGMLxpM6uOa2kaDB3 ImageBox-image media-element _1XWObl-3b9tPy64oaG6fax\" src=\"https://preview.redd.it/m9ze0hpk5qo41.jpg?width=640&amp;height=502&amp;crop=smart&amp;auto=webp&amp;s=133d94c05a511bff45128a4bda8b49c0bcd184ad\" style=\"max-height: 512px;\"/></div></div>,\n",
       " <div class=\"_3Oa0THmZ3f5iZXAQ0hBJ0k\" style=\"max-height: 512px; margin: 0px auto;\"><div><img alt=\"Post image\" class=\"_2_tDEnGMLxpM6uOa2kaDB3 ImageBox-image media-element _1XWObl-3b9tPy64oaG6fax\" src=\"https://preview.redd.it/wypwvpxy0xo41.jpg?width=640&amp;height=640&amp;crop=smart&amp;auto=webp&amp;s=e66e8486320e1895d4172eeffbc39d4112ac9aa8\" style=\"max-height: 512px;\"/></div></div>,\n",
       " <div class=\"_3Oa0THmZ3f5iZXAQ0hBJ0k\" style=\"max-height: 512px; margin: 0px auto;\"><div><img alt=\"Post image\" class=\"_2_tDEnGMLxpM6uOa2kaDB3 ImageBox-image media-element _1XWObl-3b9tPy64oaG6fax\" src=\"https://preview.redd.it/i1pfj38rtep41.jpg?width=640&amp;height=640&amp;crop=smart&amp;auto=webp&amp;s=d95b59bf1bd79e04fea8d4533d509ffbd5d3ad4e\" style=\"max-height: 512px;\"/></div></div>,\n",
       " <div class=\"_3Oa0THmZ3f5iZXAQ0hBJ0k\" style=\"max-height: 512px; margin: 0px auto;\"><div><img alt=\"Post image\" class=\"_2_tDEnGMLxpM6uOa2kaDB3 ImageBox-image media-element _1XWObl-3b9tPy64oaG6fax\" src=\"https://preview.redd.it/97btrua4zro41.jpg?width=640&amp;height=549&amp;crop=smart&amp;auto=webp&amp;s=e6e8454b5fd8525ad12dceb1fb9ed28bcbf4eddc\" style=\"max-height: 512px;\"/></div></div>,\n",
       " <div class=\"_3Oa0THmZ3f5iZXAQ0hBJ0k\" style=\"max-height: 512px; margin: 0px auto;\"><div><img alt=\"Post image\" class=\"_2_tDEnGMLxpM6uOa2kaDB3 ImageBox-image media-element _1XWObl-3b9tPy64oaG6fax\" src=\"https://preview.redd.it/89864q04tmp41.jpg?width=640&amp;height=761&amp;crop=smart&amp;auto=webp&amp;s=64ea4a123afa7bf786aab4abf407e8041790f314\" style=\"max-height: 512px;\"/></div></div>,\n",
       " <div class=\"_3Oa0THmZ3f5iZXAQ0hBJ0k\" style=\"max-height: 512px; margin: 0px auto;\"><div><img alt=\"Post image\" class=\"_2_tDEnGMLxpM6uOa2kaDB3 ImageBox-image media-element _1XWObl-3b9tPy64oaG6fax\" src=\"https://preview.redd.it/p0n2gxffwso41.png?width=640&amp;height=590&amp;crop=smart&amp;auto=webp&amp;s=7a060b2bd4b0aaf0ed9bdcba52d3638fc1c3c610\" style=\"max-height: 512px;\"/></div></div>,\n",
       " <div class=\"_3Oa0THmZ3f5iZXAQ0hBJ0k\" style=\"max-height: 512px; margin: 0px auto;\"><div><img alt=\"Post image\" class=\"_2_tDEnGMLxpM6uOa2kaDB3 ImageBox-image media-element _1XWObl-3b9tPy64oaG6fax\" src=\"https://preview.redd.it/oaczkqez5lp41.jpg?width=640&amp;height=634&amp;crop=smart&amp;auto=webp&amp;s=5b364e3092f6a6c9891a2d260f6ed69d7f3f7374\" style=\"max-height: 512px;\"/></div></div>,\n",
       " <div class=\"_3Oa0THmZ3f5iZXAQ0hBJ0k\" style=\"max-height: 512px; margin: 0px auto;\"><div><img alt=\"Post image\" class=\"_2_tDEnGMLxpM6uOa2kaDB3 ImageBox-image media-element _1XWObl-3b9tPy64oaG6fax\" src=\"https://preview.redd.it/t49pv6gozuo41.jpg?width=640&amp;height=748&amp;crop=smart&amp;auto=webp&amp;s=03ae3bbfb5bb0509d138bd82572f9807cb000881\" style=\"max-height: 512px;\"/></div></div>,\n",
       " <div class=\"_3Oa0THmZ3f5iZXAQ0hBJ0k\" style=\"max-height: 512px; margin: 0px auto;\"><div><img alt=\"Post image\" class=\"_2_tDEnGMLxpM6uOa2kaDB3 ImageBox-image media-element _1XWObl-3b9tPy64oaG6fax\" src=\"https://preview.redd.it/vrwky0ecd0p41.jpg?width=640&amp;height=708&amp;crop=smart&amp;auto=webp&amp;s=faea8bcb5f0c030a50adb88ac13ec59018340937\" style=\"max-height: 512px;\"/></div></div>,\n",
       " <div class=\"_3Oa0THmZ3f5iZXAQ0hBJ0k\" style=\"max-height: 512px; margin: 0px auto;\"><div><img alt=\"Post image\" class=\"_2_tDEnGMLxpM6uOa2kaDB3 ImageBox-image media-element _1XWObl-3b9tPy64oaG6fax\" src=\"https://preview.redd.it/0rsybsgptqp41.png?width=640&amp;height=680&amp;crop=smart&amp;auto=webp&amp;s=43d5f7885be97617fb05cb89550f4af68ad92d19\" style=\"max-height: 512px;\"/></div></div>,\n",
       " <div class=\"_3Oa0THmZ3f5iZXAQ0hBJ0k\" style=\"max-height: 512px; margin: 0px auto;\"><div><img alt=\"Post image\" class=\"_2_tDEnGMLxpM6uOa2kaDB3 ImageBox-image media-element _1XWObl-3b9tPy64oaG6fax\" src=\"https://preview.redd.it/squn6szmalp41.png?width=640&amp;height=585&amp;crop=smart&amp;auto=webp&amp;s=436591c353b827c734d3c62c424d786beeb0ab60\" style=\"max-height: 512px;\"/></div></div>,\n",
       " <div class=\"_3Oa0THmZ3f5iZXAQ0hBJ0k\" style=\"max-height: 512px; margin: 0px auto;\"><div><img alt=\"Post image\" class=\"_2_tDEnGMLxpM6uOa2kaDB3 ImageBox-image media-element _1XWObl-3b9tPy64oaG6fax\" src=\"https://preview.redd.it/xh6wnxvjl7p41.jpg?width=640&amp;height=532&amp;crop=smart&amp;auto=webp&amp;s=86daea7bd745d8782b8aeb7e46dfb5ba8c49e3a1\" style=\"max-height: 512px;\"/></div></div>,\n",
       " <div class=\"_3Oa0THmZ3f5iZXAQ0hBJ0k\" style=\"max-height: 512px; margin: 0px auto;\"><div><img alt=\"Post image\" class=\"_2_tDEnGMLxpM6uOa2kaDB3 ImageBox-image media-element _1XWObl-3b9tPy64oaG6fax\" src=\"https://preview.redd.it/ypmbu4ae17p41.jpg?width=640&amp;height=893&amp;crop=smart&amp;auto=webp&amp;s=62b38d45cb517710917e38b72a26d185a127a8b8\" style=\"max-height: 512px;\"/></div></div>]"
      ]
     },
     "execution_count": 7,
     "metadata": {},
     "output_type": "execute_result"
    }
   ],
   "source": [
    "memes"
   ]
  },
  {
   "cell_type": "code",
   "execution_count": 8,
   "metadata": {},
   "outputs": [
    {
     "data": {
      "text/plain": [
       "27"
      ]
     },
     "execution_count": 8,
     "metadata": {},
     "output_type": "execute_result"
    }
   ],
   "source": [
    "len(memes)"
   ]
  },
  {
   "cell_type": "code",
   "execution_count": 9,
   "metadata": {},
   "outputs": [],
   "source": [
    "images = []"
   ]
  },
  {
   "cell_type": "code",
   "execution_count": 10,
   "metadata": {},
   "outputs": [],
   "source": [
    "for i in memes:\n",
    "    \n",
    "    image = i.find('img')['src']\n",
    "    images.append(image)"
   ]
  },
  {
   "cell_type": "code",
   "execution_count": 11,
   "metadata": {},
   "outputs": [
    {
     "data": {
      "text/plain": [
       "['https://preview.redd.it/24smtius5dg41.jpg?width=640&crop=smart&auto=webp&s=101d0bdd32f651a3dcd6e5ab3be2b5073884d969',\n",
       " 'https://preview.redd.it/g0ntijya7to41.jpg?width=640&height=537&crop=smart&auto=webp&s=a8355a677f1585518917570e0896b639a865ae18',\n",
       " 'https://external-preview.redd.it/zJsf1l2rQ07tYzgNT13Nq8qjIudquSjI6ifw5WxjqbE.jpg?width=640&height=334&crop=smart&auto=webp&s=2c1fcbc5a70ecdb2b7f5db6c0d2ec58f285cfda7',\n",
       " 'https://preview.redd.it/g8u12cmuggp41.jpg?width=640&height=517&crop=smart&auto=webp&s=03463ad057ba814db4a5650c1d523d38a2f9a216',\n",
       " 'https://preview.redd.it/89mep1u1mrp41.jpg?width=640&height=589&crop=smart&auto=webp&s=50b06ab77812e449c3f8871afd5d1f920e6817bb',\n",
       " 'https://preview.redd.it/6chyjyvgzzo41.jpg?width=640&height=876&crop=smart&auto=webp&s=a70e9d8e0e787144ed61bcda40104d1f8b1afe32',\n",
       " 'https://preview.redd.it/mgj1xku3rhp41.jpg?width=640&height=519&crop=smart&auto=webp&s=580f20ac7935ebad092f2636292f8aeb394ca03b',\n",
       " 'https://preview.redd.it/fzd9i1e0ozo41.jpg?width=640&height=656&crop=smart&auto=webp&s=0cf7d7b8cfb0b98b15e0c87c5ec3775c8c147266',\n",
       " 'https://preview.redd.it/ks7akog0kmo41.jpg?width=640&height=640&crop=smart&auto=webp&s=43fa7a232142a058af16f135bf74a8c66fba0b7a',\n",
       " 'https://preview.redd.it/ug8i8uxjnno41.jpg?width=640&height=837&crop=smart&auto=webp&s=129ad8cae495f70fdbc5f91b2a8424e1f1d7164e',\n",
       " 'https://preview.redd.it/3cv0ievm1uo41.jpg?width=640&height=800&crop=smart&auto=webp&s=ab79d6dd9e802ec946f6d74b93453d3b363f691e',\n",
       " 'https://external-preview.redd.it/FiT9ge4R_b0dznquBFdc6asSIMqUNWBVde6U-nXmtvA.jpg?width=640&height=334&crop=smart&auto=webp&s=23c0cf1b03e459062a4acbc80963bba88a7cd7a8',\n",
       " 'https://preview.redd.it/ylmr1ldb2tp41.jpg?width=640&height=626&crop=smart&auto=webp&s=0aa56d650d3268f9efd46c11b0d83bad28f34958',\n",
       " 'https://preview.redd.it/ff1edtgugdp41.jpg?width=640&height=480&crop=smart&auto=webp&s=16dd3e55fa2486a7c9fd84945a289cb741d43502',\n",
       " 'https://preview.redd.it/m9ze0hpk5qo41.jpg?width=640&height=502&crop=smart&auto=webp&s=133d94c05a511bff45128a4bda8b49c0bcd184ad',\n",
       " 'https://preview.redd.it/wypwvpxy0xo41.jpg?width=640&height=640&crop=smart&auto=webp&s=e66e8486320e1895d4172eeffbc39d4112ac9aa8',\n",
       " 'https://preview.redd.it/i1pfj38rtep41.jpg?width=640&height=640&crop=smart&auto=webp&s=d95b59bf1bd79e04fea8d4533d509ffbd5d3ad4e',\n",
       " 'https://preview.redd.it/97btrua4zro41.jpg?width=640&height=549&crop=smart&auto=webp&s=e6e8454b5fd8525ad12dceb1fb9ed28bcbf4eddc',\n",
       " 'https://preview.redd.it/89864q04tmp41.jpg?width=640&height=761&crop=smart&auto=webp&s=64ea4a123afa7bf786aab4abf407e8041790f314',\n",
       " 'https://preview.redd.it/p0n2gxffwso41.png?width=640&height=590&crop=smart&auto=webp&s=7a060b2bd4b0aaf0ed9bdcba52d3638fc1c3c610',\n",
       " 'https://preview.redd.it/oaczkqez5lp41.jpg?width=640&height=634&crop=smart&auto=webp&s=5b364e3092f6a6c9891a2d260f6ed69d7f3f7374',\n",
       " 'https://preview.redd.it/t49pv6gozuo41.jpg?width=640&height=748&crop=smart&auto=webp&s=03ae3bbfb5bb0509d138bd82572f9807cb000881',\n",
       " 'https://preview.redd.it/vrwky0ecd0p41.jpg?width=640&height=708&crop=smart&auto=webp&s=faea8bcb5f0c030a50adb88ac13ec59018340937',\n",
       " 'https://preview.redd.it/0rsybsgptqp41.png?width=640&height=680&crop=smart&auto=webp&s=43d5f7885be97617fb05cb89550f4af68ad92d19',\n",
       " 'https://preview.redd.it/squn6szmalp41.png?width=640&height=585&crop=smart&auto=webp&s=436591c353b827c734d3c62c424d786beeb0ab60',\n",
       " 'https://preview.redd.it/xh6wnxvjl7p41.jpg?width=640&height=532&crop=smart&auto=webp&s=86daea7bd745d8782b8aeb7e46dfb5ba8c49e3a1',\n",
       " 'https://preview.redd.it/ypmbu4ae17p41.jpg?width=640&height=893&crop=smart&auto=webp&s=62b38d45cb517710917e38b72a26d185a127a8b8']"
      ]
     },
     "execution_count": 11,
     "metadata": {},
     "output_type": "execute_result"
    }
   ],
   "source": [
    "images"
   ]
  },
  {
   "cell_type": "code",
   "execution_count": 12,
   "metadata": {},
   "outputs": [],
   "source": [
    "meme_df = pd.DataFrame({\"Memes\":images})"
   ]
  },
  {
   "cell_type": "code",
   "execution_count": 13,
   "metadata": {},
   "outputs": [
    {
     "data": {
      "text/html": [
       "<div>\n",
       "<style scoped>\n",
       "    .dataframe tbody tr th:only-of-type {\n",
       "        vertical-align: middle;\n",
       "    }\n",
       "\n",
       "    .dataframe tbody tr th {\n",
       "        vertical-align: top;\n",
       "    }\n",
       "\n",
       "    .dataframe thead th {\n",
       "        text-align: right;\n",
       "    }\n",
       "</style>\n",
       "<table border=\"1\" class=\"dataframe\">\n",
       "  <thead>\n",
       "    <tr style=\"text-align: right;\">\n",
       "      <th></th>\n",
       "      <th>Memes</th>\n",
       "    </tr>\n",
       "  </thead>\n",
       "  <tbody>\n",
       "    <tr>\n",
       "      <td>0</td>\n",
       "      <td>https://preview.redd.it/24smtius5dg41.jpg?widt...</td>\n",
       "    </tr>\n",
       "    <tr>\n",
       "      <td>1</td>\n",
       "      <td>https://preview.redd.it/g0ntijya7to41.jpg?widt...</td>\n",
       "    </tr>\n",
       "    <tr>\n",
       "      <td>2</td>\n",
       "      <td>https://external-preview.redd.it/zJsf1l2rQ07tY...</td>\n",
       "    </tr>\n",
       "    <tr>\n",
       "      <td>3</td>\n",
       "      <td>https://preview.redd.it/g8u12cmuggp41.jpg?widt...</td>\n",
       "    </tr>\n",
       "    <tr>\n",
       "      <td>4</td>\n",
       "      <td>https://preview.redd.it/89mep1u1mrp41.jpg?widt...</td>\n",
       "    </tr>\n",
       "    <tr>\n",
       "      <td>5</td>\n",
       "      <td>https://preview.redd.it/6chyjyvgzzo41.jpg?widt...</td>\n",
       "    </tr>\n",
       "    <tr>\n",
       "      <td>6</td>\n",
       "      <td>https://preview.redd.it/mgj1xku3rhp41.jpg?widt...</td>\n",
       "    </tr>\n",
       "    <tr>\n",
       "      <td>7</td>\n",
       "      <td>https://preview.redd.it/fzd9i1e0ozo41.jpg?widt...</td>\n",
       "    </tr>\n",
       "    <tr>\n",
       "      <td>8</td>\n",
       "      <td>https://preview.redd.it/ks7akog0kmo41.jpg?widt...</td>\n",
       "    </tr>\n",
       "    <tr>\n",
       "      <td>9</td>\n",
       "      <td>https://preview.redd.it/ug8i8uxjnno41.jpg?widt...</td>\n",
       "    </tr>\n",
       "    <tr>\n",
       "      <td>10</td>\n",
       "      <td>https://preview.redd.it/3cv0ievm1uo41.jpg?widt...</td>\n",
       "    </tr>\n",
       "    <tr>\n",
       "      <td>11</td>\n",
       "      <td>https://external-preview.redd.it/FiT9ge4R_b0dz...</td>\n",
       "    </tr>\n",
       "    <tr>\n",
       "      <td>12</td>\n",
       "      <td>https://preview.redd.it/ylmr1ldb2tp41.jpg?widt...</td>\n",
       "    </tr>\n",
       "    <tr>\n",
       "      <td>13</td>\n",
       "      <td>https://preview.redd.it/ff1edtgugdp41.jpg?widt...</td>\n",
       "    </tr>\n",
       "    <tr>\n",
       "      <td>14</td>\n",
       "      <td>https://preview.redd.it/m9ze0hpk5qo41.jpg?widt...</td>\n",
       "    </tr>\n",
       "    <tr>\n",
       "      <td>15</td>\n",
       "      <td>https://preview.redd.it/wypwvpxy0xo41.jpg?widt...</td>\n",
       "    </tr>\n",
       "    <tr>\n",
       "      <td>16</td>\n",
       "      <td>https://preview.redd.it/i1pfj38rtep41.jpg?widt...</td>\n",
       "    </tr>\n",
       "    <tr>\n",
       "      <td>17</td>\n",
       "      <td>https://preview.redd.it/97btrua4zro41.jpg?widt...</td>\n",
       "    </tr>\n",
       "    <tr>\n",
       "      <td>18</td>\n",
       "      <td>https://preview.redd.it/89864q04tmp41.jpg?widt...</td>\n",
       "    </tr>\n",
       "    <tr>\n",
       "      <td>19</td>\n",
       "      <td>https://preview.redd.it/p0n2gxffwso41.png?widt...</td>\n",
       "    </tr>\n",
       "    <tr>\n",
       "      <td>20</td>\n",
       "      <td>https://preview.redd.it/oaczkqez5lp41.jpg?widt...</td>\n",
       "    </tr>\n",
       "    <tr>\n",
       "      <td>21</td>\n",
       "      <td>https://preview.redd.it/t49pv6gozuo41.jpg?widt...</td>\n",
       "    </tr>\n",
       "    <tr>\n",
       "      <td>22</td>\n",
       "      <td>https://preview.redd.it/vrwky0ecd0p41.jpg?widt...</td>\n",
       "    </tr>\n",
       "    <tr>\n",
       "      <td>23</td>\n",
       "      <td>https://preview.redd.it/0rsybsgptqp41.png?widt...</td>\n",
       "    </tr>\n",
       "    <tr>\n",
       "      <td>24</td>\n",
       "      <td>https://preview.redd.it/squn6szmalp41.png?widt...</td>\n",
       "    </tr>\n",
       "    <tr>\n",
       "      <td>25</td>\n",
       "      <td>https://preview.redd.it/xh6wnxvjl7p41.jpg?widt...</td>\n",
       "    </tr>\n",
       "    <tr>\n",
       "      <td>26</td>\n",
       "      <td>https://preview.redd.it/ypmbu4ae17p41.jpg?widt...</td>\n",
       "    </tr>\n",
       "  </tbody>\n",
       "</table>\n",
       "</div>"
      ],
      "text/plain": [
       "                                                Memes\n",
       "0   https://preview.redd.it/24smtius5dg41.jpg?widt...\n",
       "1   https://preview.redd.it/g0ntijya7to41.jpg?widt...\n",
       "2   https://external-preview.redd.it/zJsf1l2rQ07tY...\n",
       "3   https://preview.redd.it/g8u12cmuggp41.jpg?widt...\n",
       "4   https://preview.redd.it/89mep1u1mrp41.jpg?widt...\n",
       "5   https://preview.redd.it/6chyjyvgzzo41.jpg?widt...\n",
       "6   https://preview.redd.it/mgj1xku3rhp41.jpg?widt...\n",
       "7   https://preview.redd.it/fzd9i1e0ozo41.jpg?widt...\n",
       "8   https://preview.redd.it/ks7akog0kmo41.jpg?widt...\n",
       "9   https://preview.redd.it/ug8i8uxjnno41.jpg?widt...\n",
       "10  https://preview.redd.it/3cv0ievm1uo41.jpg?widt...\n",
       "11  https://external-preview.redd.it/FiT9ge4R_b0dz...\n",
       "12  https://preview.redd.it/ylmr1ldb2tp41.jpg?widt...\n",
       "13  https://preview.redd.it/ff1edtgugdp41.jpg?widt...\n",
       "14  https://preview.redd.it/m9ze0hpk5qo41.jpg?widt...\n",
       "15  https://preview.redd.it/wypwvpxy0xo41.jpg?widt...\n",
       "16  https://preview.redd.it/i1pfj38rtep41.jpg?widt...\n",
       "17  https://preview.redd.it/97btrua4zro41.jpg?widt...\n",
       "18  https://preview.redd.it/89864q04tmp41.jpg?widt...\n",
       "19  https://preview.redd.it/p0n2gxffwso41.png?widt...\n",
       "20  https://preview.redd.it/oaczkqez5lp41.jpg?widt...\n",
       "21  https://preview.redd.it/t49pv6gozuo41.jpg?widt...\n",
       "22  https://preview.redd.it/vrwky0ecd0p41.jpg?widt...\n",
       "23  https://preview.redd.it/0rsybsgptqp41.png?widt...\n",
       "24  https://preview.redd.it/squn6szmalp41.png?widt...\n",
       "25  https://preview.redd.it/xh6wnxvjl7p41.jpg?widt...\n",
       "26  https://preview.redd.it/ypmbu4ae17p41.jpg?widt..."
      ]
     },
     "execution_count": 13,
     "metadata": {},
     "output_type": "execute_result"
    }
   ],
   "source": [
    "meme_df"
   ]
  },
  {
   "cell_type": "code",
   "execution_count": 14,
   "metadata": {},
   "outputs": [],
   "source": [
    "meme_df.to_csv('static/csv/memes.csv', index=False, header=True)"
   ]
  },
  {
   "cell_type": "code",
   "execution_count": 15,
   "metadata": {},
   "outputs": [],
   "source": [
    "browser.quit()"
   ]
  }
 ],
 "metadata": {
  "kernelspec": {
   "display_name": "Python 3",
   "language": "python",
   "name": "python3"
  },
  "language_info": {
   "codemirror_mode": {
    "name": "ipython",
    "version": 3
   },
   "file_extension": ".py",
   "mimetype": "text/x-python",
   "name": "python",
   "nbconvert_exporter": "python",
   "pygments_lexer": "ipython3",
   "version": "3.7.4"
  }
 },
 "nbformat": 4,
 "nbformat_minor": 2
}
