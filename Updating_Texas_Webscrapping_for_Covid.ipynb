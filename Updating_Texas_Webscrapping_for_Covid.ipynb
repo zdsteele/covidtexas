{
 "cells": [
  {
   "cell_type": "code",
   "execution_count": 1,
   "metadata": {},
   "outputs": [],
   "source": [
    "import pandas as pd\n",
    "import numpy as np\n",
    "from bs4 import BeautifulSoup as bs\n",
    "from time import sleep\n",
    "from datetime import datetime\n",
    "from splinter import Browser\n",
    "from selenium.webdriver.common.keys import Keys\n",
    "import time\n",
    "import json\n",
    "\n",
    "import os\n",
    "import shutil"
   ]
  },
  {
   "cell_type": "code",
   "execution_count": null,
   "metadata": {},
   "outputs": [],
   "source": []
  },
  {
   "cell_type": "code",
   "execution_count": null,
   "metadata": {},
   "outputs": [],
   "source": []
  },
  {
   "cell_type": "code",
   "execution_count": 2,
   "metadata": {},
   "outputs": [],
   "source": [
    "url = 'https://www.reddit.com/r/CoronavirusMemes/'"
   ]
  },
  {
   "cell_type": "code",
   "execution_count": 3,
   "metadata": {},
   "outputs": [],
   "source": [
    "url2 = 'https://www.reddit.com/r/memes/comments/f2fi3z/covid19/'"
   ]
  },
  {
   "cell_type": "code",
   "execution_count": 4,
   "metadata": {},
   "outputs": [],
   "source": [
    "# Path to chromedriver.exe\n",
    "executable_path = {'executable_path':'C:/Users/zacha/AppData/Local/bin/chromedriver.exe'}\n",
    "\n",
    "# Open the Splinter Browswer\n",
    "browser = Browser('chrome', **executable_path)"
   ]
  },
  {
   "cell_type": "code",
   "execution_count": 5,
   "metadata": {},
   "outputs": [],
   "source": [
    "browser.visit(url)\n",
    "time.sleep(10)"
   ]
  },
  {
   "cell_type": "code",
   "execution_count": 6,
   "metadata": {},
   "outputs": [],
   "source": [
    "html = browser.html\n",
    "soup = bs(html, 'html.parser')"
   ]
  },
  {
   "cell_type": "code",
   "execution_count": 7,
   "metadata": {},
   "outputs": [],
   "source": [
    "memes = soup.find_all('div', class_='_3Oa0THmZ3f5iZXAQ0hBJ0k')"
   ]
  },
  {
   "cell_type": "code",
   "execution_count": 8,
   "metadata": {},
   "outputs": [
    {
     "data": {
      "text/plain": [
       "[<div class=\"_3Oa0THmZ3f5iZXAQ0hBJ0k\" style=\"max-height:512px;margin:0 auto\"><div><img alt=\"Post image\" class=\"_2_tDEnGMLxpM6uOa2kaDB3 ImageBox-image media-element _1XWObl-3b9tPy64oaG6fax\" src=\"https://preview.redd.it/6ge9ateugdq41.jpg?width=640&amp;crop=smart&amp;auto=webp&amp;s=f5f25573c8d7287e5d9dad464cd01e0b21fb85d5\" style=\"max-height:512px\"/></div></div>,\n",
       " <div class=\"_3Oa0THmZ3f5iZXAQ0hBJ0k\" style=\"max-height:512px;margin:0 auto\"><div><img alt=\"Post image\" class=\"_2_tDEnGMLxpM6uOa2kaDB3 ImageBox-image media-element _1XWObl-3b9tPy64oaG6fax\" src=\"https://external-preview.redd.it/Vc9eDv0Y6wlqsz3kr0GjrRzlyWqcGGzGv05_ieTaHn4.jpg?width=640&amp;crop=smart&amp;auto=webp&amp;s=d7c06dc3d3b07ac9690df826848823b7ebd320bc\" style=\"max-height:512px\"/></div></div>,\n",
       " <div class=\"_3Oa0THmZ3f5iZXAQ0hBJ0k\" style=\"max-height:512px;margin:0 auto\"><div><img alt=\"Post image\" class=\"_2_tDEnGMLxpM6uOa2kaDB3 ImageBox-image media-element _1XWObl-3b9tPy64oaG6fax\" src=\"https://preview.redd.it/yuoafm8akgq41.jpg?width=640&amp;crop=smart&amp;auto=webp&amp;s=9984f45af4e7a7a6ee19d18e7bd46354c2f1f9bc\" style=\"max-height:512px\"/></div></div>,\n",
       " <div class=\"_3Oa0THmZ3f5iZXAQ0hBJ0k\" style=\"max-height:512px;margin:0 auto\"><div><img alt=\"Post image\" class=\"_2_tDEnGMLxpM6uOa2kaDB3 ImageBox-image media-element _1XWObl-3b9tPy64oaG6fax\" src=\"https://preview.redd.it/1t4d8ff7ucq41.jpg?width=640&amp;crop=smart&amp;auto=webp&amp;s=f963dc50220076050bc4e2cb9b4ec0b01d68e736\" style=\"max-height:512px\"/></div></div>,\n",
       " <div class=\"_3Oa0THmZ3f5iZXAQ0hBJ0k\" style=\"max-height:512px;margin:0 auto\"><div><img alt=\"Post image\" class=\"_2_tDEnGMLxpM6uOa2kaDB3 ImageBox-image media-element _1XWObl-3b9tPy64oaG6fax\" src=\"https://i.redd.it/1e3vzmdukeq41.png\" style=\"max-height:512px\"/></div></div>,\n",
       " <div class=\"_3Oa0THmZ3f5iZXAQ0hBJ0k\" style=\"max-height:512px;margin:0 auto\"><div><img alt=\"Post image\" class=\"_2_tDEnGMLxpM6uOa2kaDB3 ImageBox-image media-element _1XWObl-3b9tPy64oaG6fax\" src=\"https://preview.redd.it/3bi57tn5xfq41.jpg?width=640&amp;crop=smart&amp;auto=webp&amp;s=29101656201742ed3e733f0778f4ad1e15367370\" style=\"max-height:512px\"/></div></div>,\n",
       " <div class=\"_3Oa0THmZ3f5iZXAQ0hBJ0k\" style=\"max-height:512px;margin:0 auto\"><div><img alt=\"Post image\" class=\"_2_tDEnGMLxpM6uOa2kaDB3 ImageBox-image media-element _1XWObl-3b9tPy64oaG6fax\" src=\"https://preview.redd.it/jishxrf1qgq41.jpg?width=640&amp;crop=smart&amp;auto=webp&amp;s=2c47a21074c317e29d982c56d274294b43960277\" style=\"max-height:512px\"/></div></div>,\n",
       " <div class=\"_3Oa0THmZ3f5iZXAQ0hBJ0k\" style=\"max-height: 512px; margin: 0px auto;\"><div><img alt=\"Post image\" class=\"_2_tDEnGMLxpM6uOa2kaDB3 ImageBox-image media-element _1XWObl-3b9tPy64oaG6fax\" src=\"https://preview.redd.it/edwakjti3gq41.jpg?width=640&amp;crop=smart&amp;auto=webp&amp;s=a2e13d1bb0d8c4968b71073bf4915f4b2b6e2eea\" style=\"max-height: 512px;\"/></div></div>,\n",
       " <div class=\"_3Oa0THmZ3f5iZXAQ0hBJ0k\" style=\"max-height: 512px; margin: 0px auto;\"><div><img alt=\"Post image\" class=\"_2_tDEnGMLxpM6uOa2kaDB3 ImageBox-image media-element _1XWObl-3b9tPy64oaG6fax\" src=\"https://preview.redd.it/3tpgbm06veq41.jpg?width=640&amp;crop=smart&amp;auto=webp&amp;s=0ef536914678f20b8f9c421a2d370245a416f306\" style=\"max-height: 512px;\"/></div></div>,\n",
       " <div class=\"_3Oa0THmZ3f5iZXAQ0hBJ0k\" style=\"max-height: 512px; margin: 0px auto;\"><div><img alt=\"Post image\" class=\"_2_tDEnGMLxpM6uOa2kaDB3 ImageBox-image media-element _1XWObl-3b9tPy64oaG6fax\" src=\"https://preview.redd.it/qctorn7zghq41.jpg?width=640&amp;crop=smart&amp;auto=webp&amp;s=3ff0f12850e9e172d9ee8f71fcda36273352a8e1\" style=\"max-height: 512px;\"/></div></div>,\n",
       " <div class=\"_3Oa0THmZ3f5iZXAQ0hBJ0k\" style=\"max-height: 512px; margin: 0px auto;\"><div><img alt=\"Post image\" class=\"_2_tDEnGMLxpM6uOa2kaDB3 ImageBox-image media-element _1XWObl-3b9tPy64oaG6fax\" src=\"https://preview.redd.it/bnrhuvmsegq41.jpg?width=640&amp;crop=smart&amp;auto=webp&amp;s=676f82b84e0af0a5c906d299171bee83a907e412\" style=\"max-height: 512px;\"/></div></div>,\n",
       " <div class=\"_3Oa0THmZ3f5iZXAQ0hBJ0k\" style=\"max-height: 512px; margin: 0px auto;\"><div><img alt=\"Post image\" class=\"_2_tDEnGMLxpM6uOa2kaDB3 ImageBox-image media-element _1XWObl-3b9tPy64oaG6fax\" src=\"https://external-preview.redd.it/docgj5RhAeYxAdyKsNgowLX_1LOnt6K09VCV5EKs7Lk.jpg?width=640&amp;crop=smart&amp;auto=webp&amp;s=029e86e91636f91acddce82afd38d472b2a01957\" style=\"max-height: 512px;\"/></div></div>,\n",
       " <div class=\"_3Oa0THmZ3f5iZXAQ0hBJ0k\" style=\"max-height: 512px; margin: 0px auto;\"><div><img alt=\"Post image\" class=\"_2_tDEnGMLxpM6uOa2kaDB3 ImageBox-image media-element _1XWObl-3b9tPy64oaG6fax\" src=\"https://preview.redd.it/jp7k11tixgq41.jpg?width=640&amp;crop=smart&amp;auto=webp&amp;s=faa092e810e4d3dbe53fc53830d5ab64392f0137\" style=\"max-height: 512px;\"/></div></div>,\n",
       " <div class=\"_3Oa0THmZ3f5iZXAQ0hBJ0k\" style=\"max-height: 512px; margin: 0px auto;\"><div><img alt=\"Post image\" class=\"_2_tDEnGMLxpM6uOa2kaDB3 ImageBox-image media-element _1XWObl-3b9tPy64oaG6fax\" src=\"https://preview.redd.it/by8cmg88ufq41.jpg?width=640&amp;crop=smart&amp;auto=webp&amp;s=0fd6fcf5acdaa03361ad772b43b070c0a4e77573\" style=\"max-height: 512px;\"/></div></div>,\n",
       " <div class=\"_3Oa0THmZ3f5iZXAQ0hBJ0k\" style=\"max-height: 512px; margin: 0px auto;\"><div><img alt=\"Post image\" class=\"_2_tDEnGMLxpM6uOa2kaDB3 ImageBox-image media-element _1XWObl-3b9tPy64oaG6fax\" src=\"https://preview.redd.it/nhsqz8ckagq41.jpg?width=640&amp;crop=smart&amp;auto=webp&amp;s=d67d75dfc030d6cf9b324a3b28cd755b03c43442\" style=\"max-height: 512px;\"/></div></div>,\n",
       " <div class=\"_3Oa0THmZ3f5iZXAQ0hBJ0k\" style=\"max-height: 512px; margin: 0px auto;\"><div><img alt=\"Post image\" class=\"_2_tDEnGMLxpM6uOa2kaDB3 ImageBox-image media-element _1XWObl-3b9tPy64oaG6fax\" src=\"https://i.redd.it/qm1tw52crdq41.jpg\" style=\"max-height: 512px;\"/></div></div>,\n",
       " <div class=\"_3Oa0THmZ3f5iZXAQ0hBJ0k\" style=\"max-height: 512px; margin: 0px auto;\"><div><img alt=\"Post image\" class=\"_2_tDEnGMLxpM6uOa2kaDB3 ImageBox-image media-element _1XWObl-3b9tPy64oaG6fax\" src=\"https://preview.redd.it/wbfpt2m0ncq41.png?width=640&amp;crop=smart&amp;auto=webp&amp;s=af6b4ba308abc7869c88156febabfce78c2ea1f0\" style=\"max-height: 512px;\"/></div></div>,\n",
       " <div class=\"_3Oa0THmZ3f5iZXAQ0hBJ0k\" style=\"max-height: 512px; margin: 0px auto;\"><div><img alt=\"Post image\" class=\"_2_tDEnGMLxpM6uOa2kaDB3 ImageBox-image media-element _1XWObl-3b9tPy64oaG6fax\" src=\"https://i.redd.it/mlegn3bf8hq41.jpg\" style=\"max-height: 512px;\"/></div></div>,\n",
       " <div class=\"_3Oa0THmZ3f5iZXAQ0hBJ0k\" style=\"max-height: 512px; margin: 0px auto;\"><div><img alt=\"Post image\" class=\"_2_tDEnGMLxpM6uOa2kaDB3 ImageBox-image media-element _1XWObl-3b9tPy64oaG6fax\" src=\"https://preview.redd.it/f090qd1v6gq41.jpg?width=640&amp;crop=smart&amp;auto=webp&amp;s=daed57b4b1ae9d53a6e26953ad5a581665e5f429\" style=\"max-height: 512px;\"/></div></div>,\n",
       " <div class=\"_3Oa0THmZ3f5iZXAQ0hBJ0k\" style=\"max-height: 512px; margin: 0px auto;\"><div><img alt=\"Post image\" class=\"_2_tDEnGMLxpM6uOa2kaDB3 ImageBox-image media-element _1XWObl-3b9tPy64oaG6fax\" src=\"https://i.redd.it/5lvcuoylfgq41.png\" style=\"max-height: 512px;\"/></div></div>,\n",
       " <div class=\"_3Oa0THmZ3f5iZXAQ0hBJ0k\" style=\"max-height: 512px; margin: 0px auto;\"><div><img alt=\"Post image\" class=\"_2_tDEnGMLxpM6uOa2kaDB3 ImageBox-image media-element _1XWObl-3b9tPy64oaG6fax\" src=\"https://preview.redd.it/xir65runvgq41.jpg?width=640&amp;crop=smart&amp;auto=webp&amp;s=bbdb3b1be9d4779bea987b07f622bb5404dc5fb2\" style=\"max-height: 512px;\"/></div></div>,\n",
       " <div class=\"_3Oa0THmZ3f5iZXAQ0hBJ0k media-element\" style=\"overflow: hidden; max-height: 512px; margin: 0px auto;\"><div><img alt=\"Post image\" class=\"_2_tDEnGMLxpM6uOa2kaDB3 ImageBox-image _1XWObl-3b9tPy64oaG6fax\" src=\"https://preview.redd.it/fmhuw19m9fq41.jpg?width=640&amp;crop=smart&amp;auto=webp&amp;s=5512bdbab8ab95ad2fb1036ffd0d8c196469fded\"/></div><div class=\"_3hUbl08LBz2mbXjy0iYhOS\">see full image</div></div>,\n",
       " <div class=\"_3Oa0THmZ3f5iZXAQ0hBJ0k\" style=\"max-height: 512px; margin: 0px auto;\"><div><img alt=\"Post image\" class=\"_2_tDEnGMLxpM6uOa2kaDB3 ImageBox-image media-element _1XWObl-3b9tPy64oaG6fax\" src=\"https://preview.redd.it/1yzcnj36oaq41.jpg?width=640&amp;crop=smart&amp;auto=webp&amp;s=1e86d1030fffd6b5be3868743dc92340f7985a1c\" style=\"max-height: 512px;\"/></div></div>,\n",
       " <div class=\"_3Oa0THmZ3f5iZXAQ0hBJ0k\" style=\"max-height: 512px; margin: 0px auto;\"><div><img alt=\"Post image\" class=\"_2_tDEnGMLxpM6uOa2kaDB3 ImageBox-image media-element _1XWObl-3b9tPy64oaG6fax\" src=\"https://i.redd.it/fycwhrtngdq41.jpg\" style=\"max-height: 512px;\"/></div></div>,\n",
       " <div class=\"_3Oa0THmZ3f5iZXAQ0hBJ0k\" style=\"max-height: 512px; margin: 0px auto;\"><div><img alt=\"Post image\" class=\"_2_tDEnGMLxpM6uOa2kaDB3 ImageBox-image media-element _1XWObl-3b9tPy64oaG6fax\" src=\"https://preview.redd.it/9nhgjknt6eq41.jpg?width=640&amp;crop=smart&amp;auto=webp&amp;s=34f6b537ce65a6efae94e5b877d6cb04da4e17c3\" style=\"max-height: 512px;\"/></div></div>,\n",
       " <div class=\"_3Oa0THmZ3f5iZXAQ0hBJ0k\" style=\"max-height: 512px; margin: 0px auto;\"><div><img alt=\"Post image\" class=\"_2_tDEnGMLxpM6uOa2kaDB3 ImageBox-image media-element _1XWObl-3b9tPy64oaG6fax\" src=\"https://preview.redd.it/ed8g1c228eq41.jpg?width=640&amp;crop=smart&amp;auto=webp&amp;s=33e104d9acfbc681d90cb0a6a73effc549881223\" style=\"max-height: 512px;\"/></div></div>]"
      ]
     },
     "execution_count": 8,
     "metadata": {},
     "output_type": "execute_result"
    }
   ],
   "source": [
    "memes"
   ]
  },
  {
   "cell_type": "code",
   "execution_count": 9,
   "metadata": {},
   "outputs": [
    {
     "data": {
      "text/plain": [
       "26"
      ]
     },
     "execution_count": 9,
     "metadata": {},
     "output_type": "execute_result"
    }
   ],
   "source": [
    "len(memes)"
   ]
  },
  {
   "cell_type": "code",
   "execution_count": 10,
   "metadata": {},
   "outputs": [],
   "source": [
    "images = []"
   ]
  },
  {
   "cell_type": "code",
   "execution_count": 11,
   "metadata": {},
   "outputs": [],
   "source": [
    "for i in memes:\n",
    "    \n",
    "    image = i.find('img')['src']\n",
    "    images.append(image)"
   ]
  },
  {
   "cell_type": "code",
   "execution_count": 12,
   "metadata": {},
   "outputs": [],
   "source": [
    "browser.visit(url2)\n",
    "time.sleep(10)"
   ]
  },
  {
   "cell_type": "code",
   "execution_count": 13,
   "metadata": {},
   "outputs": [],
   "source": [
    "html = browser.html\n",
    "soup = bs(html, 'html.parser')"
   ]
  },
  {
   "cell_type": "code",
   "execution_count": 14,
   "metadata": {},
   "outputs": [],
   "source": [
    "memes2 = soup.find_all('div', class_='_3Oa0THmZ3f5iZXAQ0hBJ0k')"
   ]
  },
  {
   "cell_type": "code",
   "execution_count": 15,
   "metadata": {},
   "outputs": [],
   "source": [
    "for i in memes2:\n",
    "    image2 = i.find('img')['src']\n",
    "    images.append(image2)"
   ]
  },
  {
   "cell_type": "code",
   "execution_count": 16,
   "metadata": {},
   "outputs": [],
   "source": [
    "meme_df = pd.DataFrame({\"Memes\":images})"
   ]
  },
  {
   "cell_type": "code",
   "execution_count": 17,
   "metadata": {},
   "outputs": [
    {
     "data": {
      "text/html": [
       "<div>\n",
       "<style scoped>\n",
       "    .dataframe tbody tr th:only-of-type {\n",
       "        vertical-align: middle;\n",
       "    }\n",
       "\n",
       "    .dataframe tbody tr th {\n",
       "        vertical-align: top;\n",
       "    }\n",
       "\n",
       "    .dataframe thead th {\n",
       "        text-align: right;\n",
       "    }\n",
       "</style>\n",
       "<table border=\"1\" class=\"dataframe\">\n",
       "  <thead>\n",
       "    <tr style=\"text-align: right;\">\n",
       "      <th></th>\n",
       "      <th>Memes</th>\n",
       "    </tr>\n",
       "  </thead>\n",
       "  <tbody>\n",
       "    <tr>\n",
       "      <td>0</td>\n",
       "      <td>https://preview.redd.it/6ge9ateugdq41.jpg?widt...</td>\n",
       "    </tr>\n",
       "    <tr>\n",
       "      <td>1</td>\n",
       "      <td>https://external-preview.redd.it/Vc9eDv0Y6wlqs...</td>\n",
       "    </tr>\n",
       "    <tr>\n",
       "      <td>2</td>\n",
       "      <td>https://preview.redd.it/yuoafm8akgq41.jpg?widt...</td>\n",
       "    </tr>\n",
       "    <tr>\n",
       "      <td>3</td>\n",
       "      <td>https://preview.redd.it/1t4d8ff7ucq41.jpg?widt...</td>\n",
       "    </tr>\n",
       "    <tr>\n",
       "      <td>4</td>\n",
       "      <td>https://i.redd.it/1e3vzmdukeq41.png</td>\n",
       "    </tr>\n",
       "    <tr>\n",
       "      <td>5</td>\n",
       "      <td>https://preview.redd.it/3bi57tn5xfq41.jpg?widt...</td>\n",
       "    </tr>\n",
       "    <tr>\n",
       "      <td>6</td>\n",
       "      <td>https://preview.redd.it/jishxrf1qgq41.jpg?widt...</td>\n",
       "    </tr>\n",
       "    <tr>\n",
       "      <td>7</td>\n",
       "      <td>https://preview.redd.it/edwakjti3gq41.jpg?widt...</td>\n",
       "    </tr>\n",
       "    <tr>\n",
       "      <td>8</td>\n",
       "      <td>https://preview.redd.it/3tpgbm06veq41.jpg?widt...</td>\n",
       "    </tr>\n",
       "    <tr>\n",
       "      <td>9</td>\n",
       "      <td>https://preview.redd.it/qctorn7zghq41.jpg?widt...</td>\n",
       "    </tr>\n",
       "    <tr>\n",
       "      <td>10</td>\n",
       "      <td>https://preview.redd.it/bnrhuvmsegq41.jpg?widt...</td>\n",
       "    </tr>\n",
       "    <tr>\n",
       "      <td>11</td>\n",
       "      <td>https://external-preview.redd.it/docgj5RhAeYxA...</td>\n",
       "    </tr>\n",
       "    <tr>\n",
       "      <td>12</td>\n",
       "      <td>https://preview.redd.it/jp7k11tixgq41.jpg?widt...</td>\n",
       "    </tr>\n",
       "    <tr>\n",
       "      <td>13</td>\n",
       "      <td>https://preview.redd.it/by8cmg88ufq41.jpg?widt...</td>\n",
       "    </tr>\n",
       "    <tr>\n",
       "      <td>14</td>\n",
       "      <td>https://preview.redd.it/nhsqz8ckagq41.jpg?widt...</td>\n",
       "    </tr>\n",
       "    <tr>\n",
       "      <td>15</td>\n",
       "      <td>https://i.redd.it/qm1tw52crdq41.jpg</td>\n",
       "    </tr>\n",
       "    <tr>\n",
       "      <td>16</td>\n",
       "      <td>https://preview.redd.it/wbfpt2m0ncq41.png?widt...</td>\n",
       "    </tr>\n",
       "    <tr>\n",
       "      <td>17</td>\n",
       "      <td>https://i.redd.it/mlegn3bf8hq41.jpg</td>\n",
       "    </tr>\n",
       "    <tr>\n",
       "      <td>18</td>\n",
       "      <td>https://preview.redd.it/f090qd1v6gq41.jpg?widt...</td>\n",
       "    </tr>\n",
       "    <tr>\n",
       "      <td>19</td>\n",
       "      <td>https://i.redd.it/5lvcuoylfgq41.png</td>\n",
       "    </tr>\n",
       "    <tr>\n",
       "      <td>20</td>\n",
       "      <td>https://preview.redd.it/xir65runvgq41.jpg?widt...</td>\n",
       "    </tr>\n",
       "    <tr>\n",
       "      <td>21</td>\n",
       "      <td>https://preview.redd.it/fmhuw19m9fq41.jpg?widt...</td>\n",
       "    </tr>\n",
       "    <tr>\n",
       "      <td>22</td>\n",
       "      <td>https://preview.redd.it/1yzcnj36oaq41.jpg?widt...</td>\n",
       "    </tr>\n",
       "    <tr>\n",
       "      <td>23</td>\n",
       "      <td>https://i.redd.it/fycwhrtngdq41.jpg</td>\n",
       "    </tr>\n",
       "    <tr>\n",
       "      <td>24</td>\n",
       "      <td>https://preview.redd.it/9nhgjknt6eq41.jpg?widt...</td>\n",
       "    </tr>\n",
       "    <tr>\n",
       "      <td>25</td>\n",
       "      <td>https://preview.redd.it/ed8g1c228eq41.jpg?widt...</td>\n",
       "    </tr>\n",
       "    <tr>\n",
       "      <td>26</td>\n",
       "      <td>https://preview.redd.it/24smtius5dg41.jpg?widt...</td>\n",
       "    </tr>\n",
       "    <tr>\n",
       "      <td>27</td>\n",
       "      <td>https://preview.redd.it/g8u12cmuggp41.jpg?widt...</td>\n",
       "    </tr>\n",
       "    <tr>\n",
       "      <td>28</td>\n",
       "      <td>https://external-preview.redd.it/docgj5RhAeYxA...</td>\n",
       "    </tr>\n",
       "    <tr>\n",
       "      <td>29</td>\n",
       "      <td>https://preview.redd.it/89mep1u1mrp41.jpg?widt...</td>\n",
       "    </tr>\n",
       "    <tr>\n",
       "      <td>30</td>\n",
       "      <td>https://preview.redd.it/mgj1xku3rhp41.jpg?widt...</td>\n",
       "    </tr>\n",
       "    <tr>\n",
       "      <td>31</td>\n",
       "      <td>https://preview.redd.it/ylmr1ldb2tp41.jpg?widt...</td>\n",
       "    </tr>\n",
       "    <tr>\n",
       "      <td>32</td>\n",
       "      <td>https://preview.redd.it/gm0sc5uzvvp41.jpg?widt...</td>\n",
       "    </tr>\n",
       "    <tr>\n",
       "      <td>33</td>\n",
       "      <td>https://preview.redd.it/d2ixcp85zeq41.jpg?widt...</td>\n",
       "    </tr>\n",
       "    <tr>\n",
       "      <td>34</td>\n",
       "      <td>https://preview.redd.it/xsodm4c243q41.jpg?widt...</td>\n",
       "    </tr>\n",
       "    <tr>\n",
       "      <td>35</td>\n",
       "      <td>https://preview.redd.it/ff1edtgugdp41.jpg?widt...</td>\n",
       "    </tr>\n",
       "    <tr>\n",
       "      <td>36</td>\n",
       "      <td>https://preview.redd.it/zaiditb12zp41.png?widt...</td>\n",
       "    </tr>\n",
       "    <tr>\n",
       "      <td>37</td>\n",
       "      <td>https://preview.redd.it/ckvvbpbqt0q41.jpg?widt...</td>\n",
       "    </tr>\n",
       "    <tr>\n",
       "      <td>38</td>\n",
       "      <td>https://external-preview.redd.it/6Oj5CTFyCxVjU...</td>\n",
       "    </tr>\n",
       "    <tr>\n",
       "      <td>39</td>\n",
       "      <td>https://preview.redd.it/35mki814lyp41.jpg?widt...</td>\n",
       "    </tr>\n",
       "    <tr>\n",
       "      <td>40</td>\n",
       "      <td>https://preview.redd.it/i1pfj38rtep41.jpg?widt...</td>\n",
       "    </tr>\n",
       "    <tr>\n",
       "      <td>41</td>\n",
       "      <td>https://preview.redd.it/89864q04tmp41.jpg?widt...</td>\n",
       "    </tr>\n",
       "    <tr>\n",
       "      <td>42</td>\n",
       "      <td>https://preview.redd.it/lxqc9y0c7xp41.jpg?widt...</td>\n",
       "    </tr>\n",
       "    <tr>\n",
       "      <td>43</td>\n",
       "      <td>https://preview.redd.it/oaczkqez5lp41.jpg?widt...</td>\n",
       "    </tr>\n",
       "    <tr>\n",
       "      <td>44</td>\n",
       "      <td>https://preview.redd.it/jlwuqapkvzp41.jpg?widt...</td>\n",
       "    </tr>\n",
       "    <tr>\n",
       "      <td>45</td>\n",
       "      <td>https://preview.redd.it/t0cqo1vi55q41.jpg?widt...</td>\n",
       "    </tr>\n",
       "    <tr>\n",
       "      <td>46</td>\n",
       "      <td>https://preview.redd.it/4mvdtpdelbq41.jpg?widt...</td>\n",
       "    </tr>\n",
       "    <tr>\n",
       "      <td>47</td>\n",
       "      <td>https://preview.redd.it/0rsybsgptqp41.png?widt...</td>\n",
       "    </tr>\n",
       "    <tr>\n",
       "      <td>48</td>\n",
       "      <td>https://external-preview.redd.it/9sOnPOW42ABLm...</td>\n",
       "    </tr>\n",
       "    <tr>\n",
       "      <td>49</td>\n",
       "      <td>https://preview.redd.it/ob02fws0itp41.jpg?widt...</td>\n",
       "    </tr>\n",
       "    <tr>\n",
       "      <td>50</td>\n",
       "      <td>https://preview.redd.it/3i9rdgvlp9q41.jpg?widt...</td>\n",
       "    </tr>\n",
       "    <tr>\n",
       "      <td>51</td>\n",
       "      <td>https://i.redd.it/ohbuj6gbhyp41.jpg</td>\n",
       "    </tr>\n",
       "    <tr>\n",
       "      <td>52</td>\n",
       "      <td>https://preview.redd.it/zc41arw4rup41.jpg?widt...</td>\n",
       "    </tr>\n",
       "    <tr>\n",
       "      <td>53</td>\n",
       "      <td>https://preview.redd.it/squn6szmalp41.png?widt...</td>\n",
       "    </tr>\n",
       "    <tr>\n",
       "      <td>54</td>\n",
       "      <td>https://preview.redd.it/ypmbu4ae17p41.jpg?widt...</td>\n",
       "    </tr>\n",
       "  </tbody>\n",
       "</table>\n",
       "</div>"
      ],
      "text/plain": [
       "                                                Memes\n",
       "0   https://preview.redd.it/6ge9ateugdq41.jpg?widt...\n",
       "1   https://external-preview.redd.it/Vc9eDv0Y6wlqs...\n",
       "2   https://preview.redd.it/yuoafm8akgq41.jpg?widt...\n",
       "3   https://preview.redd.it/1t4d8ff7ucq41.jpg?widt...\n",
       "4                 https://i.redd.it/1e3vzmdukeq41.png\n",
       "5   https://preview.redd.it/3bi57tn5xfq41.jpg?widt...\n",
       "6   https://preview.redd.it/jishxrf1qgq41.jpg?widt...\n",
       "7   https://preview.redd.it/edwakjti3gq41.jpg?widt...\n",
       "8   https://preview.redd.it/3tpgbm06veq41.jpg?widt...\n",
       "9   https://preview.redd.it/qctorn7zghq41.jpg?widt...\n",
       "10  https://preview.redd.it/bnrhuvmsegq41.jpg?widt...\n",
       "11  https://external-preview.redd.it/docgj5RhAeYxA...\n",
       "12  https://preview.redd.it/jp7k11tixgq41.jpg?widt...\n",
       "13  https://preview.redd.it/by8cmg88ufq41.jpg?widt...\n",
       "14  https://preview.redd.it/nhsqz8ckagq41.jpg?widt...\n",
       "15                https://i.redd.it/qm1tw52crdq41.jpg\n",
       "16  https://preview.redd.it/wbfpt2m0ncq41.png?widt...\n",
       "17                https://i.redd.it/mlegn3bf8hq41.jpg\n",
       "18  https://preview.redd.it/f090qd1v6gq41.jpg?widt...\n",
       "19                https://i.redd.it/5lvcuoylfgq41.png\n",
       "20  https://preview.redd.it/xir65runvgq41.jpg?widt...\n",
       "21  https://preview.redd.it/fmhuw19m9fq41.jpg?widt...\n",
       "22  https://preview.redd.it/1yzcnj36oaq41.jpg?widt...\n",
       "23                https://i.redd.it/fycwhrtngdq41.jpg\n",
       "24  https://preview.redd.it/9nhgjknt6eq41.jpg?widt...\n",
       "25  https://preview.redd.it/ed8g1c228eq41.jpg?widt...\n",
       "26  https://preview.redd.it/24smtius5dg41.jpg?widt...\n",
       "27  https://preview.redd.it/g8u12cmuggp41.jpg?widt...\n",
       "28  https://external-preview.redd.it/docgj5RhAeYxA...\n",
       "29  https://preview.redd.it/89mep1u1mrp41.jpg?widt...\n",
       "30  https://preview.redd.it/mgj1xku3rhp41.jpg?widt...\n",
       "31  https://preview.redd.it/ylmr1ldb2tp41.jpg?widt...\n",
       "32  https://preview.redd.it/gm0sc5uzvvp41.jpg?widt...\n",
       "33  https://preview.redd.it/d2ixcp85zeq41.jpg?widt...\n",
       "34  https://preview.redd.it/xsodm4c243q41.jpg?widt...\n",
       "35  https://preview.redd.it/ff1edtgugdp41.jpg?widt...\n",
       "36  https://preview.redd.it/zaiditb12zp41.png?widt...\n",
       "37  https://preview.redd.it/ckvvbpbqt0q41.jpg?widt...\n",
       "38  https://external-preview.redd.it/6Oj5CTFyCxVjU...\n",
       "39  https://preview.redd.it/35mki814lyp41.jpg?widt...\n",
       "40  https://preview.redd.it/i1pfj38rtep41.jpg?widt...\n",
       "41  https://preview.redd.it/89864q04tmp41.jpg?widt...\n",
       "42  https://preview.redd.it/lxqc9y0c7xp41.jpg?widt...\n",
       "43  https://preview.redd.it/oaczkqez5lp41.jpg?widt...\n",
       "44  https://preview.redd.it/jlwuqapkvzp41.jpg?widt...\n",
       "45  https://preview.redd.it/t0cqo1vi55q41.jpg?widt...\n",
       "46  https://preview.redd.it/4mvdtpdelbq41.jpg?widt...\n",
       "47  https://preview.redd.it/0rsybsgptqp41.png?widt...\n",
       "48  https://external-preview.redd.it/9sOnPOW42ABLm...\n",
       "49  https://preview.redd.it/ob02fws0itp41.jpg?widt...\n",
       "50  https://preview.redd.it/3i9rdgvlp9q41.jpg?widt...\n",
       "51                https://i.redd.it/ohbuj6gbhyp41.jpg\n",
       "52  https://preview.redd.it/zc41arw4rup41.jpg?widt...\n",
       "53  https://preview.redd.it/squn6szmalp41.png?widt...\n",
       "54  https://preview.redd.it/ypmbu4ae17p41.jpg?widt..."
      ]
     },
     "execution_count": 17,
     "metadata": {},
     "output_type": "execute_result"
    }
   ],
   "source": [
    "meme_df"
   ]
  },
  {
   "cell_type": "code",
   "execution_count": 18,
   "metadata": {},
   "outputs": [],
   "source": [
    "meme_df.to_csv('static/csv/memes.csv', index=False, header=True)"
   ]
  },
  {
   "cell_type": "code",
   "execution_count": 19,
   "metadata": {},
   "outputs": [],
   "source": [
    "browser.quit()"
   ]
  }
 ],
 "metadata": {
  "kernelspec": {
   "display_name": "Python 3",
   "language": "python",
   "name": "python3"
  },
  "language_info": {
   "codemirror_mode": {
    "name": "ipython",
    "version": 3
   },
   "file_extension": ".py",
   "mimetype": "text/x-python",
   "name": "python",
   "nbconvert_exporter": "python",
   "pygments_lexer": "ipython3",
   "version": "3.7.4"
  }
 },
 "nbformat": 4,
 "nbformat_minor": 2
}
