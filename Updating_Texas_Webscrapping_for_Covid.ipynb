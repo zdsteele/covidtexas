{
 "cells": [
  {
   "cell_type": "code",
   "execution_count": 1,
   "metadata": {},
   "outputs": [],
   "source": [
    "import pandas as pd\n",
    "import numpy as np\n",
    "from bs4 import BeautifulSoup as bs\n",
    "from time import sleep\n",
    "from datetime import datetime\n",
    "from splinter import Browser\n",
    "from selenium.webdriver.common.keys import Keys\n",
    "import time\n",
    "import json\n",
    "\n",
    "import os\n",
    "import shutil"
   ]
  },
  {
   "cell_type": "code",
   "execution_count": null,
   "metadata": {},
   "outputs": [],
   "source": []
  },
  {
   "cell_type": "code",
   "execution_count": null,
   "metadata": {},
   "outputs": [],
   "source": []
  },
  {
   "cell_type": "code",
   "execution_count": 2,
   "metadata": {},
   "outputs": [],
   "source": [
    "url = 'https://www.reddit.com/r/CoronavirusMemes/'"
   ]
  },
  {
   "cell_type": "code",
   "execution_count": 3,
   "metadata": {},
   "outputs": [],
   "source": [
    "url2 = 'https://www.reddit.com/r/memes/comments/f2fi3z/covid19/'"
   ]
  },
  {
   "cell_type": "code",
   "execution_count": 4,
   "metadata": {},
   "outputs": [],
   "source": [
    "# Path to chromedriver.exe\n",
    "executable_path = {'executable_path':'C:/Users/zacha/AppData/Local/bin/chromedriver.exe'}\n",
    "\n",
    "# Open the Splinter Browswer\n",
    "browser = Browser('chrome', **executable_path)"
   ]
  },
  {
   "cell_type": "code",
   "execution_count": 5,
   "metadata": {},
   "outputs": [],
   "source": [
    "browser.visit(url)\n",
    "time.sleep(10)"
   ]
  },
  {
   "cell_type": "code",
   "execution_count": 6,
   "metadata": {},
   "outputs": [],
   "source": [
    "html = browser.html\n",
    "soup = bs(html, 'html.parser')"
   ]
  },
  {
   "cell_type": "code",
   "execution_count": 7,
   "metadata": {},
   "outputs": [],
   "source": [
    "memes = soup.find_all('div', class_='_3Oa0THmZ3f5iZXAQ0hBJ0k')"
   ]
  },
  {
   "cell_type": "code",
   "execution_count": 8,
   "metadata": {},
   "outputs": [
    {
     "data": {
      "text/plain": [
       "[<div class=\"_3Oa0THmZ3f5iZXAQ0hBJ0k\" style=\"max-height:512px;margin:0 auto\"><div><img alt=\"Post image\" class=\"_2_tDEnGMLxpM6uOa2kaDB3 ImageBox-image media-element _1XWObl-3b9tPy64oaG6fax\" src=\"https://preview.redd.it/q07o8u5c0iq41.jpg?width=640&amp;crop=smart&amp;auto=webp&amp;s=d9dc5419bf2de3a3ba0adb7614b4c44456e71379\" style=\"max-height:512px\"/></div></div>,\n",
       " <div class=\"_3Oa0THmZ3f5iZXAQ0hBJ0k\" style=\"max-height:512px;margin:0 auto\"><div><img alt=\"Post image\" class=\"_2_tDEnGMLxpM6uOa2kaDB3 ImageBox-image media-element _1XWObl-3b9tPy64oaG6fax\" src=\"https://external-preview.redd.it/fEMp5G86NimuG2lTjIFk-gqybSnRVlmTWVFwObkjjZY.jpg?width=640&amp;crop=smart&amp;auto=webp&amp;s=62dd9d1bcd5ae746a857cc8d060a3db7615d0ce5\" style=\"max-height:512px\"/></div></div>,\n",
       " <div class=\"_3Oa0THmZ3f5iZXAQ0hBJ0k\" style=\"max-height:512px;margin:0 auto\"><div><img alt=\"Post image\" class=\"_2_tDEnGMLxpM6uOa2kaDB3 ImageBox-image media-element _1XWObl-3b9tPy64oaG6fax\" src=\"https://preview.redd.it/qctorn7zghq41.jpg?width=640&amp;crop=smart&amp;auto=webp&amp;s=3ff0f12850e9e172d9ee8f71fcda36273352a8e1\" style=\"max-height:512px\"/></div></div>,\n",
       " <div class=\"_3Oa0THmZ3f5iZXAQ0hBJ0k\" style=\"max-height:512px;margin:0 auto\"><div><img alt=\"Post image\" class=\"_2_tDEnGMLxpM6uOa2kaDB3 ImageBox-image media-element _1XWObl-3b9tPy64oaG6fax\" src=\"https://preview.redd.it/hs930r0t6lq41.png?width=640&amp;crop=smart&amp;auto=webp&amp;s=837335b16eaed77da528232f9462c62fe67ccb97\" style=\"max-height:512px\"/></div></div>,\n",
       " <div class=\"_3Oa0THmZ3f5iZXAQ0hBJ0k\" style=\"max-height:512px;margin:0 auto\"><div><img alt=\"Post image\" class=\"_2_tDEnGMLxpM6uOa2kaDB3 ImageBox-image media-element _1XWObl-3b9tPy64oaG6fax\" src=\"https://external-preview.redd.it/sMEQmdQPPoxHqXjXLv0H08BfaIErVOrYYJxzDtIbcQE.jpg?width=640&amp;crop=smart&amp;auto=webp&amp;s=74d2442aaa840ee2ea520ed0500983251b91a2f0\" style=\"max-height:512px\"/></div></div>,\n",
       " <div class=\"_3Oa0THmZ3f5iZXAQ0hBJ0k\" style=\"max-height:512px;margin:0 auto\"><div><img alt=\"Post image\" class=\"_2_tDEnGMLxpM6uOa2kaDB3 ImageBox-image media-element _1XWObl-3b9tPy64oaG6fax\" src=\"https://preview.redd.it/jc3md64yajq41.jpg?width=640&amp;crop=smart&amp;auto=webp&amp;s=2178f5f0ebb91806a557472ee5e86276e0dce9f1\" style=\"max-height:512px\"/></div></div>,\n",
       " <div class=\"_3Oa0THmZ3f5iZXAQ0hBJ0k\" style=\"max-height:512px;margin:0 auto\"><div><img alt=\"Post image\" class=\"_2_tDEnGMLxpM6uOa2kaDB3 ImageBox-image media-element _1XWObl-3b9tPy64oaG6fax\" src=\"https://preview.redd.it/yuoafm8akgq41.jpg?width=640&amp;crop=smart&amp;auto=webp&amp;s=9984f45af4e7a7a6ee19d18e7bd46354c2f1f9bc\" style=\"max-height:512px\"/></div></div>,\n",
       " <div class=\"_3Oa0THmZ3f5iZXAQ0hBJ0k\" style=\"max-height: 512px; margin: 0px auto;\"><div><img alt=\"Post image\" class=\"_2_tDEnGMLxpM6uOa2kaDB3 ImageBox-image media-element _1XWObl-3b9tPy64oaG6fax\" src=\"https://preview.redd.it/0ctvptibthq41.jpg?width=640&amp;crop=smart&amp;auto=webp&amp;s=f7ebafdb13bd91dd7bdddcd9a10331cc14e91ac5\" style=\"max-height: 512px;\"/></div></div>,\n",
       " <div class=\"_3Oa0THmZ3f5iZXAQ0hBJ0k\" style=\"max-height: 512px; margin: 0px auto;\"><div><img alt=\"Post image\" class=\"_2_tDEnGMLxpM6uOa2kaDB3 ImageBox-image media-element _1XWObl-3b9tPy64oaG6fax\" src=\"https://preview.redd.it/11l91ucjujq41.jpg?width=640&amp;crop=smart&amp;auto=webp&amp;s=9af38bb1303267e7e3d1c52bb68495b52f45ebc0\" style=\"max-height: 512px;\"/></div></div>,\n",
       " <div class=\"_3Oa0THmZ3f5iZXAQ0hBJ0k\" style=\"max-height: 512px; margin: 0px auto;\"><div><img alt=\"Post image\" class=\"_2_tDEnGMLxpM6uOa2kaDB3 ImageBox-image media-element _1XWObl-3b9tPy64oaG6fax\" src=\"https://preview.redd.it/ff6awcjvyjq41.jpg?width=640&amp;crop=smart&amp;auto=webp&amp;s=66655ed9ccc9dd8e212153045dc58845944ec2ba\" style=\"max-height: 512px;\"/></div></div>,\n",
       " <div class=\"_3Oa0THmZ3f5iZXAQ0hBJ0k\" style=\"max-height: 512px; margin: 0px auto;\"><div><img alt=\"Post image\" class=\"_2_tDEnGMLxpM6uOa2kaDB3 ImageBox-image media-element _1XWObl-3b9tPy64oaG6fax\" src=\"https://preview.redd.it/32fbiw0gdiq41.jpg?width=640&amp;crop=smart&amp;auto=webp&amp;s=26dc365c4b0979d7840803cee193307a973d8f00\" style=\"max-height: 512px;\"/></div></div>,\n",
       " <div class=\"_3Oa0THmZ3f5iZXAQ0hBJ0k\" style=\"max-height: 512px; margin: 0px auto;\"><div><img alt=\"Post image\" class=\"_2_tDEnGMLxpM6uOa2kaDB3 ImageBox-image media-element _1XWObl-3b9tPy64oaG6fax\" src=\"https://external-preview.redd.it/f-GaL-us2X0UVPgpGC7b0IH8pzcCi1inP-0P6d2Q_nY.jpg?width=640&amp;crop=smart&amp;auto=webp&amp;s=8fa7b94f777e5551b95ee3ef661da0cdf4248d62\" style=\"max-height: 512px;\"/></div></div>,\n",
       " <div class=\"_3Oa0THmZ3f5iZXAQ0hBJ0k\" style=\"max-height: 512px; margin: 0px auto;\"><div><img alt=\"Post image\" class=\"_2_tDEnGMLxpM6uOa2kaDB3 ImageBox-image media-element _1XWObl-3b9tPy64oaG6fax\" src=\"https://preview.redd.it/5i3l1cmk0kq41.jpg?width=640&amp;crop=smart&amp;auto=webp&amp;s=eec56bc9f6d096fd3b03931ca25dee717f09be19\" style=\"max-height: 512px;\"/></div></div>,\n",
       " <div class=\"_3Oa0THmZ3f5iZXAQ0hBJ0k\" style=\"max-height: 512px; margin: 0px auto;\"><div><img alt=\"Post image\" class=\"_2_tDEnGMLxpM6uOa2kaDB3 ImageBox-image media-element _1XWObl-3b9tPy64oaG6fax\" src=\"https://preview.redd.it/oln46cuo4iq41.png?width=640&amp;crop=smart&amp;auto=webp&amp;s=d41e8e60c6a746c29443d5756fdb56837f710ae6\" style=\"max-height: 512px;\"/></div></div>,\n",
       " <div class=\"_3Oa0THmZ3f5iZXAQ0hBJ0k\" style=\"max-height: 512px; margin: 0px auto;\"><div><img alt=\"Post image\" class=\"_2_tDEnGMLxpM6uOa2kaDB3 ImageBox-image media-element _1XWObl-3b9tPy64oaG6fax\" src=\"https://external-preview.redd.it/POvBbht_EYfxB9aeZ4sDzjHEKa3NQWzoOcLzCAlrNzQ.jpg?auto=webp&amp;s=1edf2cb0486ec108e80aafaebf010bdbecb8ce39\" style=\"max-height: 512px;\"/></div></div>,\n",
       " <div class=\"_3Oa0THmZ3f5iZXAQ0hBJ0k\" style=\"max-height: 512px; margin: 0px auto;\"><div><img alt=\"Post image\" class=\"_2_tDEnGMLxpM6uOa2kaDB3 ImageBox-image media-element _1XWObl-3b9tPy64oaG6fax\" src=\"https://preview.redd.it/8e8q9wzkclq41.jpg?width=640&amp;crop=smart&amp;auto=webp&amp;s=09b7fae197733a7885a6ab336a04da2622813ba5\" style=\"max-height: 512px;\"/></div></div>,\n",
       " <div class=\"_3Oa0THmZ3f5iZXAQ0hBJ0k\" style=\"max-height: 512px; margin: 0px auto;\"><div><img alt=\"Post image\" class=\"_2_tDEnGMLxpM6uOa2kaDB3 ImageBox-image media-element _1XWObl-3b9tPy64oaG6fax\" src=\"https://external-preview.redd.it/q_P4jPRGJcL-bZxds4U436xrrNiJaGUZ9x8M4o6iVJM.jpg?width=640&amp;crop=smart&amp;auto=webp&amp;s=bda2dbce4126d7719dd7537646e1835df8cbe6d9\" style=\"max-height: 512px;\"/></div></div>,\n",
       " <div class=\"_3Oa0THmZ3f5iZXAQ0hBJ0k\" style=\"max-height: 512px; margin: 0px auto;\"><div><img alt=\"Post image\" class=\"_2_tDEnGMLxpM6uOa2kaDB3 ImageBox-image media-element _1XWObl-3b9tPy64oaG6fax\" src=\"https://preview.redd.it/jxuufnnbklq41.jpg?width=640&amp;crop=smart&amp;auto=webp&amp;s=e87cb1c9b88bd1724f6c8e60977b9cf4cac7ae9f\" style=\"max-height: 512px;\"/></div></div>,\n",
       " <div class=\"_3Oa0THmZ3f5iZXAQ0hBJ0k\" style=\"max-height: 512px; margin: 0px auto;\"><div><img alt=\"Post image\" class=\"_2_tDEnGMLxpM6uOa2kaDB3 ImageBox-image media-element _1XWObl-3b9tPy64oaG6fax\" src=\"https://preview.redd.it/6ge9ateugdq41.jpg?width=640&amp;crop=smart&amp;auto=webp&amp;s=f5f25573c8d7287e5d9dad464cd01e0b21fb85d5\" style=\"max-height: 512px;\"/></div></div>,\n",
       " <div class=\"_3Oa0THmZ3f5iZXAQ0hBJ0k\" style=\"max-height: 512px; margin: 0px auto;\"><div><img alt=\"Post image\" class=\"_2_tDEnGMLxpM6uOa2kaDB3 ImageBox-image media-element _1XWObl-3b9tPy64oaG6fax\" src=\"https://preview.redd.it/4y9nlzoptjq41.jpg?width=640&amp;crop=smart&amp;auto=webp&amp;s=749c35dde3d4bd8e3a18823ea53b2a4f706522dd\" style=\"max-height: 512px;\"/></div></div>,\n",
       " <div class=\"_3Oa0THmZ3f5iZXAQ0hBJ0k\" style=\"max-height: 512px; margin: 0px auto;\"><div><img alt=\"Post image\" class=\"_2_tDEnGMLxpM6uOa2kaDB3 ImageBox-image media-element _1XWObl-3b9tPy64oaG6fax\" src=\"https://preview.redd.it/jishxrf1qgq41.jpg?width=640&amp;crop=smart&amp;auto=webp&amp;s=2c47a21074c317e29d982c56d274294b43960277\" style=\"max-height: 512px;\"/></div></div>,\n",
       " <div class=\"_3Oa0THmZ3f5iZXAQ0hBJ0k\" style=\"max-height: 512px; margin: 0px auto;\"><div><img alt=\"Post image\" class=\"_2_tDEnGMLxpM6uOa2kaDB3 ImageBox-image media-element _1XWObl-3b9tPy64oaG6fax\" src=\"https://preview.redd.it/9oy8mjt7siq41.jpg?width=640&amp;crop=smart&amp;auto=webp&amp;s=711f2f7681f740c54f05ffa1c3a167f5d5adb530\" style=\"max-height: 512px;\"/></div></div>,\n",
       " <div class=\"_3Oa0THmZ3f5iZXAQ0hBJ0k\" style=\"max-height: 512px; margin: 0px auto;\"><div><img alt=\"Post image\" class=\"_2_tDEnGMLxpM6uOa2kaDB3 ImageBox-image media-element _1XWObl-3b9tPy64oaG6fax\" src=\"https://preview.redd.it/1gbk2wwmnkq41.jpg?width=640&amp;crop=smart&amp;auto=webp&amp;s=4e2dc64d82f411d804f645dc93c2d992c32411c9\" style=\"max-height: 512px;\"/></div></div>,\n",
       " <div class=\"_3Oa0THmZ3f5iZXAQ0hBJ0k\" style=\"max-height: 512px; margin: 0px auto;\"><div><img alt=\"Post image\" class=\"_2_tDEnGMLxpM6uOa2kaDB3 ImageBox-image media-element _1XWObl-3b9tPy64oaG6fax\" src=\"https://preview.redd.it/a5vvyc30bkq41.jpg?width=640&amp;crop=smart&amp;auto=webp&amp;s=92b4a5fb3bf6e8d59ba93cf64338dcd4267a33d1\" style=\"max-height: 512px;\"/></div></div>,\n",
       " <div class=\"_3Oa0THmZ3f5iZXAQ0hBJ0k\" style=\"max-height: 512px; margin: 0px auto;\"><div><img alt=\"Post image\" class=\"_2_tDEnGMLxpM6uOa2kaDB3 ImageBox-image media-element _1XWObl-3b9tPy64oaG6fax\" src=\"https://preview.redd.it/62ukf463khq41.jpg?width=640&amp;crop=smart&amp;auto=webp&amp;s=e3733ddf7116b3adbba71d94ef74468ae3f93831\" style=\"max-height: 512px;\"/></div></div>,\n",
       " <div class=\"_3Oa0THmZ3f5iZXAQ0hBJ0k\" style=\"max-height: 512px; margin: 0px auto;\"><div><img alt=\"Post image\" class=\"_2_tDEnGMLxpM6uOa2kaDB3 ImageBox-image media-element _1XWObl-3b9tPy64oaG6fax\" src=\"https://preview.redd.it/fr7j2fzglhq41.jpg?width=640&amp;crop=smart&amp;auto=webp&amp;s=cc2bf08c1fce449cfc4863bf2afb78b96058df29\" style=\"max-height: 512px;\"/></div></div>,\n",
       " <div class=\"_3Oa0THmZ3f5iZXAQ0hBJ0k\" style=\"max-height: 512px; margin: 0px auto;\"><div><img alt=\"Post image\" class=\"_2_tDEnGMLxpM6uOa2kaDB3 ImageBox-image media-element _1XWObl-3b9tPy64oaG6fax\" src=\"https://preview.redd.it/n63szjk5jiq41.jpg?width=640&amp;crop=smart&amp;auto=webp&amp;s=b405b4b1455e43edf9bab4c2f2e7cd3f028a736c\" style=\"max-height: 512px;\"/></div></div>]"
      ]
     },
     "execution_count": 8,
     "metadata": {},
     "output_type": "execute_result"
    }
   ],
   "source": [
    "memes"
   ]
  },
  {
   "cell_type": "code",
   "execution_count": 9,
   "metadata": {},
   "outputs": [
    {
     "data": {
      "text/plain": [
       "27"
      ]
     },
     "execution_count": 9,
     "metadata": {},
     "output_type": "execute_result"
    }
   ],
   "source": [
    "len(memes)"
   ]
  },
  {
   "cell_type": "code",
   "execution_count": 10,
   "metadata": {},
   "outputs": [],
   "source": [
    "images = []"
   ]
  },
  {
   "cell_type": "code",
   "execution_count": 11,
   "metadata": {},
   "outputs": [],
   "source": [
    "for i in memes:\n",
    "    \n",
    "    image = i.find('img')['src']\n",
    "    images.append(image)"
   ]
  },
  {
   "cell_type": "code",
   "execution_count": 12,
   "metadata": {},
   "outputs": [],
   "source": [
    "browser.visit(url2)\n",
    "time.sleep(10)"
   ]
  },
  {
   "cell_type": "code",
   "execution_count": 13,
   "metadata": {},
   "outputs": [],
   "source": [
    "html = browser.html\n",
    "soup = bs(html, 'html.parser')"
   ]
  },
  {
   "cell_type": "code",
   "execution_count": 14,
   "metadata": {},
   "outputs": [],
   "source": [
    "memes2 = soup.find_all('div', class_='_3Oa0THmZ3f5iZXAQ0hBJ0k')"
   ]
  },
  {
   "cell_type": "code",
   "execution_count": 15,
   "metadata": {},
   "outputs": [],
   "source": [
    "for i in memes2:\n",
    "    image2 = i.find('img')['src']\n",
    "    images.append(image2)"
   ]
  },
  {
   "cell_type": "code",
   "execution_count": 16,
   "metadata": {},
   "outputs": [],
   "source": [
    "meme_df = pd.DataFrame({\"Memes\":images})"
   ]
  },
  {
   "cell_type": "code",
   "execution_count": 17,
   "metadata": {},
   "outputs": [
    {
     "data": {
      "text/html": [
       "<div>\n",
       "<style scoped>\n",
       "    .dataframe tbody tr th:only-of-type {\n",
       "        vertical-align: middle;\n",
       "    }\n",
       "\n",
       "    .dataframe tbody tr th {\n",
       "        vertical-align: top;\n",
       "    }\n",
       "\n",
       "    .dataframe thead th {\n",
       "        text-align: right;\n",
       "    }\n",
       "</style>\n",
       "<table border=\"1\" class=\"dataframe\">\n",
       "  <thead>\n",
       "    <tr style=\"text-align: right;\">\n",
       "      <th></th>\n",
       "      <th>Memes</th>\n",
       "    </tr>\n",
       "  </thead>\n",
       "  <tbody>\n",
       "    <tr>\n",
       "      <td>0</td>\n",
       "      <td>https://preview.redd.it/q07o8u5c0iq41.jpg?widt...</td>\n",
       "    </tr>\n",
       "    <tr>\n",
       "      <td>1</td>\n",
       "      <td>https://external-preview.redd.it/fEMp5G86NimuG...</td>\n",
       "    </tr>\n",
       "    <tr>\n",
       "      <td>2</td>\n",
       "      <td>https://preview.redd.it/qctorn7zghq41.jpg?widt...</td>\n",
       "    </tr>\n",
       "    <tr>\n",
       "      <td>3</td>\n",
       "      <td>https://preview.redd.it/hs930r0t6lq41.png?widt...</td>\n",
       "    </tr>\n",
       "    <tr>\n",
       "      <td>4</td>\n",
       "      <td>https://external-preview.redd.it/sMEQmdQPPoxHq...</td>\n",
       "    </tr>\n",
       "    <tr>\n",
       "      <td>5</td>\n",
       "      <td>https://preview.redd.it/jc3md64yajq41.jpg?widt...</td>\n",
       "    </tr>\n",
       "    <tr>\n",
       "      <td>6</td>\n",
       "      <td>https://preview.redd.it/yuoafm8akgq41.jpg?widt...</td>\n",
       "    </tr>\n",
       "    <tr>\n",
       "      <td>7</td>\n",
       "      <td>https://preview.redd.it/0ctvptibthq41.jpg?widt...</td>\n",
       "    </tr>\n",
       "    <tr>\n",
       "      <td>8</td>\n",
       "      <td>https://preview.redd.it/11l91ucjujq41.jpg?widt...</td>\n",
       "    </tr>\n",
       "    <tr>\n",
       "      <td>9</td>\n",
       "      <td>https://preview.redd.it/ff6awcjvyjq41.jpg?widt...</td>\n",
       "    </tr>\n",
       "    <tr>\n",
       "      <td>10</td>\n",
       "      <td>https://preview.redd.it/32fbiw0gdiq41.jpg?widt...</td>\n",
       "    </tr>\n",
       "    <tr>\n",
       "      <td>11</td>\n",
       "      <td>https://external-preview.redd.it/f-GaL-us2X0UV...</td>\n",
       "    </tr>\n",
       "    <tr>\n",
       "      <td>12</td>\n",
       "      <td>https://preview.redd.it/5i3l1cmk0kq41.jpg?widt...</td>\n",
       "    </tr>\n",
       "    <tr>\n",
       "      <td>13</td>\n",
       "      <td>https://preview.redd.it/oln46cuo4iq41.png?widt...</td>\n",
       "    </tr>\n",
       "    <tr>\n",
       "      <td>14</td>\n",
       "      <td>https://external-preview.redd.it/POvBbht_EYfxB...</td>\n",
       "    </tr>\n",
       "    <tr>\n",
       "      <td>15</td>\n",
       "      <td>https://preview.redd.it/8e8q9wzkclq41.jpg?widt...</td>\n",
       "    </tr>\n",
       "    <tr>\n",
       "      <td>16</td>\n",
       "      <td>https://external-preview.redd.it/q_P4jPRGJcL-b...</td>\n",
       "    </tr>\n",
       "    <tr>\n",
       "      <td>17</td>\n",
       "      <td>https://preview.redd.it/jxuufnnbklq41.jpg?widt...</td>\n",
       "    </tr>\n",
       "    <tr>\n",
       "      <td>18</td>\n",
       "      <td>https://preview.redd.it/6ge9ateugdq41.jpg?widt...</td>\n",
       "    </tr>\n",
       "    <tr>\n",
       "      <td>19</td>\n",
       "      <td>https://preview.redd.it/4y9nlzoptjq41.jpg?widt...</td>\n",
       "    </tr>\n",
       "    <tr>\n",
       "      <td>20</td>\n",
       "      <td>https://preview.redd.it/jishxrf1qgq41.jpg?widt...</td>\n",
       "    </tr>\n",
       "    <tr>\n",
       "      <td>21</td>\n",
       "      <td>https://preview.redd.it/9oy8mjt7siq41.jpg?widt...</td>\n",
       "    </tr>\n",
       "    <tr>\n",
       "      <td>22</td>\n",
       "      <td>https://preview.redd.it/1gbk2wwmnkq41.jpg?widt...</td>\n",
       "    </tr>\n",
       "    <tr>\n",
       "      <td>23</td>\n",
       "      <td>https://preview.redd.it/a5vvyc30bkq41.jpg?widt...</td>\n",
       "    </tr>\n",
       "    <tr>\n",
       "      <td>24</td>\n",
       "      <td>https://preview.redd.it/62ukf463khq41.jpg?widt...</td>\n",
       "    </tr>\n",
       "    <tr>\n",
       "      <td>25</td>\n",
       "      <td>https://preview.redd.it/fr7j2fzglhq41.jpg?widt...</td>\n",
       "    </tr>\n",
       "    <tr>\n",
       "      <td>26</td>\n",
       "      <td>https://preview.redd.it/n63szjk5jiq41.jpg?widt...</td>\n",
       "    </tr>\n",
       "    <tr>\n",
       "      <td>27</td>\n",
       "      <td>https://preview.redd.it/24smtius5dg41.jpg?widt...</td>\n",
       "    </tr>\n",
       "    <tr>\n",
       "      <td>28</td>\n",
       "      <td>https://preview.redd.it/g8u12cmuggp41.jpg?widt...</td>\n",
       "    </tr>\n",
       "    <tr>\n",
       "      <td>29</td>\n",
       "      <td>https://preview.redd.it/89mep1u1mrp41.jpg?widt...</td>\n",
       "    </tr>\n",
       "    <tr>\n",
       "      <td>30</td>\n",
       "      <td>https://preview.redd.it/d2ixcp85zeq41.jpg?widt...</td>\n",
       "    </tr>\n",
       "    <tr>\n",
       "      <td>31</td>\n",
       "      <td>https://preview.redd.it/mgj1xku3rhp41.jpg?widt...</td>\n",
       "    </tr>\n",
       "    <tr>\n",
       "      <td>32</td>\n",
       "      <td>https://preview.redd.it/ylmr1ldb2tp41.jpg?widt...</td>\n",
       "    </tr>\n",
       "    <tr>\n",
       "      <td>33</td>\n",
       "      <td>https://preview.redd.it/gm0sc5uzvvp41.jpg?widt...</td>\n",
       "    </tr>\n",
       "    <tr>\n",
       "      <td>34</td>\n",
       "      <td>https://preview.redd.it/mueg4irhegq41.png?widt...</td>\n",
       "    </tr>\n",
       "    <tr>\n",
       "      <td>35</td>\n",
       "      <td>https://preview.redd.it/xsodm4c243q41.jpg?widt...</td>\n",
       "    </tr>\n",
       "    <tr>\n",
       "      <td>36</td>\n",
       "      <td>https://preview.redd.it/ff1edtgugdp41.jpg?widt...</td>\n",
       "    </tr>\n",
       "    <tr>\n",
       "      <td>37</td>\n",
       "      <td>https://preview.redd.it/ss6pmragrhq41.jpg?widt...</td>\n",
       "    </tr>\n",
       "    <tr>\n",
       "      <td>38</td>\n",
       "      <td>https://preview.redd.it/zaiditb12zp41.png?widt...</td>\n",
       "    </tr>\n",
       "    <tr>\n",
       "      <td>39</td>\n",
       "      <td>https://preview.redd.it/ckvvbpbqt0q41.jpg?widt...</td>\n",
       "    </tr>\n",
       "    <tr>\n",
       "      <td>40</td>\n",
       "      <td>https://preview.redd.it/35mki814lyp41.jpg?widt...</td>\n",
       "    </tr>\n",
       "    <tr>\n",
       "      <td>41</td>\n",
       "      <td>https://preview.redd.it/i1pfj38rtep41.jpg?widt...</td>\n",
       "    </tr>\n",
       "    <tr>\n",
       "      <td>42</td>\n",
       "      <td>https://preview.redd.it/89864q04tmp41.jpg?widt...</td>\n",
       "    </tr>\n",
       "    <tr>\n",
       "      <td>43</td>\n",
       "      <td>https://preview.redd.it/lxqc9y0c7xp41.jpg?widt...</td>\n",
       "    </tr>\n",
       "    <tr>\n",
       "      <td>44</td>\n",
       "      <td>https://preview.redd.it/oaczkqez5lp41.jpg?widt...</td>\n",
       "    </tr>\n",
       "    <tr>\n",
       "      <td>45</td>\n",
       "      <td>https://preview.redd.it/97oni3eecjq41.jpg?widt...</td>\n",
       "    </tr>\n",
       "    <tr>\n",
       "      <td>46</td>\n",
       "      <td>https://i.redd.it/pngz4ry8wgq41.png</td>\n",
       "    </tr>\n",
       "    <tr>\n",
       "      <td>47</td>\n",
       "      <td>https://preview.redd.it/jlwuqapkvzp41.jpg?widt...</td>\n",
       "    </tr>\n",
       "    <tr>\n",
       "      <td>48</td>\n",
       "      <td>https://preview.redd.it/t0cqo1vi55q41.jpg?widt...</td>\n",
       "    </tr>\n",
       "    <tr>\n",
       "      <td>49</td>\n",
       "      <td>https://preview.redd.it/4mvdtpdelbq41.jpg?widt...</td>\n",
       "    </tr>\n",
       "    <tr>\n",
       "      <td>50</td>\n",
       "      <td>https://preview.redd.it/0rsybsgptqp41.png?widt...</td>\n",
       "    </tr>\n",
       "    <tr>\n",
       "      <td>51</td>\n",
       "      <td>https://preview.redd.it/ob02fws0itp41.jpg?widt...</td>\n",
       "    </tr>\n",
       "    <tr>\n",
       "      <td>52</td>\n",
       "      <td>https://preview.redd.it/3i9rdgvlp9q41.jpg?widt...</td>\n",
       "    </tr>\n",
       "  </tbody>\n",
       "</table>\n",
       "</div>"
      ],
      "text/plain": [
       "                                                Memes\n",
       "0   https://preview.redd.it/q07o8u5c0iq41.jpg?widt...\n",
       "1   https://external-preview.redd.it/fEMp5G86NimuG...\n",
       "2   https://preview.redd.it/qctorn7zghq41.jpg?widt...\n",
       "3   https://preview.redd.it/hs930r0t6lq41.png?widt...\n",
       "4   https://external-preview.redd.it/sMEQmdQPPoxHq...\n",
       "5   https://preview.redd.it/jc3md64yajq41.jpg?widt...\n",
       "6   https://preview.redd.it/yuoafm8akgq41.jpg?widt...\n",
       "7   https://preview.redd.it/0ctvptibthq41.jpg?widt...\n",
       "8   https://preview.redd.it/11l91ucjujq41.jpg?widt...\n",
       "9   https://preview.redd.it/ff6awcjvyjq41.jpg?widt...\n",
       "10  https://preview.redd.it/32fbiw0gdiq41.jpg?widt...\n",
       "11  https://external-preview.redd.it/f-GaL-us2X0UV...\n",
       "12  https://preview.redd.it/5i3l1cmk0kq41.jpg?widt...\n",
       "13  https://preview.redd.it/oln46cuo4iq41.png?widt...\n",
       "14  https://external-preview.redd.it/POvBbht_EYfxB...\n",
       "15  https://preview.redd.it/8e8q9wzkclq41.jpg?widt...\n",
       "16  https://external-preview.redd.it/q_P4jPRGJcL-b...\n",
       "17  https://preview.redd.it/jxuufnnbklq41.jpg?widt...\n",
       "18  https://preview.redd.it/6ge9ateugdq41.jpg?widt...\n",
       "19  https://preview.redd.it/4y9nlzoptjq41.jpg?widt...\n",
       "20  https://preview.redd.it/jishxrf1qgq41.jpg?widt...\n",
       "21  https://preview.redd.it/9oy8mjt7siq41.jpg?widt...\n",
       "22  https://preview.redd.it/1gbk2wwmnkq41.jpg?widt...\n",
       "23  https://preview.redd.it/a5vvyc30bkq41.jpg?widt...\n",
       "24  https://preview.redd.it/62ukf463khq41.jpg?widt...\n",
       "25  https://preview.redd.it/fr7j2fzglhq41.jpg?widt...\n",
       "26  https://preview.redd.it/n63szjk5jiq41.jpg?widt...\n",
       "27  https://preview.redd.it/24smtius5dg41.jpg?widt...\n",
       "28  https://preview.redd.it/g8u12cmuggp41.jpg?widt...\n",
       "29  https://preview.redd.it/89mep1u1mrp41.jpg?widt...\n",
       "30  https://preview.redd.it/d2ixcp85zeq41.jpg?widt...\n",
       "31  https://preview.redd.it/mgj1xku3rhp41.jpg?widt...\n",
       "32  https://preview.redd.it/ylmr1ldb2tp41.jpg?widt...\n",
       "33  https://preview.redd.it/gm0sc5uzvvp41.jpg?widt...\n",
       "34  https://preview.redd.it/mueg4irhegq41.png?widt...\n",
       "35  https://preview.redd.it/xsodm4c243q41.jpg?widt...\n",
       "36  https://preview.redd.it/ff1edtgugdp41.jpg?widt...\n",
       "37  https://preview.redd.it/ss6pmragrhq41.jpg?widt...\n",
       "38  https://preview.redd.it/zaiditb12zp41.png?widt...\n",
       "39  https://preview.redd.it/ckvvbpbqt0q41.jpg?widt...\n",
       "40  https://preview.redd.it/35mki814lyp41.jpg?widt...\n",
       "41  https://preview.redd.it/i1pfj38rtep41.jpg?widt...\n",
       "42  https://preview.redd.it/89864q04tmp41.jpg?widt...\n",
       "43  https://preview.redd.it/lxqc9y0c7xp41.jpg?widt...\n",
       "44  https://preview.redd.it/oaczkqez5lp41.jpg?widt...\n",
       "45  https://preview.redd.it/97oni3eecjq41.jpg?widt...\n",
       "46                https://i.redd.it/pngz4ry8wgq41.png\n",
       "47  https://preview.redd.it/jlwuqapkvzp41.jpg?widt...\n",
       "48  https://preview.redd.it/t0cqo1vi55q41.jpg?widt...\n",
       "49  https://preview.redd.it/4mvdtpdelbq41.jpg?widt...\n",
       "50  https://preview.redd.it/0rsybsgptqp41.png?widt...\n",
       "51  https://preview.redd.it/ob02fws0itp41.jpg?widt...\n",
       "52  https://preview.redd.it/3i9rdgvlp9q41.jpg?widt..."
      ]
     },
     "execution_count": 17,
     "metadata": {},
     "output_type": "execute_result"
    }
   ],
   "source": [
    "meme_df"
   ]
  },
  {
   "cell_type": "code",
   "execution_count": 18,
   "metadata": {},
   "outputs": [],
   "source": [
    "meme_df.to_csv('static/csv/memes.csv', index=False, header=True)"
   ]
  },
  {
   "cell_type": "code",
   "execution_count": 19,
   "metadata": {},
   "outputs": [],
   "source": [
    "browser.quit()"
   ]
  }
 ],
 "metadata": {
  "kernelspec": {
   "display_name": "Python 3",
   "language": "python",
   "name": "python3"
  },
  "language_info": {
   "codemirror_mode": {
    "name": "ipython",
    "version": 3
   },
   "file_extension": ".py",
   "mimetype": "text/x-python",
   "name": "python",
   "nbconvert_exporter": "python",
   "pygments_lexer": "ipython3",
   "version": "3.7.4"
  }
 },
 "nbformat": 4,
 "nbformat_minor": 2
}
