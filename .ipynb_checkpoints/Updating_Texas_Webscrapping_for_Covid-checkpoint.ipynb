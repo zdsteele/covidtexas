{
 "cells": [
  {
   "cell_type": "code",
   "execution_count": 16,
   "metadata": {},
   "outputs": [],
   "source": [
    "import pandas as pd\n",
    "import numpy as np\n",
    "from bs4 import BeautifulSoup as bs\n",
    "from time import sleep\n",
    "from datetime import datetime\n",
    "from splinter import Browser\n",
    "from selenium.webdriver.common.keys import Keys\n",
    "import time\n",
    "import json\n",
    "import os\n",
    "import shutil"
   ]
  },
  {
   "cell_type": "code",
   "execution_count": 17,
   "metadata": {},
   "outputs": [],
   "source": [
    "# url = 'https://www.reddit.com/r/memes/comments/f2fi3z/covid19/'"
   ]
  },
  {
   "cell_type": "code",
   "execution_count": 18,
   "metadata": {},
   "outputs": [],
   "source": [
    "url = 'https://www.reddit.com/r/CoronavirusMemes/'"
   ]
  },
  {
   "cell_type": "code",
   "execution_count": 19,
   "metadata": {},
   "outputs": [],
   "source": [
    "# Path to chromedriver.exe\n",
    "executable_path = {'executable_path':'C:/Users/zacha/AppData/Local/bin/chromedriver.exe'}\n",
    "\n",
    "# Open the Splinter Browswer\n",
    "browser = Browser('chrome', **executable_path)"
   ]
  },
  {
   "cell_type": "code",
   "execution_count": 20,
   "metadata": {},
   "outputs": [],
   "source": [
    "browser.visit(url)\n",
    "time.sleep(10)"
   ]
  },
  {
   "cell_type": "code",
   "execution_count": 21,
   "metadata": {},
   "outputs": [],
   "source": [
    "html = browser.html\n",
    "soup = bs(html, 'html.parser')"
   ]
  },
  {
   "cell_type": "code",
   "execution_count": 22,
   "metadata": {},
   "outputs": [],
   "source": [
    "memes = soup.find_all('div', class_='_3Oa0THmZ3f5iZXAQ0hBJ0k')"
   ]
  },
  {
   "cell_type": "code",
   "execution_count": 23,
   "metadata": {},
   "outputs": [
    {
     "data": {
      "text/plain": [
       "[<div class=\"_3Oa0THmZ3f5iZXAQ0hBJ0k\" style=\"max-height:512px;margin:0 auto\"><div><img alt=\"Post image\" class=\"_2_tDEnGMLxpM6uOa2kaDB3 ImageBox-image media-element _1XWObl-3b9tPy64oaG6fax\" src=\"https://preview.redd.it/et9573xf0vp41.jpg?width=640&amp;crop=smart&amp;auto=webp&amp;s=012f32b0d21124b2b1ac54fb647354e66fe69268\" style=\"max-height:512px\"/></div></div>,\n",
       " <div class=\"_3Oa0THmZ3f5iZXAQ0hBJ0k\" style=\"max-height:512px;margin:0 auto\"><div><img alt=\"Post image\" class=\"_2_tDEnGMLxpM6uOa2kaDB3 ImageBox-image media-element _1XWObl-3b9tPy64oaG6fax\" src=\"https://preview.redd.it/cfdhaajznup41.jpg?width=640&amp;crop=smart&amp;auto=webp&amp;s=de558d0ec8c43d3d72b8605623a9d082e80559fb\" style=\"max-height:512px\"/></div></div>,\n",
       " <div class=\"_3Oa0THmZ3f5iZXAQ0hBJ0k\" style=\"max-height:512px;margin:0 auto\"><div><img alt=\"Post image\" class=\"_2_tDEnGMLxpM6uOa2kaDB3 ImageBox-image media-element _1XWObl-3b9tPy64oaG6fax\" src=\"https://preview.redd.it/2aw0u7kyhrp41.jpg?width=640&amp;crop=smart&amp;auto=webp&amp;s=0540cccf5401826ee2b19ef87eb98536bee4eeb3\" style=\"max-height:512px\"/></div></div>,\n",
       " <div class=\"_3Oa0THmZ3f5iZXAQ0hBJ0k\" style=\"max-height:512px;margin:0 auto\"><div><img alt=\"Post image\" class=\"_2_tDEnGMLxpM6uOa2kaDB3 ImageBox-image media-element _1XWObl-3b9tPy64oaG6fax\" src=\"https://preview.redd.it/alfvdv6futp41.jpg?width=640&amp;crop=smart&amp;auto=webp&amp;s=98e1601a2239f03ff5fc9071d1a40010fbee7411\" style=\"max-height:512px\"/></div></div>,\n",
       " <div class=\"_3Oa0THmZ3f5iZXAQ0hBJ0k\" style=\"max-height:512px;margin:0 auto\"><div><img alt=\"Post image\" class=\"_2_tDEnGMLxpM6uOa2kaDB3 ImageBox-image media-element _1XWObl-3b9tPy64oaG6fax\" src=\"https://i.redd.it/opka7dywqup41.png\" style=\"max-height:512px\"/></div></div>,\n",
       " <div class=\"_3Oa0THmZ3f5iZXAQ0hBJ0k\" style=\"max-height:512px;margin:0 auto\"><div><img alt=\"Post image\" class=\"_2_tDEnGMLxpM6uOa2kaDB3 ImageBox-image media-element _1XWObl-3b9tPy64oaG6fax\" src=\"https://preview.redd.it/xgr51jt5ptp41.jpg?width=640&amp;crop=smart&amp;auto=webp&amp;s=a8c8e00c424fdb712fe7d4efae66b16d9f804864\" style=\"max-height:512px\"/></div></div>,\n",
       " <div class=\"_3Oa0THmZ3f5iZXAQ0hBJ0k\" style=\"max-height:512px;margin:0 auto\"><div><img alt=\"Post image\" class=\"_2_tDEnGMLxpM6uOa2kaDB3 ImageBox-image media-element _1XWObl-3b9tPy64oaG6fax\" src=\"https://preview.redd.it/rfpbhpujiup41.jpg?width=640&amp;crop=smart&amp;auto=webp&amp;s=8a9cf5bc447359d805b6fee6b6478f49089861d7\" style=\"max-height:512px\"/></div></div>,\n",
       " <div class=\"_3Oa0THmZ3f5iZXAQ0hBJ0k\" style=\"max-height: 512px; margin: 0px auto;\"><div><img alt=\"Post image\" class=\"_2_tDEnGMLxpM6uOa2kaDB3 ImageBox-image media-element _1XWObl-3b9tPy64oaG6fax\" src=\"https://preview.redd.it/n4xvb695zrp41.jpg?width=640&amp;crop=smart&amp;auto=webp&amp;s=be56c79d0e8ae2bf54dba8c1db7d07d049191ebb\" style=\"max-height: 512px;\"/></div></div>,\n",
       " <div class=\"_3Oa0THmZ3f5iZXAQ0hBJ0k\" style=\"max-height: 512px; margin: 0px auto;\"><div><img alt=\"Post image\" class=\"_2_tDEnGMLxpM6uOa2kaDB3 ImageBox-image media-element _1XWObl-3b9tPy64oaG6fax\" src=\"https://preview.redd.it/itibaaus6up41.png?width=640&amp;crop=smart&amp;auto=webp&amp;s=594f92b3e45cc402a642c8cc6fd1920a81e6b078\" style=\"max-height: 512px;\"/></div></div>,\n",
       " <div class=\"_3Oa0THmZ3f5iZXAQ0hBJ0k\" style=\"max-height: 512px; margin: 0px auto;\"><div><img alt=\"Post image\" class=\"_2_tDEnGMLxpM6uOa2kaDB3 ImageBox-image media-element _1XWObl-3b9tPy64oaG6fax\" src=\"https://preview.redd.it/lhzvk1x6eup41.jpg?width=640&amp;crop=smart&amp;auto=webp&amp;s=7a16a487dd9a66c17e0b2dce66e8fee987acfc4a\" style=\"max-height: 512px;\"/></div></div>,\n",
       " <div class=\"_3Oa0THmZ3f5iZXAQ0hBJ0k\" style=\"max-height: 512px; margin: 0px auto;\"><div><img alt=\"Post image\" class=\"_2_tDEnGMLxpM6uOa2kaDB3 ImageBox-image media-element _1XWObl-3b9tPy64oaG6fax\" src=\"https://preview.redd.it/p21lvd47jsp41.jpg?width=640&amp;crop=smart&amp;auto=webp&amp;s=918a0c87e07b449f6cf716738c6554acc39a2959\" style=\"max-height: 512px;\"/></div></div>,\n",
       " <div class=\"_3Oa0THmZ3f5iZXAQ0hBJ0k\" style=\"max-height: 512px; margin: 0px auto;\"><div><img alt=\"Post image\" class=\"_2_tDEnGMLxpM6uOa2kaDB3 ImageBox-image media-element _1XWObl-3b9tPy64oaG6fax\" src=\"https://i.redd.it/6iu3q3emkvp41.png\" style=\"max-height: 512px;\"/></div></div>,\n",
       " <div class=\"_3Oa0THmZ3f5iZXAQ0hBJ0k media-element\" style=\"overflow: hidden; max-height: 512px; margin: 0px auto;\"><div><img alt=\"Post image\" class=\"_2_tDEnGMLxpM6uOa2kaDB3 ImageBox-image _1XWObl-3b9tPy64oaG6fax\" src=\"https://i.redd.it/eqjpmhv80wp41.jpg\"/></div><div class=\"_3hUbl08LBz2mbXjy0iYhOS\">see full image</div></div>,\n",
       " <div class=\"_3Oa0THmZ3f5iZXAQ0hBJ0k\" style=\"max-height: 512px; margin: 0px auto;\"><div><img alt=\"Post image\" class=\"_2_tDEnGMLxpM6uOa2kaDB3 ImageBox-image media-element _1XWObl-3b9tPy64oaG6fax\" src=\"https://preview.redd.it/n6rx3zt30vp41.jpg?width=640&amp;crop=smart&amp;auto=webp&amp;s=4f84218b6edcc86ea470a0b8020658549cbdb3ce\" style=\"max-height: 512px;\"/></div></div>]"
      ]
     },
     "execution_count": 23,
     "metadata": {},
     "output_type": "execute_result"
    }
   ],
   "source": [
    "memes"
   ]
  },
  {
   "cell_type": "code",
   "execution_count": 24,
   "metadata": {},
   "outputs": [
    {
     "data": {
      "text/plain": [
       "14"
      ]
     },
     "execution_count": 24,
     "metadata": {},
     "output_type": "execute_result"
    }
   ],
   "source": [
    "len(memes)"
   ]
  },
  {
   "cell_type": "code",
   "execution_count": 25,
   "metadata": {},
   "outputs": [],
   "source": [
    "images = []"
   ]
  },
  {
   "cell_type": "code",
   "execution_count": 26,
   "metadata": {},
   "outputs": [],
   "source": [
    "for i in memes:\n",
    "    \n",
    "    image = i.find('img')['src']\n",
    "    images.append(image)"
   ]
  },
  {
   "cell_type": "code",
   "execution_count": 27,
   "metadata": {},
   "outputs": [
    {
     "data": {
      "text/plain": [
       "['https://preview.redd.it/et9573xf0vp41.jpg?width=640&crop=smart&auto=webp&s=012f32b0d21124b2b1ac54fb647354e66fe69268',\n",
       " 'https://preview.redd.it/cfdhaajznup41.jpg?width=640&crop=smart&auto=webp&s=de558d0ec8c43d3d72b8605623a9d082e80559fb',\n",
       " 'https://preview.redd.it/2aw0u7kyhrp41.jpg?width=640&crop=smart&auto=webp&s=0540cccf5401826ee2b19ef87eb98536bee4eeb3',\n",
       " 'https://preview.redd.it/alfvdv6futp41.jpg?width=640&crop=smart&auto=webp&s=98e1601a2239f03ff5fc9071d1a40010fbee7411',\n",
       " 'https://i.redd.it/opka7dywqup41.png',\n",
       " 'https://preview.redd.it/xgr51jt5ptp41.jpg?width=640&crop=smart&auto=webp&s=a8c8e00c424fdb712fe7d4efae66b16d9f804864',\n",
       " 'https://preview.redd.it/rfpbhpujiup41.jpg?width=640&crop=smart&auto=webp&s=8a9cf5bc447359d805b6fee6b6478f49089861d7',\n",
       " 'https://preview.redd.it/n4xvb695zrp41.jpg?width=640&crop=smart&auto=webp&s=be56c79d0e8ae2bf54dba8c1db7d07d049191ebb',\n",
       " 'https://preview.redd.it/itibaaus6up41.png?width=640&crop=smart&auto=webp&s=594f92b3e45cc402a642c8cc6fd1920a81e6b078',\n",
       " 'https://preview.redd.it/lhzvk1x6eup41.jpg?width=640&crop=smart&auto=webp&s=7a16a487dd9a66c17e0b2dce66e8fee987acfc4a',\n",
       " 'https://preview.redd.it/p21lvd47jsp41.jpg?width=640&crop=smart&auto=webp&s=918a0c87e07b449f6cf716738c6554acc39a2959',\n",
       " 'https://i.redd.it/6iu3q3emkvp41.png',\n",
       " 'https://i.redd.it/eqjpmhv80wp41.jpg',\n",
       " 'https://preview.redd.it/n6rx3zt30vp41.jpg?width=640&crop=smart&auto=webp&s=4f84218b6edcc86ea470a0b8020658549cbdb3ce']"
      ]
     },
     "execution_count": 27,
     "metadata": {},
     "output_type": "execute_result"
    }
   ],
   "source": [
    "images"
   ]
  },
  {
   "cell_type": "code",
   "execution_count": 28,
   "metadata": {},
   "outputs": [],
   "source": [
    "meme_df = pd.DataFrame({\"Memes\":images})"
   ]
  },
  {
   "cell_type": "code",
   "execution_count": 29,
   "metadata": {},
   "outputs": [
    {
     "data": {
      "text/html": [
       "<div>\n",
       "<style scoped>\n",
       "    .dataframe tbody tr th:only-of-type {\n",
       "        vertical-align: middle;\n",
       "    }\n",
       "\n",
       "    .dataframe tbody tr th {\n",
       "        vertical-align: top;\n",
       "    }\n",
       "\n",
       "    .dataframe thead th {\n",
       "        text-align: right;\n",
       "    }\n",
       "</style>\n",
       "<table border=\"1\" class=\"dataframe\">\n",
       "  <thead>\n",
       "    <tr style=\"text-align: right;\">\n",
       "      <th></th>\n",
       "      <th>Memes</th>\n",
       "    </tr>\n",
       "  </thead>\n",
       "  <tbody>\n",
       "    <tr>\n",
       "      <td>0</td>\n",
       "      <td>https://preview.redd.it/et9573xf0vp41.jpg?widt...</td>\n",
       "    </tr>\n",
       "    <tr>\n",
       "      <td>1</td>\n",
       "      <td>https://preview.redd.it/cfdhaajznup41.jpg?widt...</td>\n",
       "    </tr>\n",
       "    <tr>\n",
       "      <td>2</td>\n",
       "      <td>https://preview.redd.it/2aw0u7kyhrp41.jpg?widt...</td>\n",
       "    </tr>\n",
       "    <tr>\n",
       "      <td>3</td>\n",
       "      <td>https://preview.redd.it/alfvdv6futp41.jpg?widt...</td>\n",
       "    </tr>\n",
       "    <tr>\n",
       "      <td>4</td>\n",
       "      <td>https://i.redd.it/opka7dywqup41.png</td>\n",
       "    </tr>\n",
       "    <tr>\n",
       "      <td>5</td>\n",
       "      <td>https://preview.redd.it/xgr51jt5ptp41.jpg?widt...</td>\n",
       "    </tr>\n",
       "    <tr>\n",
       "      <td>6</td>\n",
       "      <td>https://preview.redd.it/rfpbhpujiup41.jpg?widt...</td>\n",
       "    </tr>\n",
       "    <tr>\n",
       "      <td>7</td>\n",
       "      <td>https://preview.redd.it/n4xvb695zrp41.jpg?widt...</td>\n",
       "    </tr>\n",
       "    <tr>\n",
       "      <td>8</td>\n",
       "      <td>https://preview.redd.it/itibaaus6up41.png?widt...</td>\n",
       "    </tr>\n",
       "    <tr>\n",
       "      <td>9</td>\n",
       "      <td>https://preview.redd.it/lhzvk1x6eup41.jpg?widt...</td>\n",
       "    </tr>\n",
       "    <tr>\n",
       "      <td>10</td>\n",
       "      <td>https://preview.redd.it/p21lvd47jsp41.jpg?widt...</td>\n",
       "    </tr>\n",
       "    <tr>\n",
       "      <td>11</td>\n",
       "      <td>https://i.redd.it/6iu3q3emkvp41.png</td>\n",
       "    </tr>\n",
       "    <tr>\n",
       "      <td>12</td>\n",
       "      <td>https://i.redd.it/eqjpmhv80wp41.jpg</td>\n",
       "    </tr>\n",
       "    <tr>\n",
       "      <td>13</td>\n",
       "      <td>https://preview.redd.it/n6rx3zt30vp41.jpg?widt...</td>\n",
       "    </tr>\n",
       "  </tbody>\n",
       "</table>\n",
       "</div>"
      ],
      "text/plain": [
       "                                                Memes\n",
       "0   https://preview.redd.it/et9573xf0vp41.jpg?widt...\n",
       "1   https://preview.redd.it/cfdhaajznup41.jpg?widt...\n",
       "2   https://preview.redd.it/2aw0u7kyhrp41.jpg?widt...\n",
       "3   https://preview.redd.it/alfvdv6futp41.jpg?widt...\n",
       "4                 https://i.redd.it/opka7dywqup41.png\n",
       "5   https://preview.redd.it/xgr51jt5ptp41.jpg?widt...\n",
       "6   https://preview.redd.it/rfpbhpujiup41.jpg?widt...\n",
       "7   https://preview.redd.it/n4xvb695zrp41.jpg?widt...\n",
       "8   https://preview.redd.it/itibaaus6up41.png?widt...\n",
       "9   https://preview.redd.it/lhzvk1x6eup41.jpg?widt...\n",
       "10  https://preview.redd.it/p21lvd47jsp41.jpg?widt...\n",
       "11                https://i.redd.it/6iu3q3emkvp41.png\n",
       "12                https://i.redd.it/eqjpmhv80wp41.jpg\n",
       "13  https://preview.redd.it/n6rx3zt30vp41.jpg?widt..."
      ]
     },
     "execution_count": 29,
     "metadata": {},
     "output_type": "execute_result"
    }
   ],
   "source": [
    "meme_df"
   ]
  },
  {
   "cell_type": "code",
   "execution_count": 30,
   "metadata": {},
   "outputs": [],
   "source": [
    "meme_df.to_csv('static/csv/memes.csv', index=False, header=True)"
   ]
  },
  {
   "cell_type": "code",
   "execution_count": 31,
   "metadata": {},
   "outputs": [],
   "source": [
    "browser.quit()"
   ]
  }
 ],
 "metadata": {
  "kernelspec": {
   "display_name": "Python 3",
   "language": "python",
   "name": "python3"
  },
  "language_info": {
   "codemirror_mode": {
    "name": "ipython",
    "version": 3
   },
   "file_extension": ".py",
   "mimetype": "text/x-python",
   "name": "python",
   "nbconvert_exporter": "python",
   "pygments_lexer": "ipython3",
   "version": "3.7.4"
  }
 },
 "nbformat": 4,
 "nbformat_minor": 2
}
