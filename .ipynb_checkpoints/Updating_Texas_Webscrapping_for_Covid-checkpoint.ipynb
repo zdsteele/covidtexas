{
 "cells": [
  {
   "cell_type": "code",
   "execution_count": 22,
   "metadata": {},
   "outputs": [],
   "source": [
    "import pandas as pd\n",
    "import numpy as np\n",
    "from bs4 import BeautifulSoup as bs\n",
    "from time import sleep\n",
    "from datetime import datetime\n",
    "from splinter import Browser\n",
    "from selenium.webdriver.common.keys import Keys\n",
    "import time\n",
    "import json\n",
    "\n",
    "import os\n",
    "import shutil"
   ]
  },
  {
   "cell_type": "code",
   "execution_count": null,
   "metadata": {},
   "outputs": [],
   "source": []
  },
  {
   "cell_type": "code",
   "execution_count": null,
   "metadata": {},
   "outputs": [],
   "source": []
  },
  {
   "cell_type": "code",
   "execution_count": 23,
   "metadata": {},
   "outputs": [],
   "source": [
    "url = 'https://www.reddit.com/r/CoronavirusMemes/'"
   ]
  },
  {
   "cell_type": "code",
   "execution_count": 24,
   "metadata": {},
   "outputs": [],
   "source": [
    "url2 = 'https://www.reddit.com/r/memes/comments/f2fi3z/covid19/'"
   ]
  },
  {
   "cell_type": "code",
   "execution_count": 25,
   "metadata": {},
   "outputs": [],
   "source": [
    "# Path to chromedriver.exe\n",
    "executable_path = {'executable_path':'C:/Users/zacha/AppData/Local/bin/chromedriver.exe'}\n",
    "\n",
    "# Open the Splinter Browswer\n",
    "browser = Browser('chrome', **executable_path)"
   ]
  },
  {
   "cell_type": "code",
   "execution_count": 26,
   "metadata": {},
   "outputs": [],
   "source": [
    "browser.visit(url)\n",
    "time.sleep(10)"
   ]
  },
  {
   "cell_type": "code",
   "execution_count": 27,
   "metadata": {},
   "outputs": [],
   "source": [
    "html = browser.html\n",
    "soup = bs(html, 'html.parser')"
   ]
  },
  {
   "cell_type": "code",
   "execution_count": 28,
   "metadata": {},
   "outputs": [],
   "source": [
    "memes = soup.find_all('div', class_='_3Oa0THmZ3f5iZXAQ0hBJ0k')"
   ]
  },
  {
   "cell_type": "code",
   "execution_count": 29,
   "metadata": {},
   "outputs": [
    {
     "data": {
      "text/plain": [
       "[<div class=\"_3Oa0THmZ3f5iZXAQ0hBJ0k\" style=\"max-height:512px;margin:0 auto\"><div><img alt=\"Post image\" class=\"_2_tDEnGMLxpM6uOa2kaDB3 ImageBox-image media-element _1XWObl-3b9tPy64oaG6fax\" src=\"https://preview.redd.it/pr8mbi49buq41.jpg?width=640&amp;crop=smart&amp;auto=webp&amp;s=ff6696ed4a91184fc081b710c1277f42e7f37e2d\" style=\"max-height:512px\"/></div></div>,\n",
       " <div class=\"_3Oa0THmZ3f5iZXAQ0hBJ0k\" style=\"max-height:512px;margin:0 auto\"><div><img alt=\"Post image\" class=\"_2_tDEnGMLxpM6uOa2kaDB3 ImageBox-image media-element _1XWObl-3b9tPy64oaG6fax\" src=\"https://external-preview.redd.it/P8qyYG53_abAAbcwqOQ1JjAgN-2qtGjki5_xZvOeQpk.jpg?width=640&amp;crop=smart&amp;auto=webp&amp;s=32d2003aa99c4788df5b25e45edfbae8e2cccbb4\" style=\"max-height:512px\"/></div></div>,\n",
       " <div class=\"_3Oa0THmZ3f5iZXAQ0hBJ0k\" style=\"max-height:512px;margin:0 auto\"><div><img alt=\"Post image\" class=\"_2_tDEnGMLxpM6uOa2kaDB3 ImageBox-image media-element _1XWObl-3b9tPy64oaG6fax\" src=\"https://i.redd.it/nxg96wzxqtq41.jpg\" style=\"max-height:512px\"/></div></div>,\n",
       " <div class=\"_3Oa0THmZ3f5iZXAQ0hBJ0k\" style=\"max-height: 512px; margin: 0px auto;\"><div><img alt=\"Post image\" class=\"_2_tDEnGMLxpM6uOa2kaDB3 ImageBox-image media-element _1XWObl-3b9tPy64oaG6fax\" src=\"https://preview.redd.it/trwivjiq1rq41.jpg?width=640&amp;crop=smart&amp;auto=webp&amp;s=3153a7a78742f184645dad3e51e01e5a473c1f49\" style=\"max-height: 512px;\"/></div></div>,\n",
       " <div class=\"_3Oa0THmZ3f5iZXAQ0hBJ0k\" style=\"max-height:512px;margin:0 auto\"><div><img alt=\"Post image\" class=\"_2_tDEnGMLxpM6uOa2kaDB3 ImageBox-image media-element _1XWObl-3b9tPy64oaG6fax\" src=\"https://preview.redd.it/1xsbtxskxrq41.jpg?width=640&amp;crop=smart&amp;auto=webp&amp;s=cd1db5bb1fdcd7134095b1d0d338591aebcb3e75\" style=\"max-height:512px\"/></div></div>,\n",
       " <div class=\"_3Oa0THmZ3f5iZXAQ0hBJ0k\" style=\"max-height: 512px; margin: 0px auto;\"><div><img alt=\"Post image\" class=\"_2_tDEnGMLxpM6uOa2kaDB3 ImageBox-image media-element _1XWObl-3b9tPy64oaG6fax\" src=\"https://preview.redd.it/axu9damvstq41.jpg?width=640&amp;crop=smart&amp;auto=webp&amp;s=51af4065f12e2c5b83d669b41fb8dadef4889201\" style=\"max-height: 512px;\"/></div></div>,\n",
       " <div class=\"_3Oa0THmZ3f5iZXAQ0hBJ0k\" style=\"max-height: 512px; margin: 0px auto;\"><div><img alt=\"Post image\" class=\"_2_tDEnGMLxpM6uOa2kaDB3 ImageBox-image media-element _1XWObl-3b9tPy64oaG6fax\" src=\"https://preview.redd.it/n4hc5pudytq41.jpg?width=640&amp;crop=smart&amp;auto=webp&amp;s=caf8dde019c1a4c2e25a3750e6be9a0bed99b3eb\" style=\"max-height: 512px;\"/></div></div>,\n",
       " <div class=\"_3Oa0THmZ3f5iZXAQ0hBJ0k\" style=\"max-height: 512px; margin: 0px auto;\"><div><img alt=\"Post image\" class=\"_2_tDEnGMLxpM6uOa2kaDB3 ImageBox-image media-element _1XWObl-3b9tPy64oaG6fax\" src=\"https://preview.redd.it/uy0cy8qybrq41.jpg?width=640&amp;crop=smart&amp;auto=webp&amp;s=5ef99d9b0885a0e6a3863615cf814d516a205ab3\" style=\"max-height: 512px;\"/></div></div>,\n",
       " <div class=\"_3Oa0THmZ3f5iZXAQ0hBJ0k\" style=\"max-height: 512px; margin: 0px auto;\"><div><img alt=\"Post image\" class=\"_2_tDEnGMLxpM6uOa2kaDB3 ImageBox-image media-element _1XWObl-3b9tPy64oaG6fax\" src=\"https://preview.redd.it/dhuuo8rpqtq41.jpg?width=640&amp;crop=smart&amp;auto=webp&amp;s=3852549a3d5b024e4cfb7bdd89b828fc73b71398\" style=\"max-height: 512px;\"/></div></div>,\n",
       " <div class=\"_3Oa0THmZ3f5iZXAQ0hBJ0k media-element\" style=\"overflow: hidden; max-height: 512px; margin: 0px auto;\"><div><img alt=\"Post image\" class=\"_2_tDEnGMLxpM6uOa2kaDB3 ImageBox-image _1XWObl-3b9tPy64oaG6fax\" src=\"https://preview.redd.it/f88ltgb3msq41.jpg?width=640&amp;crop=smart&amp;auto=webp&amp;s=c88f53077daa134dbf53c63c0aff00eb5347d932\"/></div><div class=\"_3hUbl08LBz2mbXjy0iYhOS\">see full image</div></div>,\n",
       " <div class=\"_3Oa0THmZ3f5iZXAQ0hBJ0k\" style=\"max-height: 512px; margin: 0px auto;\"><div><img alt=\"Post image\" class=\"_2_tDEnGMLxpM6uOa2kaDB3 ImageBox-image media-element _1XWObl-3b9tPy64oaG6fax\" src=\"https://preview.redd.it/nqp5oph30vq41.jpg?width=640&amp;crop=smart&amp;auto=webp&amp;s=733a36bd276e37115a17e36fefe5d76c6d8792e1\" style=\"max-height: 512px;\"/></div></div>,\n",
       " <div class=\"_3Oa0THmZ3f5iZXAQ0hBJ0k\" style=\"max-height: 512px; margin: 0px auto;\"><div><img alt=\"Post image\" class=\"_2_tDEnGMLxpM6uOa2kaDB3 ImageBox-image media-element _1XWObl-3b9tPy64oaG6fax\" src=\"https://preview.redd.it/stm069dygtq41.jpg?width=640&amp;crop=smart&amp;auto=webp&amp;s=0c84912dbeb82ec6ae74f3c0e18dc6474f62d8ef\" style=\"max-height: 512px;\"/></div></div>,\n",
       " <div class=\"_3Oa0THmZ3f5iZXAQ0hBJ0k\" style=\"max-height: 512px; margin: 0px auto;\"><div><img alt=\"Post image\" class=\"_2_tDEnGMLxpM6uOa2kaDB3 ImageBox-image media-element _1XWObl-3b9tPy64oaG6fax\" src=\"https://i.redd.it/dg6tazzztsq41.jpg\" style=\"max-height: 512px;\"/></div></div>,\n",
       " <div class=\"_3Oa0THmZ3f5iZXAQ0hBJ0k\" style=\"max-height: 512px; margin: 0px auto;\"><div><img alt=\"Post image\" class=\"_2_tDEnGMLxpM6uOa2kaDB3 ImageBox-image media-element _1XWObl-3b9tPy64oaG6fax\" src=\"https://preview.redd.it/jzdp2zllzuq41.jpg?width=640&amp;crop=smart&amp;auto=webp&amp;s=4538490368b951b8c0624af3b090874d8dd0c5e0\" style=\"max-height: 512px;\"/></div></div>,\n",
       " <div class=\"_3Oa0THmZ3f5iZXAQ0hBJ0k\" style=\"max-height: 512px; margin: 0px auto;\"><div><img alt=\"Post image\" class=\"_2_tDEnGMLxpM6uOa2kaDB3 ImageBox-image media-element _1XWObl-3b9tPy64oaG6fax\" src=\"https://preview.redd.it/toegdy8qjtq41.png?width=640&amp;crop=smart&amp;auto=webp&amp;s=06ee04d5274192b574f425714ab2ff0a7ddd38e0\" style=\"max-height: 512px;\"/></div></div>,\n",
       " <div class=\"_3Oa0THmZ3f5iZXAQ0hBJ0k\" style=\"max-height: 512px; margin: 0px auto;\"><div><img alt=\"Post image\" class=\"_2_tDEnGMLxpM6uOa2kaDB3 ImageBox-image media-element _1XWObl-3b9tPy64oaG6fax\" src=\"https://i.redd.it/j0g21s7qctq41.jpg\" style=\"max-height: 512px;\"/></div></div>,\n",
       " <div class=\"_3Oa0THmZ3f5iZXAQ0hBJ0k\" style=\"max-height: 512px; margin: 0px auto;\"><div><img alt=\"Post image\" class=\"_2_tDEnGMLxpM6uOa2kaDB3 ImageBox-image media-element _1XWObl-3b9tPy64oaG6fax\" src=\"https://preview.redd.it/qxtq8hqzgsq41.jpg?width=640&amp;crop=smart&amp;auto=webp&amp;s=127aeb657b94b4f0aa39e5a9e0173ec3591ca0c9\" style=\"max-height: 512px;\"/></div></div>,\n",
       " <div class=\"_3Oa0THmZ3f5iZXAQ0hBJ0k\" style=\"max-height: 512px; margin: 0px auto;\"><div><img alt=\"Post image\" class=\"_2_tDEnGMLxpM6uOa2kaDB3 ImageBox-image media-element _1XWObl-3b9tPy64oaG6fax\" src=\"https://i.redd.it/xn5efl87ftq41.jpg\" style=\"max-height: 512px;\"/></div></div>,\n",
       " <div class=\"_3Oa0THmZ3f5iZXAQ0hBJ0k\" style=\"max-height: 512px; margin: 0px auto;\"><div><img alt=\"Post image\" class=\"_2_tDEnGMLxpM6uOa2kaDB3 ImageBox-image media-element _1XWObl-3b9tPy64oaG6fax\" src=\"https://external-preview.redd.it/fEMp5G86NimuG2lTjIFk-gqybSnRVlmTWVFwObkjjZY.jpg?width=640&amp;crop=smart&amp;auto=webp&amp;s=62dd9d1bcd5ae746a857cc8d060a3db7615d0ce5\" style=\"max-height: 512px;\"/></div></div>,\n",
       " <div class=\"_3Oa0THmZ3f5iZXAQ0hBJ0k\" style=\"max-height: 512px; margin: 0px auto;\"><div><img alt=\"Post image\" class=\"_2_tDEnGMLxpM6uOa2kaDB3 ImageBox-image media-element _1XWObl-3b9tPy64oaG6fax\" src=\"https://i.redd.it/ep8vpd0feuq41.jpg\" style=\"max-height: 512px;\"/></div></div>,\n",
       " <div class=\"_3Oa0THmZ3f5iZXAQ0hBJ0k\" style=\"max-height: 512px; margin: 0px auto;\"><div><img alt=\"Post image\" class=\"_2_tDEnGMLxpM6uOa2kaDB3 ImageBox-image media-element _1XWObl-3b9tPy64oaG6fax\" src=\"https://preview.redd.it/66kp4lifosq41.png?width=640&amp;crop=smart&amp;auto=webp&amp;s=187f81216017f0cd9f99c4d7abc88670336c0778\" style=\"max-height: 512px;\"/></div></div>,\n",
       " <div class=\"_3Oa0THmZ3f5iZXAQ0hBJ0k\" style=\"max-height: 512px; margin: 0px auto;\"><div><img alt=\"Post image\" class=\"_2_tDEnGMLxpM6uOa2kaDB3 ImageBox-image media-element _1XWObl-3b9tPy64oaG6fax\" src=\"https://preview.redd.it/uhmhdm030tq41.jpg?width=640&amp;crop=smart&amp;auto=webp&amp;s=3226850620f939a889b0762e175b8fc89b215bcd\" style=\"max-height: 512px;\"/></div></div>,\n",
       " <div class=\"_3Oa0THmZ3f5iZXAQ0hBJ0k\" style=\"max-height: 512px; margin: 0px auto;\"><div><img alt=\"Post image\" class=\"_2_tDEnGMLxpM6uOa2kaDB3 ImageBox-image media-element _1XWObl-3b9tPy64oaG6fax\" src=\"https://preview.redd.it/xez9pvy3ftq41.jpg?width=640&amp;crop=smart&amp;auto=webp&amp;s=390d54a349009c9dec6fae91ebb51f62a5ad12e1\" style=\"max-height: 512px;\"/></div></div>,\n",
       " <div class=\"_3Oa0THmZ3f5iZXAQ0hBJ0k\" style=\"max-height: 512px; margin: 0px auto;\"><div><img alt=\"Post image\" class=\"_2_tDEnGMLxpM6uOa2kaDB3 ImageBox-image media-element _1XWObl-3b9tPy64oaG6fax\" src=\"https://preview.redd.it/of06bgy3wuq41.jpg?width=640&amp;crop=smart&amp;auto=webp&amp;s=c85520de7d4acbc24b67fc8ddd1feed70d361974\" style=\"max-height: 512px;\"/></div></div>,\n",
       " <div class=\"_3Oa0THmZ3f5iZXAQ0hBJ0k\" style=\"max-height: 512px; margin: 0px auto;\"><div><img alt=\"Post image\" class=\"_2_tDEnGMLxpM6uOa2kaDB3 ImageBox-image media-element _1XWObl-3b9tPy64oaG6fax\" src=\"https://preview.redd.it/4y4xla7trsq41.jpg?width=640&amp;crop=smart&amp;auto=webp&amp;s=d6cab43e4ca12bb2f9435978f47cbfd6ffa7f954\" style=\"max-height: 512px;\"/></div></div>]"
      ]
     },
     "execution_count": 29,
     "metadata": {},
     "output_type": "execute_result"
    }
   ],
   "source": [
    "memes"
   ]
  },
  {
   "cell_type": "code",
   "execution_count": 30,
   "metadata": {},
   "outputs": [
    {
     "data": {
      "text/plain": [
       "25"
      ]
     },
     "execution_count": 30,
     "metadata": {},
     "output_type": "execute_result"
    }
   ],
   "source": [
    "len(memes)"
   ]
  },
  {
   "cell_type": "code",
   "execution_count": 31,
   "metadata": {},
   "outputs": [],
   "source": [
    "images = []"
   ]
  },
  {
   "cell_type": "code",
   "execution_count": 32,
   "metadata": {},
   "outputs": [],
   "source": [
    "for i in memes:\n",
    "    \n",
    "    image = i.find('img')['src']\n",
    "    images.append(image)"
   ]
  },
  {
   "cell_type": "code",
   "execution_count": 33,
   "metadata": {},
   "outputs": [],
   "source": [
    "browser.visit(url2)\n",
    "time.sleep(10)"
   ]
  },
  {
   "cell_type": "code",
   "execution_count": 34,
   "metadata": {},
   "outputs": [],
   "source": [
    "html = browser.html\n",
    "soup = bs(html, 'html.parser')"
   ]
  },
  {
   "cell_type": "code",
   "execution_count": 35,
   "metadata": {},
   "outputs": [],
   "source": [
    "memes2 = soup.find_all('div', class_='_3Oa0THmZ3f5iZXAQ0hBJ0k')"
   ]
  },
  {
   "cell_type": "code",
   "execution_count": 36,
   "metadata": {},
   "outputs": [],
   "source": [
    "for i in memes2:\n",
    "    image2 = i.find('img')['src']\n",
    "    images.append(image2)"
   ]
  },
  {
   "cell_type": "code",
   "execution_count": 37,
   "metadata": {},
   "outputs": [],
   "source": [
    "meme_df = pd.DataFrame({\"Memes\":images})"
   ]
  },
  {
   "cell_type": "code",
   "execution_count": 38,
   "metadata": {},
   "outputs": [
    {
     "data": {
      "text/html": [
       "<div>\n",
       "<style scoped>\n",
       "    .dataframe tbody tr th:only-of-type {\n",
       "        vertical-align: middle;\n",
       "    }\n",
       "\n",
       "    .dataframe tbody tr th {\n",
       "        vertical-align: top;\n",
       "    }\n",
       "\n",
       "    .dataframe thead th {\n",
       "        text-align: right;\n",
       "    }\n",
       "</style>\n",
       "<table border=\"1\" class=\"dataframe\">\n",
       "  <thead>\n",
       "    <tr style=\"text-align: right;\">\n",
       "      <th></th>\n",
       "      <th>Memes</th>\n",
       "    </tr>\n",
       "  </thead>\n",
       "  <tbody>\n",
       "    <tr>\n",
       "      <td>0</td>\n",
       "      <td>https://preview.redd.it/pr8mbi49buq41.jpg?widt...</td>\n",
       "    </tr>\n",
       "    <tr>\n",
       "      <td>1</td>\n",
       "      <td>https://external-preview.redd.it/P8qyYG53_abAA...</td>\n",
       "    </tr>\n",
       "    <tr>\n",
       "      <td>2</td>\n",
       "      <td>https://i.redd.it/nxg96wzxqtq41.jpg</td>\n",
       "    </tr>\n",
       "    <tr>\n",
       "      <td>3</td>\n",
       "      <td>https://preview.redd.it/trwivjiq1rq41.jpg?widt...</td>\n",
       "    </tr>\n",
       "    <tr>\n",
       "      <td>4</td>\n",
       "      <td>https://preview.redd.it/1xsbtxskxrq41.jpg?widt...</td>\n",
       "    </tr>\n",
       "    <tr>\n",
       "      <td>5</td>\n",
       "      <td>https://preview.redd.it/axu9damvstq41.jpg?widt...</td>\n",
       "    </tr>\n",
       "    <tr>\n",
       "      <td>6</td>\n",
       "      <td>https://preview.redd.it/n4hc5pudytq41.jpg?widt...</td>\n",
       "    </tr>\n",
       "    <tr>\n",
       "      <td>7</td>\n",
       "      <td>https://preview.redd.it/uy0cy8qybrq41.jpg?widt...</td>\n",
       "    </tr>\n",
       "    <tr>\n",
       "      <td>8</td>\n",
       "      <td>https://preview.redd.it/dhuuo8rpqtq41.jpg?widt...</td>\n",
       "    </tr>\n",
       "    <tr>\n",
       "      <td>9</td>\n",
       "      <td>https://preview.redd.it/f88ltgb3msq41.jpg?widt...</td>\n",
       "    </tr>\n",
       "    <tr>\n",
       "      <td>10</td>\n",
       "      <td>https://preview.redd.it/nqp5oph30vq41.jpg?widt...</td>\n",
       "    </tr>\n",
       "    <tr>\n",
       "      <td>11</td>\n",
       "      <td>https://preview.redd.it/stm069dygtq41.jpg?widt...</td>\n",
       "    </tr>\n",
       "    <tr>\n",
       "      <td>12</td>\n",
       "      <td>https://i.redd.it/dg6tazzztsq41.jpg</td>\n",
       "    </tr>\n",
       "    <tr>\n",
       "      <td>13</td>\n",
       "      <td>https://preview.redd.it/jzdp2zllzuq41.jpg?widt...</td>\n",
       "    </tr>\n",
       "    <tr>\n",
       "      <td>14</td>\n",
       "      <td>https://preview.redd.it/toegdy8qjtq41.png?widt...</td>\n",
       "    </tr>\n",
       "    <tr>\n",
       "      <td>15</td>\n",
       "      <td>https://i.redd.it/j0g21s7qctq41.jpg</td>\n",
       "    </tr>\n",
       "    <tr>\n",
       "      <td>16</td>\n",
       "      <td>https://preview.redd.it/qxtq8hqzgsq41.jpg?widt...</td>\n",
       "    </tr>\n",
       "    <tr>\n",
       "      <td>17</td>\n",
       "      <td>https://i.redd.it/xn5efl87ftq41.jpg</td>\n",
       "    </tr>\n",
       "    <tr>\n",
       "      <td>18</td>\n",
       "      <td>https://external-preview.redd.it/fEMp5G86NimuG...</td>\n",
       "    </tr>\n",
       "    <tr>\n",
       "      <td>19</td>\n",
       "      <td>https://i.redd.it/ep8vpd0feuq41.jpg</td>\n",
       "    </tr>\n",
       "    <tr>\n",
       "      <td>20</td>\n",
       "      <td>https://preview.redd.it/66kp4lifosq41.png?widt...</td>\n",
       "    </tr>\n",
       "    <tr>\n",
       "      <td>21</td>\n",
       "      <td>https://preview.redd.it/uhmhdm030tq41.jpg?widt...</td>\n",
       "    </tr>\n",
       "    <tr>\n",
       "      <td>22</td>\n",
       "      <td>https://preview.redd.it/xez9pvy3ftq41.jpg?widt...</td>\n",
       "    </tr>\n",
       "    <tr>\n",
       "      <td>23</td>\n",
       "      <td>https://preview.redd.it/of06bgy3wuq41.jpg?widt...</td>\n",
       "    </tr>\n",
       "    <tr>\n",
       "      <td>24</td>\n",
       "      <td>https://preview.redd.it/4y4xla7trsq41.jpg?widt...</td>\n",
       "    </tr>\n",
       "    <tr>\n",
       "      <td>25</td>\n",
       "      <td>https://preview.redd.it/24smtius5dg41.jpg?widt...</td>\n",
       "    </tr>\n",
       "    <tr>\n",
       "      <td>26</td>\n",
       "      <td>https://preview.redd.it/89mep1u1mrp41.jpg?widt...</td>\n",
       "    </tr>\n",
       "    <tr>\n",
       "      <td>27</td>\n",
       "      <td>https://preview.redd.it/d2ixcp85zeq41.jpg?widt...</td>\n",
       "    </tr>\n",
       "    <tr>\n",
       "      <td>28</td>\n",
       "      <td>https://preview.redd.it/mgj1xku3rhp41.jpg?widt...</td>\n",
       "    </tr>\n",
       "    <tr>\n",
       "      <td>29</td>\n",
       "      <td>https://i.redd.it/lc7e87asvsq41.png</td>\n",
       "    </tr>\n",
       "    <tr>\n",
       "      <td>30</td>\n",
       "      <td>https://preview.redd.it/f53424y2alq41.jpg?widt...</td>\n",
       "    </tr>\n",
       "    <tr>\n",
       "      <td>31</td>\n",
       "      <td>https://preview.redd.it/ylmr1ldb2tp41.jpg?widt...</td>\n",
       "    </tr>\n",
       "    <tr>\n",
       "      <td>32</td>\n",
       "      <td>https://preview.redd.it/mueg4irhegq41.png?widt...</td>\n",
       "    </tr>\n",
       "    <tr>\n",
       "      <td>33</td>\n",
       "      <td>https://preview.redd.it/gm0sc5uzvvp41.jpg?widt...</td>\n",
       "    </tr>\n",
       "    <tr>\n",
       "      <td>34</td>\n",
       "      <td>https://preview.redd.it/97oni3eecjq41.jpg?widt...</td>\n",
       "    </tr>\n",
       "    <tr>\n",
       "      <td>35</td>\n",
       "      <td>https://preview.redd.it/0p4j6nz0kkq41.jpg?widt...</td>\n",
       "    </tr>\n",
       "    <tr>\n",
       "      <td>36</td>\n",
       "      <td>https://preview.redd.it/xsodm4c243q41.jpg?widt...</td>\n",
       "    </tr>\n",
       "    <tr>\n",
       "      <td>37</td>\n",
       "      <td>https://preview.redd.it/ss6pmragrhq41.jpg?widt...</td>\n",
       "    </tr>\n",
       "    <tr>\n",
       "      <td>38</td>\n",
       "      <td>https://preview.redd.it/k00yth3c1nq41.jpg?widt...</td>\n",
       "    </tr>\n",
       "    <tr>\n",
       "      <td>39</td>\n",
       "      <td>https://preview.redd.it/djno60bzbrq41.jpg?widt...</td>\n",
       "    </tr>\n",
       "    <tr>\n",
       "      <td>40</td>\n",
       "      <td>https://preview.redd.it/zaiditb12zp41.png?widt...</td>\n",
       "    </tr>\n",
       "    <tr>\n",
       "      <td>41</td>\n",
       "      <td>https://preview.redd.it/ckvvbpbqt0q41.jpg?widt...</td>\n",
       "    </tr>\n",
       "    <tr>\n",
       "      <td>42</td>\n",
       "      <td>https://preview.redd.it/35mki814lyp41.jpg?widt...</td>\n",
       "    </tr>\n",
       "    <tr>\n",
       "      <td>43</td>\n",
       "      <td>https://preview.redd.it/ydwbcmayvpq41.jpg?widt...</td>\n",
       "    </tr>\n",
       "    <tr>\n",
       "      <td>44</td>\n",
       "      <td>https://preview.redd.it/89864q04tmp41.jpg?widt...</td>\n",
       "    </tr>\n",
       "    <tr>\n",
       "      <td>45</td>\n",
       "      <td>https://preview.redd.it/g40k75rtrjq41.jpg?widt...</td>\n",
       "    </tr>\n",
       "    <tr>\n",
       "      <td>46</td>\n",
       "      <td>https://preview.redd.it/pa42kwtrflq41.jpg?widt...</td>\n",
       "    </tr>\n",
       "    <tr>\n",
       "      <td>47</td>\n",
       "      <td>https://i.redd.it/pngz4ry8wgq41.png</td>\n",
       "    </tr>\n",
       "    <tr>\n",
       "      <td>48</td>\n",
       "      <td>https://preview.redd.it/lxqc9y0c7xp41.jpg?widt...</td>\n",
       "    </tr>\n",
       "    <tr>\n",
       "      <td>49</td>\n",
       "      <td>https://preview.redd.it/oaczkqez5lp41.jpg?widt...</td>\n",
       "    </tr>\n",
       "    <tr>\n",
       "      <td>50</td>\n",
       "      <td>https://preview.redd.it/jlwuqapkvzp41.jpg?widt...</td>\n",
       "    </tr>\n",
       "  </tbody>\n",
       "</table>\n",
       "</div>"
      ],
      "text/plain": [
       "                                                Memes\n",
       "0   https://preview.redd.it/pr8mbi49buq41.jpg?widt...\n",
       "1   https://external-preview.redd.it/P8qyYG53_abAA...\n",
       "2                 https://i.redd.it/nxg96wzxqtq41.jpg\n",
       "3   https://preview.redd.it/trwivjiq1rq41.jpg?widt...\n",
       "4   https://preview.redd.it/1xsbtxskxrq41.jpg?widt...\n",
       "5   https://preview.redd.it/axu9damvstq41.jpg?widt...\n",
       "6   https://preview.redd.it/n4hc5pudytq41.jpg?widt...\n",
       "7   https://preview.redd.it/uy0cy8qybrq41.jpg?widt...\n",
       "8   https://preview.redd.it/dhuuo8rpqtq41.jpg?widt...\n",
       "9   https://preview.redd.it/f88ltgb3msq41.jpg?widt...\n",
       "10  https://preview.redd.it/nqp5oph30vq41.jpg?widt...\n",
       "11  https://preview.redd.it/stm069dygtq41.jpg?widt...\n",
       "12                https://i.redd.it/dg6tazzztsq41.jpg\n",
       "13  https://preview.redd.it/jzdp2zllzuq41.jpg?widt...\n",
       "14  https://preview.redd.it/toegdy8qjtq41.png?widt...\n",
       "15                https://i.redd.it/j0g21s7qctq41.jpg\n",
       "16  https://preview.redd.it/qxtq8hqzgsq41.jpg?widt...\n",
       "17                https://i.redd.it/xn5efl87ftq41.jpg\n",
       "18  https://external-preview.redd.it/fEMp5G86NimuG...\n",
       "19                https://i.redd.it/ep8vpd0feuq41.jpg\n",
       "20  https://preview.redd.it/66kp4lifosq41.png?widt...\n",
       "21  https://preview.redd.it/uhmhdm030tq41.jpg?widt...\n",
       "22  https://preview.redd.it/xez9pvy3ftq41.jpg?widt...\n",
       "23  https://preview.redd.it/of06bgy3wuq41.jpg?widt...\n",
       "24  https://preview.redd.it/4y4xla7trsq41.jpg?widt...\n",
       "25  https://preview.redd.it/24smtius5dg41.jpg?widt...\n",
       "26  https://preview.redd.it/89mep1u1mrp41.jpg?widt...\n",
       "27  https://preview.redd.it/d2ixcp85zeq41.jpg?widt...\n",
       "28  https://preview.redd.it/mgj1xku3rhp41.jpg?widt...\n",
       "29                https://i.redd.it/lc7e87asvsq41.png\n",
       "30  https://preview.redd.it/f53424y2alq41.jpg?widt...\n",
       "31  https://preview.redd.it/ylmr1ldb2tp41.jpg?widt...\n",
       "32  https://preview.redd.it/mueg4irhegq41.png?widt...\n",
       "33  https://preview.redd.it/gm0sc5uzvvp41.jpg?widt...\n",
       "34  https://preview.redd.it/97oni3eecjq41.jpg?widt...\n",
       "35  https://preview.redd.it/0p4j6nz0kkq41.jpg?widt...\n",
       "36  https://preview.redd.it/xsodm4c243q41.jpg?widt...\n",
       "37  https://preview.redd.it/ss6pmragrhq41.jpg?widt...\n",
       "38  https://preview.redd.it/k00yth3c1nq41.jpg?widt...\n",
       "39  https://preview.redd.it/djno60bzbrq41.jpg?widt...\n",
       "40  https://preview.redd.it/zaiditb12zp41.png?widt...\n",
       "41  https://preview.redd.it/ckvvbpbqt0q41.jpg?widt...\n",
       "42  https://preview.redd.it/35mki814lyp41.jpg?widt...\n",
       "43  https://preview.redd.it/ydwbcmayvpq41.jpg?widt...\n",
       "44  https://preview.redd.it/89864q04tmp41.jpg?widt...\n",
       "45  https://preview.redd.it/g40k75rtrjq41.jpg?widt...\n",
       "46  https://preview.redd.it/pa42kwtrflq41.jpg?widt...\n",
       "47                https://i.redd.it/pngz4ry8wgq41.png\n",
       "48  https://preview.redd.it/lxqc9y0c7xp41.jpg?widt...\n",
       "49  https://preview.redd.it/oaczkqez5lp41.jpg?widt...\n",
       "50  https://preview.redd.it/jlwuqapkvzp41.jpg?widt..."
      ]
     },
     "execution_count": 38,
     "metadata": {},
     "output_type": "execute_result"
    }
   ],
   "source": [
    "meme_df"
   ]
  },
  {
   "cell_type": "code",
   "execution_count": 39,
   "metadata": {},
   "outputs": [],
   "source": [
    "pd.read_csv('static/csv/memes.csv').append(meme_df).drop_duplicates().to_csv('static/csv/memes.csv',index=False, header=True)"
   ]
  },
  {
   "cell_type": "code",
   "execution_count": 40,
   "metadata": {},
   "outputs": [
    {
     "data": {
      "text/html": [
       "<div>\n",
       "<style scoped>\n",
       "    .dataframe tbody tr th:only-of-type {\n",
       "        vertical-align: middle;\n",
       "    }\n",
       "\n",
       "    .dataframe tbody tr th {\n",
       "        vertical-align: top;\n",
       "    }\n",
       "\n",
       "    .dataframe thead th {\n",
       "        text-align: right;\n",
       "    }\n",
       "</style>\n",
       "<table border=\"1\" class=\"dataframe\">\n",
       "  <thead>\n",
       "    <tr style=\"text-align: right;\">\n",
       "      <th></th>\n",
       "      <th>Memes</th>\n",
       "    </tr>\n",
       "  </thead>\n",
       "  <tbody>\n",
       "    <tr>\n",
       "      <td>0</td>\n",
       "      <td>https://i.redd.it/lc7e87asvsq41.png</td>\n",
       "    </tr>\n",
       "    <tr>\n",
       "      <td>1</td>\n",
       "      <td>https://preview.redd.it/of06bgy3wuq41.jpg?widt...</td>\n",
       "    </tr>\n",
       "    <tr>\n",
       "      <td>2</td>\n",
       "      <td>https://i.redd.it/ep8vpd0feuq41.jpg</td>\n",
       "    </tr>\n",
       "    <tr>\n",
       "      <td>3</td>\n",
       "      <td>https://preview.redd.it/toegdy8qjtq41.png?widt...</td>\n",
       "    </tr>\n",
       "    <tr>\n",
       "      <td>4</td>\n",
       "      <td>https://preview.redd.it/jzdp2zllzuq41.jpg?widt...</td>\n",
       "    </tr>\n",
       "    <tr>\n",
       "      <td>...</td>\n",
       "      <td>...</td>\n",
       "    </tr>\n",
       "    <tr>\n",
       "      <td>108</td>\n",
       "      <td>https://external-preview.redd.it/iFqOVTEU070iD...</td>\n",
       "    </tr>\n",
       "    <tr>\n",
       "      <td>109</td>\n",
       "      <td>https://external-preview.redd.it/zJsf1l2rQ07tY...</td>\n",
       "    </tr>\n",
       "    <tr>\n",
       "      <td>110</td>\n",
       "      <td>https://preview.redd.it/8di8z7z3ttq41.jpg?widt...</td>\n",
       "    </tr>\n",
       "    <tr>\n",
       "      <td>111</td>\n",
       "      <td>https://preview.redd.it/xez9pvy3ftq41.jpg?widt...</td>\n",
       "    </tr>\n",
       "    <tr>\n",
       "      <td>112</td>\n",
       "      <td>https://external-preview.redd.it/Uy-8bKal81pZZ...</td>\n",
       "    </tr>\n",
       "  </tbody>\n",
       "</table>\n",
       "<p>113 rows × 1 columns</p>\n",
       "</div>"
      ],
      "text/plain": [
       "                                                 Memes\n",
       "0                  https://i.redd.it/lc7e87asvsq41.png\n",
       "1    https://preview.redd.it/of06bgy3wuq41.jpg?widt...\n",
       "2                  https://i.redd.it/ep8vpd0feuq41.jpg\n",
       "3    https://preview.redd.it/toegdy8qjtq41.png?widt...\n",
       "4    https://preview.redd.it/jzdp2zllzuq41.jpg?widt...\n",
       "..                                                 ...\n",
       "108  https://external-preview.redd.it/iFqOVTEU070iD...\n",
       "109  https://external-preview.redd.it/zJsf1l2rQ07tY...\n",
       "110  https://preview.redd.it/8di8z7z3ttq41.jpg?widt...\n",
       "111  https://preview.redd.it/xez9pvy3ftq41.jpg?widt...\n",
       "112  https://external-preview.redd.it/Uy-8bKal81pZZ...\n",
       "\n",
       "[113 rows x 1 columns]"
      ]
     },
     "execution_count": 40,
     "metadata": {},
     "output_type": "execute_result"
    }
   ],
   "source": [
    "new_df = pd.read_csv('static/csv/memes.csv')\n",
    "new_df[\"Memes\"] = new_df[\"Memes\"].values[::-1]\n",
    "new_df"
   ]
  },
  {
   "cell_type": "code",
   "execution_count": 41,
   "metadata": {},
   "outputs": [],
   "source": [
    "new_df.to_csv('static/csv/memes.csv', index=False, header=True)"
   ]
  },
  {
   "cell_type": "code",
   "execution_count": 42,
   "metadata": {},
   "outputs": [],
   "source": [
    "browser.quit()"
   ]
  }
 ],
 "metadata": {
  "kernelspec": {
   "display_name": "Python 3",
   "language": "python",
   "name": "python3"
  },
  "language_info": {
   "codemirror_mode": {
    "name": "ipython",
    "version": 3
   },
   "file_extension": ".py",
   "mimetype": "text/x-python",
   "name": "python",
   "nbconvert_exporter": "python",
   "pygments_lexer": "ipython3",
   "version": "3.7.4"
  }
 },
 "nbformat": 4,
 "nbformat_minor": 2
}
