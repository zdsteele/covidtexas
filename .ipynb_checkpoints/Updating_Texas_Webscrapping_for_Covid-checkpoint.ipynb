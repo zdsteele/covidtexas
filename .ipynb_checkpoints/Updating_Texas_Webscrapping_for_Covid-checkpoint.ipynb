{
 "cells": [
  {
   "cell_type": "code",
   "execution_count": 20,
   "metadata": {},
   "outputs": [],
   "source": [
    "import pandas as pd\n",
    "import numpy as np\n",
    "from bs4 import BeautifulSoup as bs\n",
    "from time import sleep\n",
    "from datetime import datetime\n",
    "from splinter import Browser\n",
    "from selenium.webdriver.common.keys import Keys\n",
    "import time\n",
    "import json\n",
    "\n",
    "import os\n",
    "import shutil"
   ]
  },
  {
   "cell_type": "code",
   "execution_count": null,
   "metadata": {},
   "outputs": [],
   "source": []
  },
  {
   "cell_type": "code",
   "execution_count": null,
   "metadata": {},
   "outputs": [],
   "source": []
  },
  {
   "cell_type": "code",
   "execution_count": 21,
   "metadata": {},
   "outputs": [],
   "source": [
    "url = 'https://www.reddit.com/r/CoronavirusMemes/'"
   ]
  },
  {
   "cell_type": "code",
   "execution_count": 22,
   "metadata": {},
   "outputs": [],
   "source": [
    "url2 = 'https://www.reddit.com/r/memes/comments/f2fi3z/covid19/'"
   ]
  },
  {
   "cell_type": "code",
   "execution_count": 23,
   "metadata": {},
   "outputs": [],
   "source": [
    "# Path to chromedriver.exe\n",
    "executable_path = {'executable_path':'C:/Users/zacha/AppData/Local/bin/chromedriver.exe'}\n",
    "\n",
    "# Open the Splinter Browswer\n",
    "browser = Browser('chrome', **executable_path)"
   ]
  },
  {
   "cell_type": "code",
   "execution_count": 24,
   "metadata": {},
   "outputs": [],
   "source": [
    "browser.visit(url)\n",
    "time.sleep(10)"
   ]
  },
  {
   "cell_type": "code",
   "execution_count": 25,
   "metadata": {},
   "outputs": [],
   "source": [
    "html = browser.html\n",
    "soup = bs(html, 'html.parser')"
   ]
  },
  {
   "cell_type": "code",
   "execution_count": 26,
   "metadata": {},
   "outputs": [],
   "source": [
    "memes = soup.find_all('div', class_='_3Oa0THmZ3f5iZXAQ0hBJ0k')"
   ]
  },
  {
   "cell_type": "code",
   "execution_count": 27,
   "metadata": {},
   "outputs": [
    {
     "data": {
      "text/plain": [
       "[<div class=\"_3Oa0THmZ3f5iZXAQ0hBJ0k\" style=\"max-height:512px;margin:0 auto\"><div><img alt=\"Post image\" class=\"_2_tDEnGMLxpM6uOa2kaDB3 ImageBox-image media-element _1XWObl-3b9tPy64oaG6fax\" src=\"https://preview.redd.it/ue99iv70fmq41.jpg?width=640&amp;crop=smart&amp;auto=webp&amp;s=1a9e3e5fc615e1b1c266d9730ea74e6ee5b31e6a\" style=\"max-height:512px\"/></div></div>,\n",
       " <div class=\"_3Oa0THmZ3f5iZXAQ0hBJ0k\" style=\"max-height:512px;margin:0 auto\"><div><img alt=\"Post image\" class=\"_2_tDEnGMLxpM6uOa2kaDB3 ImageBox-image media-element _1XWObl-3b9tPy64oaG6fax\" src=\"https://preview.redd.it/ppxlntbp8oq41.jpg?width=640&amp;crop=smart&amp;auto=webp&amp;s=f86a7b0f5ec2d40b82e14673f8eadc782d692ff5\" style=\"max-height:512px\"/></div></div>,\n",
       " <div class=\"_3Oa0THmZ3f5iZXAQ0hBJ0k\" style=\"max-height:512px;margin:0 auto\"><div><img alt=\"Post image\" class=\"_2_tDEnGMLxpM6uOa2kaDB3 ImageBox-image media-element _1XWObl-3b9tPy64oaG6fax\" src=\"https://external-preview.redd.it/ltbQ95Q3h9yQIfGnIT37VENo16I-JjgA9lXik_g-crY.jpg?width=640&amp;crop=smart&amp;auto=webp&amp;s=c5fff72c0fa439b6be0818c76f6fc66411b913f3\" style=\"max-height:512px\"/></div></div>,\n",
       " <div class=\"_3Oa0THmZ3f5iZXAQ0hBJ0k\" style=\"max-height: 512px; margin: 0px auto;\"><div><img alt=\"Post image\" class=\"_2_tDEnGMLxpM6uOa2kaDB3 ImageBox-image media-element _1XWObl-3b9tPy64oaG6fax\" src=\"https://preview.redd.it/wbu6d4lppoq41.jpg?width=640&amp;crop=smart&amp;auto=webp&amp;s=9f424b892eee381224f4791b739008b543f126cb\" style=\"max-height: 512px;\"/></div></div>,\n",
       " <div class=\"_3Oa0THmZ3f5iZXAQ0hBJ0k\" style=\"max-height:512px;margin:0 auto\"><div><img alt=\"Post image\" class=\"_2_tDEnGMLxpM6uOa2kaDB3 ImageBox-image media-element _1XWObl-3b9tPy64oaG6fax\" src=\"https://preview.redd.it/hn8z75bkmnq41.jpg?width=640&amp;crop=smart&amp;auto=webp&amp;s=933b36389b1c3e88499b5932b7ba689f8afe631d\" style=\"max-height:512px\"/></div></div>,\n",
       " <div class=\"_3Oa0THmZ3f5iZXAQ0hBJ0k\" style=\"max-height:512px;margin:0 auto\"><div><img alt=\"Post image\" class=\"_2_tDEnGMLxpM6uOa2kaDB3 ImageBox-image media-element _1XWObl-3b9tPy64oaG6fax\" src=\"https://preview.redd.it/b30lmy32woq41.jpg?width=640&amp;crop=smart&amp;auto=webp&amp;s=02a25277d00020dd5e151185a063ffaf28138b77\" style=\"max-height:512px\"/></div></div>,\n",
       " <div class=\"_3Oa0THmZ3f5iZXAQ0hBJ0k\" style=\"max-height: 512px; margin: 0px auto;\"><div><img alt=\"Post image\" class=\"_2_tDEnGMLxpM6uOa2kaDB3 ImageBox-image media-element _1XWObl-3b9tPy64oaG6fax\" src=\"https://preview.redd.it/nt147xg1pmq41.jpg?width=640&amp;crop=smart&amp;auto=webp&amp;s=f333b7198de0e0af7f2e22a41f69e758889737b1\" style=\"max-height: 512px;\"/></div></div>,\n",
       " <div class=\"_3Oa0THmZ3f5iZXAQ0hBJ0k\" style=\"max-height: 512px; margin: 0px auto;\"><div><img alt=\"Post image\" class=\"_2_tDEnGMLxpM6uOa2kaDB3 ImageBox-image media-element _1XWObl-3b9tPy64oaG6fax\" src=\"https://preview.redd.it/byhsa39x8mq41.jpg?width=640&amp;crop=smart&amp;auto=webp&amp;s=3cf35982844186d5710b5a479d564627c14c9489\" style=\"max-height: 512px;\"/></div></div>,\n",
       " <div class=\"_3Oa0THmZ3f5iZXAQ0hBJ0k\" style=\"max-height: 512px; margin: 0px auto;\"><div><img alt=\"Post image\" class=\"_2_tDEnGMLxpM6uOa2kaDB3 ImageBox-image media-element _1XWObl-3b9tPy64oaG6fax\" src=\"https://preview.redd.it/1tpyflvlrnq41.jpg?width=640&amp;crop=smart&amp;auto=webp&amp;s=bf4aa24a956eda7e6733ed1a0967866104b14114\" style=\"max-height: 512px;\"/></div></div>,\n",
       " <div class=\"_3Oa0THmZ3f5iZXAQ0hBJ0k\" style=\"max-height: 512px; margin: 0px auto;\"><div><img alt=\"Post image\" class=\"_2_tDEnGMLxpM6uOa2kaDB3 ImageBox-image media-element _1XWObl-3b9tPy64oaG6fax\" src=\"https://preview.redd.it/yv7v4ce43mq41.jpg?width=640&amp;crop=smart&amp;auto=webp&amp;s=b3f15b29278f5e8c94c831d602b60313659314c4\" style=\"max-height: 512px;\"/></div></div>,\n",
       " <div class=\"_3Oa0THmZ3f5iZXAQ0hBJ0k\" style=\"max-height: 512px; margin: 0px auto;\"><div><img alt=\"Post image\" class=\"_2_tDEnGMLxpM6uOa2kaDB3 ImageBox-image media-element _1XWObl-3b9tPy64oaG6fax\" src=\"https://preview.redd.it/w9j794mr7pq41.jpg?width=640&amp;crop=smart&amp;auto=webp&amp;s=78203806e859730a031e727caa2c634b6c4553ad\" style=\"max-height: 512px;\"/></div></div>,\n",
       " <div class=\"_3Oa0THmZ3f5iZXAQ0hBJ0k\" style=\"max-height: 512px; margin: 0px auto;\"><div><img alt=\"Post image\" class=\"_2_tDEnGMLxpM6uOa2kaDB3 ImageBox-image media-element _1XWObl-3b9tPy64oaG6fax\" src=\"https://preview.redd.it/m7pv2slr4nq41.jpg?width=640&amp;crop=smart&amp;auto=webp&amp;s=9555f6a09d48cb9dde59813592b551d3bbe8ea6c\" style=\"max-height: 512px;\"/></div></div>,\n",
       " <div class=\"_3Oa0THmZ3f5iZXAQ0hBJ0k\" style=\"max-height: 512px; margin: 0px auto;\"><div><img alt=\"Post image\" class=\"_2_tDEnGMLxpM6uOa2kaDB3 ImageBox-image media-element _1XWObl-3b9tPy64oaG6fax\" src=\"https://preview.redd.it/swanft1l3nq41.jpg?width=640&amp;crop=smart&amp;auto=webp&amp;s=0c304be92cca9934739f779c12f8770cea007159\" style=\"max-height: 512px;\"/></div></div>,\n",
       " <div class=\"_3Oa0THmZ3f5iZXAQ0hBJ0k\" style=\"max-height: 512px; margin: 0px auto;\"><div><img alt=\"Post image\" class=\"_2_tDEnGMLxpM6uOa2kaDB3 ImageBox-image media-element _1XWObl-3b9tPy64oaG6fax\" src=\"https://preview.redd.it/tfvlero6joq41.jpg?width=640&amp;crop=smart&amp;auto=webp&amp;s=e4e1f9d402d38c9164fec1cfb4e12c01205765f2\" style=\"max-height: 512px;\"/></div></div>,\n",
       " <div class=\"_3Oa0THmZ3f5iZXAQ0hBJ0k\" style=\"max-height: 512px; margin: 0px auto;\"><div><img alt=\"Post image\" class=\"_2_tDEnGMLxpM6uOa2kaDB3 ImageBox-image media-element _1XWObl-3b9tPy64oaG6fax\" src=\"https://preview.redd.it/7ft5g5sivnq41.jpg?width=640&amp;crop=smart&amp;auto=webp&amp;s=174e5538810ce3eb0660907fad8cee69879f3e13\" style=\"max-height: 512px;\"/></div></div>,\n",
       " <div class=\"_3Oa0THmZ3f5iZXAQ0hBJ0k\" style=\"max-height: 512px; margin: 0px auto;\"><div><img alt=\"Post image\" class=\"_2_tDEnGMLxpM6uOa2kaDB3 ImageBox-image media-element _1XWObl-3b9tPy64oaG6fax\" src=\"https://preview.redd.it/sirtd8fjumq41.jpg?width=640&amp;crop=smart&amp;auto=webp&amp;s=d9225b7b0ead0c5e0001e9e1ee041600e720e900\" style=\"max-height: 512px;\"/></div></div>,\n",
       " <div class=\"_3Oa0THmZ3f5iZXAQ0hBJ0k\" style=\"max-height: 512px; margin: 0px auto;\"><div><img alt=\"Post image\" class=\"_2_tDEnGMLxpM6uOa2kaDB3 ImageBox-image media-element _1XWObl-3b9tPy64oaG6fax\" src=\"https://preview.redd.it/nm7i1k0ehmq41.jpg?width=640&amp;crop=smart&amp;auto=webp&amp;s=466c869b2775477509493a1cac655d757391f75a\" style=\"max-height: 512px;\"/></div></div>,\n",
       " <div class=\"_3Oa0THmZ3f5iZXAQ0hBJ0k\" style=\"max-height: 512px; margin: 0px auto;\"><div><img alt=\"Post image\" class=\"_2_tDEnGMLxpM6uOa2kaDB3 ImageBox-image media-element _1XWObl-3b9tPy64oaG6fax\" src=\"https://i.redd.it/mvdlaobrdnq41.jpg\" style=\"max-height: 512px;\"/></div></div>,\n",
       " <div class=\"_3Oa0THmZ3f5iZXAQ0hBJ0k\" style=\"max-height: 512px; margin: 0px auto;\"><div><img alt=\"Post image\" class=\"_2_tDEnGMLxpM6uOa2kaDB3 ImageBox-image media-element _1XWObl-3b9tPy64oaG6fax\" src=\"https://preview.redd.it/jxuufnnbklq41.jpg?width=640&amp;crop=smart&amp;auto=webp&amp;s=e87cb1c9b88bd1724f6c8e60977b9cf4cac7ae9f\" style=\"max-height: 512px;\"/></div></div>,\n",
       " <div class=\"_3Oa0THmZ3f5iZXAQ0hBJ0k\" style=\"max-height: 512px; margin: 0px auto;\"><div><img alt=\"Post image\" class=\"_2_tDEnGMLxpM6uOa2kaDB3 ImageBox-image media-element _1XWObl-3b9tPy64oaG6fax\" src=\"https://preview.redd.it/qd0sykjmztp41.jpg?width=640&amp;crop=smart&amp;auto=webp&amp;s=52a505fc5c1f16b6b351f065301a7c5359427e7b\" style=\"max-height: 512px;\"/></div></div>,\n",
       " <div class=\"_3Oa0THmZ3f5iZXAQ0hBJ0k\" style=\"max-height: 512px; margin: 0px auto;\"><div><img alt=\"Post image\" class=\"_2_tDEnGMLxpM6uOa2kaDB3 ImageBox-image media-element _1XWObl-3b9tPy64oaG6fax\" src=\"https://preview.redd.it/3ym97wuvhoq41.jpg?width=640&amp;crop=smart&amp;auto=webp&amp;s=489f60ae976c8d0376ec77a512d5cca3267ec2b4\" style=\"max-height: 512px;\"/></div></div>,\n",
       " <div class=\"_3Oa0THmZ3f5iZXAQ0hBJ0k\" style=\"max-height: 512px; margin: 0px auto;\"><div><img alt=\"Post image\" class=\"_2_tDEnGMLxpM6uOa2kaDB3 ImageBox-image media-element _1XWObl-3b9tPy64oaG6fax\" src=\"https://external-preview.redd.it/fEMp5G86NimuG2lTjIFk-gqybSnRVlmTWVFwObkjjZY.jpg?width=640&amp;crop=smart&amp;auto=webp&amp;s=62dd9d1bcd5ae746a857cc8d060a3db7615d0ce5\" style=\"max-height: 512px;\"/></div></div>,\n",
       " <div class=\"_3Oa0THmZ3f5iZXAQ0hBJ0k\" style=\"max-height: 512px; margin: 0px auto;\"><div><img alt=\"Post image\" class=\"_2_tDEnGMLxpM6uOa2kaDB3 ImageBox-image media-element _1XWObl-3b9tPy64oaG6fax\" src=\"https://preview.redd.it/sosq66n8aoq41.jpg?width=640&amp;crop=smart&amp;auto=webp&amp;s=4d218f6ce7045c0e076314f16a0e7806eeb9c32c\" style=\"max-height: 512px;\"/></div></div>,\n",
       " <div class=\"_3Oa0THmZ3f5iZXAQ0hBJ0k\" style=\"max-height: 512px; margin: 0px auto;\"><div><img alt=\"Post image\" class=\"_2_tDEnGMLxpM6uOa2kaDB3 ImageBox-image media-element _1XWObl-3b9tPy64oaG6fax\" src=\"https://preview.redd.it/fvm298owemq41.jpg?width=640&amp;crop=smart&amp;auto=webp&amp;s=a96bd4c8c5e5dade6a712800e8cf9a184d91bdda\" style=\"max-height: 512px;\"/></div></div>,\n",
       " <div class=\"_3Oa0THmZ3f5iZXAQ0hBJ0k\" style=\"max-height: 512px; margin: 0px auto;\"><div><img alt=\"Post image\" class=\"_2_tDEnGMLxpM6uOa2kaDB3 ImageBox-image media-element _1XWObl-3b9tPy64oaG6fax\" src=\"https://preview.redd.it/0jcaayg1wlq41.jpg?width=640&amp;crop=smart&amp;auto=webp&amp;s=795743cf88c166c4e92771805653536a7c248b69\" style=\"max-height: 512px;\"/></div></div>,\n",
       " <div class=\"_3Oa0THmZ3f5iZXAQ0hBJ0k\" style=\"max-height: 512px; margin: 0px auto;\"><div><img alt=\"Post image\" class=\"_2_tDEnGMLxpM6uOa2kaDB3 ImageBox-image media-element _1XWObl-3b9tPy64oaG6fax\" src=\"https://preview.redd.it/q07o8u5c0iq41.jpg?width=640&amp;crop=smart&amp;auto=webp&amp;s=d9dc5419bf2de3a3ba0adb7614b4c44456e71379\" style=\"max-height: 512px;\"/></div></div>,\n",
       " <div class=\"_3Oa0THmZ3f5iZXAQ0hBJ0k\" style=\"max-height: 512px; margin: 0px auto;\"><div><img alt=\"Post image\" class=\"_2_tDEnGMLxpM6uOa2kaDB3 ImageBox-image media-element _1XWObl-3b9tPy64oaG6fax\" src=\"https://preview.redd.it/vu9i8bdnmoq41.jpg?width=640&amp;crop=smart&amp;auto=webp&amp;s=d9eeddc93ab55d1b8c01c632bc8d2492b8f3f931\" style=\"max-height: 512px;\"/></div></div>]"
      ]
     },
     "execution_count": 27,
     "metadata": {},
     "output_type": "execute_result"
    }
   ],
   "source": [
    "memes"
   ]
  },
  {
   "cell_type": "code",
   "execution_count": 28,
   "metadata": {},
   "outputs": [
    {
     "data": {
      "text/plain": [
       "27"
      ]
     },
     "execution_count": 28,
     "metadata": {},
     "output_type": "execute_result"
    }
   ],
   "source": [
    "len(memes)"
   ]
  },
  {
   "cell_type": "code",
   "execution_count": 29,
   "metadata": {},
   "outputs": [],
   "source": [
    "images = []"
   ]
  },
  {
   "cell_type": "code",
   "execution_count": 30,
   "metadata": {},
   "outputs": [],
   "source": [
    "for i in memes:\n",
    "    \n",
    "    image = i.find('img')['src']\n",
    "    images.append(image)"
   ]
  },
  {
   "cell_type": "code",
   "execution_count": 31,
   "metadata": {},
   "outputs": [],
   "source": [
    "browser.visit(url2)\n",
    "time.sleep(10)"
   ]
  },
  {
   "cell_type": "code",
   "execution_count": 32,
   "metadata": {},
   "outputs": [],
   "source": [
    "html = browser.html\n",
    "soup = bs(html, 'html.parser')"
   ]
  },
  {
   "cell_type": "code",
   "execution_count": 33,
   "metadata": {},
   "outputs": [],
   "source": [
    "memes2 = soup.find_all('div', class_='_3Oa0THmZ3f5iZXAQ0hBJ0k')"
   ]
  },
  {
   "cell_type": "code",
   "execution_count": 34,
   "metadata": {},
   "outputs": [],
   "source": [
    "for i in memes2:\n",
    "    image2 = i.find('img')['src']\n",
    "    images.append(image2)"
   ]
  },
  {
   "cell_type": "code",
   "execution_count": 35,
   "metadata": {},
   "outputs": [],
   "source": [
    "meme_df = pd.DataFrame({\"Memes\":images})"
   ]
  },
  {
   "cell_type": "code",
   "execution_count": 36,
   "metadata": {},
   "outputs": [
    {
     "data": {
      "text/html": [
       "<div>\n",
       "<style scoped>\n",
       "    .dataframe tbody tr th:only-of-type {\n",
       "        vertical-align: middle;\n",
       "    }\n",
       "\n",
       "    .dataframe tbody tr th {\n",
       "        vertical-align: top;\n",
       "    }\n",
       "\n",
       "    .dataframe thead th {\n",
       "        text-align: right;\n",
       "    }\n",
       "</style>\n",
       "<table border=\"1\" class=\"dataframe\">\n",
       "  <thead>\n",
       "    <tr style=\"text-align: right;\">\n",
       "      <th></th>\n",
       "      <th>Memes</th>\n",
       "    </tr>\n",
       "  </thead>\n",
       "  <tbody>\n",
       "    <tr>\n",
       "      <td>0</td>\n",
       "      <td>https://preview.redd.it/ue99iv70fmq41.jpg?widt...</td>\n",
       "    </tr>\n",
       "    <tr>\n",
       "      <td>1</td>\n",
       "      <td>https://preview.redd.it/ppxlntbp8oq41.jpg?widt...</td>\n",
       "    </tr>\n",
       "    <tr>\n",
       "      <td>2</td>\n",
       "      <td>https://external-preview.redd.it/ltbQ95Q3h9yQI...</td>\n",
       "    </tr>\n",
       "    <tr>\n",
       "      <td>3</td>\n",
       "      <td>https://preview.redd.it/wbu6d4lppoq41.jpg?widt...</td>\n",
       "    </tr>\n",
       "    <tr>\n",
       "      <td>4</td>\n",
       "      <td>https://preview.redd.it/hn8z75bkmnq41.jpg?widt...</td>\n",
       "    </tr>\n",
       "    <tr>\n",
       "      <td>5</td>\n",
       "      <td>https://preview.redd.it/b30lmy32woq41.jpg?widt...</td>\n",
       "    </tr>\n",
       "    <tr>\n",
       "      <td>6</td>\n",
       "      <td>https://preview.redd.it/nt147xg1pmq41.jpg?widt...</td>\n",
       "    </tr>\n",
       "    <tr>\n",
       "      <td>7</td>\n",
       "      <td>https://preview.redd.it/byhsa39x8mq41.jpg?widt...</td>\n",
       "    </tr>\n",
       "    <tr>\n",
       "      <td>8</td>\n",
       "      <td>https://preview.redd.it/1tpyflvlrnq41.jpg?widt...</td>\n",
       "    </tr>\n",
       "    <tr>\n",
       "      <td>9</td>\n",
       "      <td>https://preview.redd.it/yv7v4ce43mq41.jpg?widt...</td>\n",
       "    </tr>\n",
       "    <tr>\n",
       "      <td>10</td>\n",
       "      <td>https://preview.redd.it/w9j794mr7pq41.jpg?widt...</td>\n",
       "    </tr>\n",
       "    <tr>\n",
       "      <td>11</td>\n",
       "      <td>https://preview.redd.it/m7pv2slr4nq41.jpg?widt...</td>\n",
       "    </tr>\n",
       "    <tr>\n",
       "      <td>12</td>\n",
       "      <td>https://preview.redd.it/swanft1l3nq41.jpg?widt...</td>\n",
       "    </tr>\n",
       "    <tr>\n",
       "      <td>13</td>\n",
       "      <td>https://preview.redd.it/tfvlero6joq41.jpg?widt...</td>\n",
       "    </tr>\n",
       "    <tr>\n",
       "      <td>14</td>\n",
       "      <td>https://preview.redd.it/7ft5g5sivnq41.jpg?widt...</td>\n",
       "    </tr>\n",
       "    <tr>\n",
       "      <td>15</td>\n",
       "      <td>https://preview.redd.it/sirtd8fjumq41.jpg?widt...</td>\n",
       "    </tr>\n",
       "    <tr>\n",
       "      <td>16</td>\n",
       "      <td>https://preview.redd.it/nm7i1k0ehmq41.jpg?widt...</td>\n",
       "    </tr>\n",
       "    <tr>\n",
       "      <td>17</td>\n",
       "      <td>https://i.redd.it/mvdlaobrdnq41.jpg</td>\n",
       "    </tr>\n",
       "    <tr>\n",
       "      <td>18</td>\n",
       "      <td>https://preview.redd.it/jxuufnnbklq41.jpg?widt...</td>\n",
       "    </tr>\n",
       "    <tr>\n",
       "      <td>19</td>\n",
       "      <td>https://preview.redd.it/qd0sykjmztp41.jpg?widt...</td>\n",
       "    </tr>\n",
       "    <tr>\n",
       "      <td>20</td>\n",
       "      <td>https://preview.redd.it/3ym97wuvhoq41.jpg?widt...</td>\n",
       "    </tr>\n",
       "    <tr>\n",
       "      <td>21</td>\n",
       "      <td>https://external-preview.redd.it/fEMp5G86NimuG...</td>\n",
       "    </tr>\n",
       "    <tr>\n",
       "      <td>22</td>\n",
       "      <td>https://preview.redd.it/sosq66n8aoq41.jpg?widt...</td>\n",
       "    </tr>\n",
       "    <tr>\n",
       "      <td>23</td>\n",
       "      <td>https://preview.redd.it/fvm298owemq41.jpg?widt...</td>\n",
       "    </tr>\n",
       "    <tr>\n",
       "      <td>24</td>\n",
       "      <td>https://preview.redd.it/0jcaayg1wlq41.jpg?widt...</td>\n",
       "    </tr>\n",
       "    <tr>\n",
       "      <td>25</td>\n",
       "      <td>https://preview.redd.it/q07o8u5c0iq41.jpg?widt...</td>\n",
       "    </tr>\n",
       "    <tr>\n",
       "      <td>26</td>\n",
       "      <td>https://preview.redd.it/vu9i8bdnmoq41.jpg?widt...</td>\n",
       "    </tr>\n",
       "    <tr>\n",
       "      <td>27</td>\n",
       "      <td>https://preview.redd.it/24smtius5dg41.jpg?widt...</td>\n",
       "    </tr>\n",
       "    <tr>\n",
       "      <td>28</td>\n",
       "      <td>https://preview.redd.it/g8u12cmuggp41.jpg?widt...</td>\n",
       "    </tr>\n",
       "    <tr>\n",
       "      <td>29</td>\n",
       "      <td>https://preview.redd.it/89mep1u1mrp41.jpg?widt...</td>\n",
       "    </tr>\n",
       "    <tr>\n",
       "      <td>30</td>\n",
       "      <td>https://preview.redd.it/d2ixcp85zeq41.jpg?widt...</td>\n",
       "    </tr>\n",
       "    <tr>\n",
       "      <td>31</td>\n",
       "      <td>https://preview.redd.it/mgj1xku3rhp41.jpg?widt...</td>\n",
       "    </tr>\n",
       "    <tr>\n",
       "      <td>32</td>\n",
       "      <td>https://preview.redd.it/f53424y2alq41.jpg?widt...</td>\n",
       "    </tr>\n",
       "    <tr>\n",
       "      <td>33</td>\n",
       "      <td>https://preview.redd.it/ylmr1ldb2tp41.jpg?widt...</td>\n",
       "    </tr>\n",
       "    <tr>\n",
       "      <td>34</td>\n",
       "      <td>https://preview.redd.it/mueg4irhegq41.png?widt...</td>\n",
       "    </tr>\n",
       "    <tr>\n",
       "      <td>35</td>\n",
       "      <td>https://preview.redd.it/gm0sc5uzvvp41.jpg?widt...</td>\n",
       "    </tr>\n",
       "    <tr>\n",
       "      <td>36</td>\n",
       "      <td>https://preview.redd.it/97oni3eecjq41.jpg?widt...</td>\n",
       "    </tr>\n",
       "    <tr>\n",
       "      <td>37</td>\n",
       "      <td>https://preview.redd.it/xsodm4c243q41.jpg?widt...</td>\n",
       "    </tr>\n",
       "    <tr>\n",
       "      <td>38</td>\n",
       "      <td>https://preview.redd.it/0p4j6nz0kkq41.jpg?widt...</td>\n",
       "    </tr>\n",
       "    <tr>\n",
       "      <td>39</td>\n",
       "      <td>https://preview.redd.it/ss6pmragrhq41.jpg?widt...</td>\n",
       "    </tr>\n",
       "    <tr>\n",
       "      <td>40</td>\n",
       "      <td>https://preview.redd.it/ff1edtgugdp41.jpg?widt...</td>\n",
       "    </tr>\n",
       "    <tr>\n",
       "      <td>41</td>\n",
       "      <td>https://preview.redd.it/zaiditb12zp41.png?widt...</td>\n",
       "    </tr>\n",
       "    <tr>\n",
       "      <td>42</td>\n",
       "      <td>https://preview.redd.it/ckvvbpbqt0q41.jpg?widt...</td>\n",
       "    </tr>\n",
       "    <tr>\n",
       "      <td>43</td>\n",
       "      <td>https://preview.redd.it/k00yth3c1nq41.jpg?widt...</td>\n",
       "    </tr>\n",
       "    <tr>\n",
       "      <td>44</td>\n",
       "      <td>https://preview.redd.it/35mki814lyp41.jpg?widt...</td>\n",
       "    </tr>\n",
       "    <tr>\n",
       "      <td>45</td>\n",
       "      <td>https://preview.redd.it/i1pfj38rtep41.jpg?widt...</td>\n",
       "    </tr>\n",
       "    <tr>\n",
       "      <td>46</td>\n",
       "      <td>https://preview.redd.it/89864q04tmp41.jpg?widt...</td>\n",
       "    </tr>\n",
       "    <tr>\n",
       "      <td>47</td>\n",
       "      <td>https://external-preview.redd.it/8k3G44FhP0zO1...</td>\n",
       "    </tr>\n",
       "    <tr>\n",
       "      <td>48</td>\n",
       "      <td>https://preview.redd.it/g40k75rtrjq41.jpg?widt...</td>\n",
       "    </tr>\n",
       "    <tr>\n",
       "      <td>49</td>\n",
       "      <td>https://i.redd.it/pngz4ry8wgq41.png</td>\n",
       "    </tr>\n",
       "    <tr>\n",
       "      <td>50</td>\n",
       "      <td>https://preview.redd.it/lxqc9y0c7xp41.jpg?widt...</td>\n",
       "    </tr>\n",
       "    <tr>\n",
       "      <td>51</td>\n",
       "      <td>https://preview.redd.it/pa42kwtrflq41.jpg?widt...</td>\n",
       "    </tr>\n",
       "    <tr>\n",
       "      <td>52</td>\n",
       "      <td>https://preview.redd.it/oaczkqez5lp41.jpg?widt...</td>\n",
       "    </tr>\n",
       "    <tr>\n",
       "      <td>53</td>\n",
       "      <td>https://preview.redd.it/jlwuqapkvzp41.jpg?widt...</td>\n",
       "    </tr>\n",
       "  </tbody>\n",
       "</table>\n",
       "</div>"
      ],
      "text/plain": [
       "                                                Memes\n",
       "0   https://preview.redd.it/ue99iv70fmq41.jpg?widt...\n",
       "1   https://preview.redd.it/ppxlntbp8oq41.jpg?widt...\n",
       "2   https://external-preview.redd.it/ltbQ95Q3h9yQI...\n",
       "3   https://preview.redd.it/wbu6d4lppoq41.jpg?widt...\n",
       "4   https://preview.redd.it/hn8z75bkmnq41.jpg?widt...\n",
       "5   https://preview.redd.it/b30lmy32woq41.jpg?widt...\n",
       "6   https://preview.redd.it/nt147xg1pmq41.jpg?widt...\n",
       "7   https://preview.redd.it/byhsa39x8mq41.jpg?widt...\n",
       "8   https://preview.redd.it/1tpyflvlrnq41.jpg?widt...\n",
       "9   https://preview.redd.it/yv7v4ce43mq41.jpg?widt...\n",
       "10  https://preview.redd.it/w9j794mr7pq41.jpg?widt...\n",
       "11  https://preview.redd.it/m7pv2slr4nq41.jpg?widt...\n",
       "12  https://preview.redd.it/swanft1l3nq41.jpg?widt...\n",
       "13  https://preview.redd.it/tfvlero6joq41.jpg?widt...\n",
       "14  https://preview.redd.it/7ft5g5sivnq41.jpg?widt...\n",
       "15  https://preview.redd.it/sirtd8fjumq41.jpg?widt...\n",
       "16  https://preview.redd.it/nm7i1k0ehmq41.jpg?widt...\n",
       "17                https://i.redd.it/mvdlaobrdnq41.jpg\n",
       "18  https://preview.redd.it/jxuufnnbklq41.jpg?widt...\n",
       "19  https://preview.redd.it/qd0sykjmztp41.jpg?widt...\n",
       "20  https://preview.redd.it/3ym97wuvhoq41.jpg?widt...\n",
       "21  https://external-preview.redd.it/fEMp5G86NimuG...\n",
       "22  https://preview.redd.it/sosq66n8aoq41.jpg?widt...\n",
       "23  https://preview.redd.it/fvm298owemq41.jpg?widt...\n",
       "24  https://preview.redd.it/0jcaayg1wlq41.jpg?widt...\n",
       "25  https://preview.redd.it/q07o8u5c0iq41.jpg?widt...\n",
       "26  https://preview.redd.it/vu9i8bdnmoq41.jpg?widt...\n",
       "27  https://preview.redd.it/24smtius5dg41.jpg?widt...\n",
       "28  https://preview.redd.it/g8u12cmuggp41.jpg?widt...\n",
       "29  https://preview.redd.it/89mep1u1mrp41.jpg?widt...\n",
       "30  https://preview.redd.it/d2ixcp85zeq41.jpg?widt...\n",
       "31  https://preview.redd.it/mgj1xku3rhp41.jpg?widt...\n",
       "32  https://preview.redd.it/f53424y2alq41.jpg?widt...\n",
       "33  https://preview.redd.it/ylmr1ldb2tp41.jpg?widt...\n",
       "34  https://preview.redd.it/mueg4irhegq41.png?widt...\n",
       "35  https://preview.redd.it/gm0sc5uzvvp41.jpg?widt...\n",
       "36  https://preview.redd.it/97oni3eecjq41.jpg?widt...\n",
       "37  https://preview.redd.it/xsodm4c243q41.jpg?widt...\n",
       "38  https://preview.redd.it/0p4j6nz0kkq41.jpg?widt...\n",
       "39  https://preview.redd.it/ss6pmragrhq41.jpg?widt...\n",
       "40  https://preview.redd.it/ff1edtgugdp41.jpg?widt...\n",
       "41  https://preview.redd.it/zaiditb12zp41.png?widt...\n",
       "42  https://preview.redd.it/ckvvbpbqt0q41.jpg?widt...\n",
       "43  https://preview.redd.it/k00yth3c1nq41.jpg?widt...\n",
       "44  https://preview.redd.it/35mki814lyp41.jpg?widt...\n",
       "45  https://preview.redd.it/i1pfj38rtep41.jpg?widt...\n",
       "46  https://preview.redd.it/89864q04tmp41.jpg?widt...\n",
       "47  https://external-preview.redd.it/8k3G44FhP0zO1...\n",
       "48  https://preview.redd.it/g40k75rtrjq41.jpg?widt...\n",
       "49                https://i.redd.it/pngz4ry8wgq41.png\n",
       "50  https://preview.redd.it/lxqc9y0c7xp41.jpg?widt...\n",
       "51  https://preview.redd.it/pa42kwtrflq41.jpg?widt...\n",
       "52  https://preview.redd.it/oaczkqez5lp41.jpg?widt...\n",
       "53  https://preview.redd.it/jlwuqapkvzp41.jpg?widt..."
      ]
     },
     "execution_count": 36,
     "metadata": {},
     "output_type": "execute_result"
    }
   ],
   "source": [
    "meme_df"
   ]
  },
  {
   "cell_type": "code",
   "execution_count": 37,
   "metadata": {},
   "outputs": [],
   "source": [
    "pd.read_csv('static/csv/memes.csv').append(meme_df).drop_duplicates().to_csv('static/csv/memes.csv',index=False, header=True)"
   ]
  },
  {
   "cell_type": "code",
   "execution_count": 38,
   "metadata": {},
   "outputs": [],
   "source": [
    "# meme_df.to_csv('static/csv/memes.csv', index=False, header=True)"
   ]
  },
  {
   "cell_type": "code",
   "execution_count": 39,
   "metadata": {},
   "outputs": [],
   "source": [
    "browser.quit()"
   ]
  }
 ],
 "metadata": {
  "kernelspec": {
   "display_name": "Python 3",
   "language": "python",
   "name": "python3"
  },
  "language_info": {
   "codemirror_mode": {
    "name": "ipython",
    "version": 3
   },
   "file_extension": ".py",
   "mimetype": "text/x-python",
   "name": "python",
   "nbconvert_exporter": "python",
   "pygments_lexer": "ipython3",
   "version": "3.7.4"
  }
 },
 "nbformat": 4,
 "nbformat_minor": 2
}
