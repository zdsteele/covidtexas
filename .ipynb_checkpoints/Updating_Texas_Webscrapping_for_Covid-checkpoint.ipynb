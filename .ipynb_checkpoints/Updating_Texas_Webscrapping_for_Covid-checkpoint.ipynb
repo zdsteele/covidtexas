{
 "cells": [
  {
   "cell_type": "code",
   "execution_count": 1,
   "metadata": {},
   "outputs": [],
   "source": [
    "import pandas as pd\n",
    "import numpy as np\n",
    "from bs4 import BeautifulSoup as bs\n",
    "from time import sleep\n",
    "from datetime import datetime\n",
    "from splinter import Browser\n",
    "from selenium.webdriver.common.keys import Keys\n",
    "import time\n",
    "import json\n",
    "\n",
    "import os\n",
    "import shutil"
   ]
  },
  {
   "cell_type": "code",
   "execution_count": null,
   "metadata": {},
   "outputs": [],
   "source": []
  },
  {
   "cell_type": "code",
   "execution_count": null,
   "metadata": {},
   "outputs": [],
   "source": []
  },
  {
   "cell_type": "code",
   "execution_count": 2,
   "metadata": {},
   "outputs": [],
   "source": [
    "url = 'https://www.reddit.com/r/CoronavirusMemes/'"
   ]
  },
  {
   "cell_type": "code",
   "execution_count": 3,
   "metadata": {},
   "outputs": [],
   "source": [
    "url2 = 'https://www.reddit.com/r/memes/comments/f2fi3z/covid19/'"
   ]
  },
  {
   "cell_type": "code",
   "execution_count": 4,
   "metadata": {},
   "outputs": [],
   "source": [
    "# Path to chromedriver.exe\n",
    "executable_path = {'executable_path':'C:/Users/zacha/AppData/Local/bin/chromedriver.exe'}\n",
    "\n",
    "# Open the Splinter Browswer\n",
    "browser = Browser('chrome', **executable_path)"
   ]
  },
  {
   "cell_type": "code",
   "execution_count": 5,
   "metadata": {},
   "outputs": [],
   "source": [
    "browser.visit(url)\n",
    "time.sleep(10)"
   ]
  },
  {
   "cell_type": "code",
   "execution_count": 6,
   "metadata": {},
   "outputs": [],
   "source": [
    "html = browser.html\n",
    "soup = bs(html, 'html.parser')"
   ]
  },
  {
   "cell_type": "code",
   "execution_count": 7,
   "metadata": {},
   "outputs": [],
   "source": [
    "memes = soup.find_all('div', class_='_3Oa0THmZ3f5iZXAQ0hBJ0k')"
   ]
  },
  {
   "cell_type": "code",
   "execution_count": 8,
   "metadata": {},
   "outputs": [
    {
     "data": {
      "text/plain": [
       "[<div class=\"_3Oa0THmZ3f5iZXAQ0hBJ0k\" style=\"max-height:512px;margin:0 auto\"><div><img alt=\"Post image\" class=\"_2_tDEnGMLxpM6uOa2kaDB3 ImageBox-image media-element _1XWObl-3b9tPy64oaG6fax\" src=\"https://preview.redd.it/rdg5yny7m4r41.jpg?width=640&amp;crop=smart&amp;auto=webp&amp;s=7bdbb2b52c714521800abf64d0e17eb8fc81c782\" style=\"max-height:512px\"/></div></div>,\n",
       " <div class=\"_3Oa0THmZ3f5iZXAQ0hBJ0k\" style=\"max-height:512px;margin:0 auto\"><div><img alt=\"Post image\" class=\"_2_tDEnGMLxpM6uOa2kaDB3 ImageBox-image media-element _1XWObl-3b9tPy64oaG6fax\" src=\"https://preview.redd.it/lx2ngjjp27r41.jpg?width=640&amp;crop=smart&amp;auto=webp&amp;s=64095f469b1e964d92d3b9308aec8d7ec1264ccb\" style=\"max-height:512px\"/></div></div>,\n",
       " <div class=\"_3Oa0THmZ3f5iZXAQ0hBJ0k\" style=\"max-height:512px;margin:0 auto\"><div><img alt=\"Post image\" class=\"_2_tDEnGMLxpM6uOa2kaDB3 ImageBox-image media-element _1XWObl-3b9tPy64oaG6fax\" src=\"https://preview.redd.it/3ers88lbr5r41.jpg?width=640&amp;crop=smart&amp;auto=webp&amp;s=2eaea59dde40035d8e5be9b7478a67ec1525a42b\" style=\"max-height:512px\"/></div></div>,\n",
       " <div class=\"_3Oa0THmZ3f5iZXAQ0hBJ0k\" style=\"max-height:512px;margin:0 auto\"><div><img alt=\"Post image\" class=\"_2_tDEnGMLxpM6uOa2kaDB3 ImageBox-image media-element _1XWObl-3b9tPy64oaG6fax\" src=\"https://i.redd.it/cgenyh49n6r41.jpg\" style=\"max-height:512px\"/></div></div>,\n",
       " <div class=\"_3Oa0THmZ3f5iZXAQ0hBJ0k\" style=\"max-height:512px;margin:0 auto\"><div><img alt=\"Post image\" class=\"_2_tDEnGMLxpM6uOa2kaDB3 ImageBox-image media-element _1XWObl-3b9tPy64oaG6fax\" src=\"https://i.redd.it/ahqqt5g7p4r41.jpg\" style=\"max-height:512px\"/></div></div>,\n",
       " <div class=\"_3Oa0THmZ3f5iZXAQ0hBJ0k\" style=\"max-height: 512px; margin: 0px auto;\"><div><img alt=\"Post image\" class=\"_2_tDEnGMLxpM6uOa2kaDB3 ImageBox-image media-element _1XWObl-3b9tPy64oaG6fax\" src=\"https://preview.redd.it/o90yiueja4r41.jpg?width=640&amp;crop=smart&amp;auto=webp&amp;s=8809544b3e60e4f166543f141f2f7ef789127bab\" style=\"max-height: 512px;\"/></div></div>,\n",
       " <div class=\"_3Oa0THmZ3f5iZXAQ0hBJ0k\" style=\"max-height: 512px; margin: 0px auto;\"><div><img alt=\"Post image\" class=\"_2_tDEnGMLxpM6uOa2kaDB3 ImageBox-image media-element _1XWObl-3b9tPy64oaG6fax\" src=\"https://preview.redd.it/o2z5biudz0r41.jpg?width=640&amp;crop=smart&amp;auto=webp&amp;s=0f6181ff431df1d4bea31281af854e51166d11ee\" style=\"max-height: 512px;\"/></div></div>,\n",
       " <div class=\"_3Oa0THmZ3f5iZXAQ0hBJ0k\" style=\"max-height: 512px; margin: 0px auto;\"><div><img alt=\"Post image\" class=\"_2_tDEnGMLxpM6uOa2kaDB3 ImageBox-image media-element _1XWObl-3b9tPy64oaG6fax\" src=\"https://preview.redd.it/er6sm7xxb7r41.jpg?width=640&amp;crop=smart&amp;auto=webp&amp;s=f0c3cc7efee8f3d83a92e7004bd0bf7d26a96f2e\" style=\"max-height: 512px;\"/></div></div>,\n",
       " <div class=\"_3Oa0THmZ3f5iZXAQ0hBJ0k\" style=\"max-height: 512px; margin: 0px auto;\"><div><img alt=\"Post image\" class=\"_2_tDEnGMLxpM6uOa2kaDB3 ImageBox-image media-element _1XWObl-3b9tPy64oaG6fax\" src=\"https://i.redd.it/54tamn4qf7r41.jpg\" style=\"max-height: 512px;\"/></div></div>,\n",
       " <div class=\"_3Oa0THmZ3f5iZXAQ0hBJ0k\" style=\"max-height: 512px; margin: 0px auto;\"><div><img alt=\"Post image\" class=\"_2_tDEnGMLxpM6uOa2kaDB3 ImageBox-image media-element _1XWObl-3b9tPy64oaG6fax\" src=\"https://preview.redd.it/b9wgeattl4r41.jpg?width=640&amp;crop=smart&amp;auto=webp&amp;s=880a3f5286382903720916dc6590f4a533d61afa\" style=\"max-height: 512px;\"/></div></div>,\n",
       " <div class=\"_3Oa0THmZ3f5iZXAQ0hBJ0k\" style=\"max-height: 512px; margin: 0px auto;\"><div><img alt=\"Post image\" class=\"_2_tDEnGMLxpM6uOa2kaDB3 ImageBox-image media-element _1XWObl-3b9tPy64oaG6fax\" src=\"https://preview.redd.it/obsvi1r6t6r41.jpg?width=640&amp;crop=smart&amp;auto=webp&amp;s=f649e469f07dd8757ff70c1c9c9c944d5591582c\" style=\"max-height: 512px;\"/></div></div>,\n",
       " <div class=\"_3Oa0THmZ3f5iZXAQ0hBJ0k\" style=\"max-height: 512px; margin: 0px auto;\"><div><img alt=\"Post image\" class=\"_2_tDEnGMLxpM6uOa2kaDB3 ImageBox-image media-element _1XWObl-3b9tPy64oaG6fax\" src=\"https://preview.redd.it/db9owp88i5r41.jpg?width=640&amp;crop=smart&amp;auto=webp&amp;s=90b03c064943ab8b0d48027875b7646f6057e52c\" style=\"max-height: 512px;\"/></div></div>,\n",
       " <div class=\"_3Oa0THmZ3f5iZXAQ0hBJ0k\" style=\"max-height: 512px; margin: 0px auto;\"><div><img alt=\"Post image\" class=\"_2_tDEnGMLxpM6uOa2kaDB3 ImageBox-image media-element _1XWObl-3b9tPy64oaG6fax\" src=\"https://preview.redd.it/ixiwxi7ff7r41.jpg?width=640&amp;crop=smart&amp;auto=webp&amp;s=92e688d9042b15ae8a699d044322affb9ca3e1d9\" style=\"max-height: 512px;\"/></div></div>,\n",
       " <div class=\"_3Oa0THmZ3f5iZXAQ0hBJ0k\" style=\"max-height: 512px; margin: 0px auto;\"><div><img alt=\"Post image\" class=\"_2_tDEnGMLxpM6uOa2kaDB3 ImageBox-image media-element _1XWObl-3b9tPy64oaG6fax\" src=\"https://preview.redd.it/un6pu9ilp4r41.jpg?width=640&amp;crop=smart&amp;auto=webp&amp;s=ec12d4306bb879966d46c7e454f48fd74f4da610\" style=\"max-height: 512px;\"/></div></div>,\n",
       " <div class=\"_3Oa0THmZ3f5iZXAQ0hBJ0k\" style=\"max-height: 512px; margin: 0px auto;\"><div><img alt=\"Post image\" class=\"_2_tDEnGMLxpM6uOa2kaDB3 ImageBox-image media-element _1XWObl-3b9tPy64oaG6fax\" src=\"https://preview.redd.it/ai2zrs79t7r41.png?width=640&amp;crop=smart&amp;auto=webp&amp;s=ba0f1fe705e610a1c567679ce9d488f4af5fdaa9\" style=\"max-height: 512px;\"/></div></div>,\n",
       " <div class=\"_3Oa0THmZ3f5iZXAQ0hBJ0k\" style=\"max-height: 512px; margin: 0px auto;\"><div><img alt=\"Post image\" class=\"_2_tDEnGMLxpM6uOa2kaDB3 ImageBox-image media-element _1XWObl-3b9tPy64oaG6fax\" src=\"https://i.redd.it/y6t74ji1v3r41.png\" style=\"max-height: 512px;\"/></div></div>,\n",
       " <div class=\"_3Oa0THmZ3f5iZXAQ0hBJ0k\" style=\"max-height: 512px; margin: 0px auto;\"><div><img alt=\"Post image\" class=\"_2_tDEnGMLxpM6uOa2kaDB3 ImageBox-image media-element _1XWObl-3b9tPy64oaG6fax\" src=\"https://preview.redd.it/jyd5wmlib5r41.jpg?width=640&amp;crop=smart&amp;auto=webp&amp;s=bb1aa958229312e38aee36eaa220fbbeb37bfe88\" style=\"max-height: 512px;\"/></div></div>,\n",
       " <div class=\"_3Oa0THmZ3f5iZXAQ0hBJ0k\" style=\"max-height: 512px; margin: 0px auto;\"><div><img alt=\"Post image\" class=\"_2_tDEnGMLxpM6uOa2kaDB3 ImageBox-image media-element _1XWObl-3b9tPy64oaG6fax\" src=\"https://i.redd.it/9oqoke1866r41.png\" style=\"max-height: 512px;\"/></div></div>,\n",
       " <div class=\"_3Oa0THmZ3f5iZXAQ0hBJ0k\" style=\"max-height: 512px; margin: 0px auto;\"><div><img alt=\"Post image\" class=\"_2_tDEnGMLxpM6uOa2kaDB3 ImageBox-image media-element _1XWObl-3b9tPy64oaG6fax\" src=\"https://i.redd.it/6lehrzzt14r41.jpg\" style=\"max-height: 512px;\"/></div></div>,\n",
       " <div class=\"_3Oa0THmZ3f5iZXAQ0hBJ0k\" style=\"max-height: 512px; margin: 0px auto;\"><div><img alt=\"Post image\" class=\"_2_tDEnGMLxpM6uOa2kaDB3 ImageBox-image media-element _1XWObl-3b9tPy64oaG6fax\" src=\"https://external-preview.redd.it/cxmAH_9bXWN7ayfNR2fZ5goLgNnUKB-eDc5qlTYpgs0.jpg?width=640&amp;crop=smart&amp;auto=webp&amp;s=68263f40f9fd18587da24f4dfb46ad639a9353ca\" style=\"max-height: 512px;\"/></div></div>,\n",
       " <div class=\"_3Oa0THmZ3f5iZXAQ0hBJ0k\" style=\"max-height: 512px; margin: 0px auto;\"><div><img alt=\"Post image\" class=\"_2_tDEnGMLxpM6uOa2kaDB3 ImageBox-image media-element _1XWObl-3b9tPy64oaG6fax\" src=\"https://preview.redd.it/t2ng32z8j3r41.jpg?width=640&amp;crop=smart&amp;auto=webp&amp;s=e2a923c464e462af75729372f4c202e9db9f6589\" style=\"max-height: 512px;\"/></div></div>,\n",
       " <div class=\"_3Oa0THmZ3f5iZXAQ0hBJ0k\" style=\"max-height: 512px; margin: 0px auto;\"><div><img alt=\"Post image\" class=\"_2_tDEnGMLxpM6uOa2kaDB3 ImageBox-image media-element _1XWObl-3b9tPy64oaG6fax\" src=\"https://preview.redd.it/jhgluev418r41.jpg?width=640&amp;crop=smart&amp;auto=webp&amp;s=35283fd1c70743d3cfbba6e91d975b72efdc0609\" style=\"max-height: 512px;\"/></div></div>,\n",
       " <div class=\"_3Oa0THmZ3f5iZXAQ0hBJ0k\" style=\"max-height: 512px; margin: 0px auto;\"><div><img alt=\"Post image\" class=\"_2_tDEnGMLxpM6uOa2kaDB3 ImageBox-image media-element _1XWObl-3b9tPy64oaG6fax\" src=\"https://preview.redd.it/14p38gi1r7r41.jpg?width=640&amp;crop=smart&amp;auto=webp&amp;s=4d8486c04593da2e800b71e272babf3f29d769a4\" style=\"max-height: 512px;\"/></div></div>,\n",
       " <div class=\"_3Oa0THmZ3f5iZXAQ0hBJ0k\" style=\"max-height: 512px; margin: 0px auto;\"><div><img alt=\"Post image\" class=\"_2_tDEnGMLxpM6uOa2kaDB3 ImageBox-image media-element _1XWObl-3b9tPy64oaG6fax\" src=\"https://preview.redd.it/scef8eohl3r41.jpg?width=640&amp;crop=smart&amp;auto=webp&amp;s=5f040452634c6ec0763091ade09e2c053ad11c25\" style=\"max-height: 512px;\"/></div></div>,\n",
       " <div class=\"_3Oa0THmZ3f5iZXAQ0hBJ0k\" style=\"max-height: 512px; margin: 0px auto;\"><div><img alt=\"Post image\" class=\"_2_tDEnGMLxpM6uOa2kaDB3 ImageBox-image media-element _1XWObl-3b9tPy64oaG6fax\" src=\"https://preview.redd.it/400v6730n2r41.png?width=640&amp;crop=smart&amp;auto=webp&amp;s=295a8e5068966190dd821c879f806f938fcff47c\" style=\"max-height: 512px;\"/></div></div>,\n",
       " <div class=\"_3Oa0THmZ3f5iZXAQ0hBJ0k\" style=\"max-height: 512px; margin: 0px auto;\"><div><img alt=\"Post image\" class=\"_2_tDEnGMLxpM6uOa2kaDB3 ImageBox-image media-element _1XWObl-3b9tPy64oaG6fax\" src=\"https://external-preview.redd.it/fAGQbSp-O3xEw4ounjU5Hkf0r4lyKnJFpE26GfHkDbc.png?width=640&amp;crop=smart&amp;auto=webp&amp;s=fdb38dfe994c155f96af6ba02f886a1337f476b7\" style=\"max-height: 512px;\"/></div></div>]"
      ]
     },
     "execution_count": 8,
     "metadata": {},
     "output_type": "execute_result"
    }
   ],
   "source": [
    "memes"
   ]
  },
  {
   "cell_type": "code",
   "execution_count": 9,
   "metadata": {},
   "outputs": [
    {
     "data": {
      "text/plain": [
       "26"
      ]
     },
     "execution_count": 9,
     "metadata": {},
     "output_type": "execute_result"
    }
   ],
   "source": [
    "len(memes)"
   ]
  },
  {
   "cell_type": "code",
   "execution_count": 10,
   "metadata": {},
   "outputs": [],
   "source": [
    "images = []"
   ]
  },
  {
   "cell_type": "code",
   "execution_count": 11,
   "metadata": {},
   "outputs": [],
   "source": [
    "for i in memes:\n",
    "    \n",
    "    image = i.find('img')['src']\n",
    "    images.append(image)"
   ]
  },
  {
   "cell_type": "code",
   "execution_count": 12,
   "metadata": {},
   "outputs": [],
   "source": [
    "browser.visit(url2)\n",
    "time.sleep(10)"
   ]
  },
  {
   "cell_type": "code",
   "execution_count": 13,
   "metadata": {},
   "outputs": [],
   "source": [
    "html = browser.html\n",
    "soup = bs(html, 'html.parser')"
   ]
  },
  {
   "cell_type": "code",
   "execution_count": 14,
   "metadata": {},
   "outputs": [],
   "source": [
    "memes2 = soup.find_all('div', class_='_3Oa0THmZ3f5iZXAQ0hBJ0k')"
   ]
  },
  {
   "cell_type": "code",
   "execution_count": 15,
   "metadata": {},
   "outputs": [],
   "source": [
    "for i in memes2:\n",
    "    image2 = i.find('img')['src']\n",
    "    images.append(image2)"
   ]
  },
  {
   "cell_type": "code",
   "execution_count": 16,
   "metadata": {},
   "outputs": [],
   "source": [
    "meme_df = pd.DataFrame({\"Memes\":images})"
   ]
  },
  {
   "cell_type": "code",
   "execution_count": 17,
   "metadata": {},
   "outputs": [
    {
     "data": {
      "text/html": [
       "<div>\n",
       "<style scoped>\n",
       "    .dataframe tbody tr th:only-of-type {\n",
       "        vertical-align: middle;\n",
       "    }\n",
       "\n",
       "    .dataframe tbody tr th {\n",
       "        vertical-align: top;\n",
       "    }\n",
       "\n",
       "    .dataframe thead th {\n",
       "        text-align: right;\n",
       "    }\n",
       "</style>\n",
       "<table border=\"1\" class=\"dataframe\">\n",
       "  <thead>\n",
       "    <tr style=\"text-align: right;\">\n",
       "      <th></th>\n",
       "      <th>Memes</th>\n",
       "    </tr>\n",
       "  </thead>\n",
       "  <tbody>\n",
       "    <tr>\n",
       "      <td>0</td>\n",
       "      <td>https://preview.redd.it/rdg5yny7m4r41.jpg?widt...</td>\n",
       "    </tr>\n",
       "    <tr>\n",
       "      <td>1</td>\n",
       "      <td>https://preview.redd.it/lx2ngjjp27r41.jpg?widt...</td>\n",
       "    </tr>\n",
       "    <tr>\n",
       "      <td>2</td>\n",
       "      <td>https://preview.redd.it/3ers88lbr5r41.jpg?widt...</td>\n",
       "    </tr>\n",
       "    <tr>\n",
       "      <td>3</td>\n",
       "      <td>https://i.redd.it/cgenyh49n6r41.jpg</td>\n",
       "    </tr>\n",
       "    <tr>\n",
       "      <td>4</td>\n",
       "      <td>https://i.redd.it/ahqqt5g7p4r41.jpg</td>\n",
       "    </tr>\n",
       "    <tr>\n",
       "      <td>5</td>\n",
       "      <td>https://preview.redd.it/o90yiueja4r41.jpg?widt...</td>\n",
       "    </tr>\n",
       "    <tr>\n",
       "      <td>6</td>\n",
       "      <td>https://preview.redd.it/o2z5biudz0r41.jpg?widt...</td>\n",
       "    </tr>\n",
       "    <tr>\n",
       "      <td>7</td>\n",
       "      <td>https://preview.redd.it/er6sm7xxb7r41.jpg?widt...</td>\n",
       "    </tr>\n",
       "    <tr>\n",
       "      <td>8</td>\n",
       "      <td>https://i.redd.it/54tamn4qf7r41.jpg</td>\n",
       "    </tr>\n",
       "    <tr>\n",
       "      <td>9</td>\n",
       "      <td>https://preview.redd.it/b9wgeattl4r41.jpg?widt...</td>\n",
       "    </tr>\n",
       "    <tr>\n",
       "      <td>10</td>\n",
       "      <td>https://preview.redd.it/obsvi1r6t6r41.jpg?widt...</td>\n",
       "    </tr>\n",
       "    <tr>\n",
       "      <td>11</td>\n",
       "      <td>https://preview.redd.it/db9owp88i5r41.jpg?widt...</td>\n",
       "    </tr>\n",
       "    <tr>\n",
       "      <td>12</td>\n",
       "      <td>https://preview.redd.it/ixiwxi7ff7r41.jpg?widt...</td>\n",
       "    </tr>\n",
       "    <tr>\n",
       "      <td>13</td>\n",
       "      <td>https://preview.redd.it/un6pu9ilp4r41.jpg?widt...</td>\n",
       "    </tr>\n",
       "    <tr>\n",
       "      <td>14</td>\n",
       "      <td>https://preview.redd.it/ai2zrs79t7r41.png?widt...</td>\n",
       "    </tr>\n",
       "    <tr>\n",
       "      <td>15</td>\n",
       "      <td>https://i.redd.it/y6t74ji1v3r41.png</td>\n",
       "    </tr>\n",
       "    <tr>\n",
       "      <td>16</td>\n",
       "      <td>https://preview.redd.it/jyd5wmlib5r41.jpg?widt...</td>\n",
       "    </tr>\n",
       "    <tr>\n",
       "      <td>17</td>\n",
       "      <td>https://i.redd.it/9oqoke1866r41.png</td>\n",
       "    </tr>\n",
       "    <tr>\n",
       "      <td>18</td>\n",
       "      <td>https://i.redd.it/6lehrzzt14r41.jpg</td>\n",
       "    </tr>\n",
       "    <tr>\n",
       "      <td>19</td>\n",
       "      <td>https://external-preview.redd.it/cxmAH_9bXWN7a...</td>\n",
       "    </tr>\n",
       "    <tr>\n",
       "      <td>20</td>\n",
       "      <td>https://preview.redd.it/t2ng32z8j3r41.jpg?widt...</td>\n",
       "    </tr>\n",
       "    <tr>\n",
       "      <td>21</td>\n",
       "      <td>https://preview.redd.it/jhgluev418r41.jpg?widt...</td>\n",
       "    </tr>\n",
       "    <tr>\n",
       "      <td>22</td>\n",
       "      <td>https://preview.redd.it/14p38gi1r7r41.jpg?widt...</td>\n",
       "    </tr>\n",
       "    <tr>\n",
       "      <td>23</td>\n",
       "      <td>https://preview.redd.it/scef8eohl3r41.jpg?widt...</td>\n",
       "    </tr>\n",
       "    <tr>\n",
       "      <td>24</td>\n",
       "      <td>https://preview.redd.it/400v6730n2r41.png?widt...</td>\n",
       "    </tr>\n",
       "    <tr>\n",
       "      <td>25</td>\n",
       "      <td>https://external-preview.redd.it/fAGQbSp-O3xEw...</td>\n",
       "    </tr>\n",
       "    <tr>\n",
       "      <td>26</td>\n",
       "      <td>https://preview.redd.it/24smtius5dg41.jpg?widt...</td>\n",
       "    </tr>\n",
       "    <tr>\n",
       "      <td>27</td>\n",
       "      <td>https://i.redd.it/lc7e87asvsq41.png</td>\n",
       "    </tr>\n",
       "    <tr>\n",
       "      <td>28</td>\n",
       "      <td>https://preview.redd.it/d2ixcp85zeq41.jpg?widt...</td>\n",
       "    </tr>\n",
       "    <tr>\n",
       "      <td>29</td>\n",
       "      <td>https://preview.redd.it/f53424y2alq41.jpg?widt...</td>\n",
       "    </tr>\n",
       "    <tr>\n",
       "      <td>30</td>\n",
       "      <td>https://preview.redd.it/3noo5r4ypzq41.png?widt...</td>\n",
       "    </tr>\n",
       "    <tr>\n",
       "      <td>31</td>\n",
       "      <td>https://preview.redd.it/kv85ke5we4r41.jpg?widt...</td>\n",
       "    </tr>\n",
       "    <tr>\n",
       "      <td>32</td>\n",
       "      <td>https://preview.redd.it/mueg4irhegq41.png?widt...</td>\n",
       "    </tr>\n",
       "    <tr>\n",
       "      <td>33</td>\n",
       "      <td>https://preview.redd.it/gm0sc5uzvvp41.jpg?widt...</td>\n",
       "    </tr>\n",
       "  </tbody>\n",
       "</table>\n",
       "</div>"
      ],
      "text/plain": [
       "                                                Memes\n",
       "0   https://preview.redd.it/rdg5yny7m4r41.jpg?widt...\n",
       "1   https://preview.redd.it/lx2ngjjp27r41.jpg?widt...\n",
       "2   https://preview.redd.it/3ers88lbr5r41.jpg?widt...\n",
       "3                 https://i.redd.it/cgenyh49n6r41.jpg\n",
       "4                 https://i.redd.it/ahqqt5g7p4r41.jpg\n",
       "5   https://preview.redd.it/o90yiueja4r41.jpg?widt...\n",
       "6   https://preview.redd.it/o2z5biudz0r41.jpg?widt...\n",
       "7   https://preview.redd.it/er6sm7xxb7r41.jpg?widt...\n",
       "8                 https://i.redd.it/54tamn4qf7r41.jpg\n",
       "9   https://preview.redd.it/b9wgeattl4r41.jpg?widt...\n",
       "10  https://preview.redd.it/obsvi1r6t6r41.jpg?widt...\n",
       "11  https://preview.redd.it/db9owp88i5r41.jpg?widt...\n",
       "12  https://preview.redd.it/ixiwxi7ff7r41.jpg?widt...\n",
       "13  https://preview.redd.it/un6pu9ilp4r41.jpg?widt...\n",
       "14  https://preview.redd.it/ai2zrs79t7r41.png?widt...\n",
       "15                https://i.redd.it/y6t74ji1v3r41.png\n",
       "16  https://preview.redd.it/jyd5wmlib5r41.jpg?widt...\n",
       "17                https://i.redd.it/9oqoke1866r41.png\n",
       "18                https://i.redd.it/6lehrzzt14r41.jpg\n",
       "19  https://external-preview.redd.it/cxmAH_9bXWN7a...\n",
       "20  https://preview.redd.it/t2ng32z8j3r41.jpg?widt...\n",
       "21  https://preview.redd.it/jhgluev418r41.jpg?widt...\n",
       "22  https://preview.redd.it/14p38gi1r7r41.jpg?widt...\n",
       "23  https://preview.redd.it/scef8eohl3r41.jpg?widt...\n",
       "24  https://preview.redd.it/400v6730n2r41.png?widt...\n",
       "25  https://external-preview.redd.it/fAGQbSp-O3xEw...\n",
       "26  https://preview.redd.it/24smtius5dg41.jpg?widt...\n",
       "27                https://i.redd.it/lc7e87asvsq41.png\n",
       "28  https://preview.redd.it/d2ixcp85zeq41.jpg?widt...\n",
       "29  https://preview.redd.it/f53424y2alq41.jpg?widt...\n",
       "30  https://preview.redd.it/3noo5r4ypzq41.png?widt...\n",
       "31  https://preview.redd.it/kv85ke5we4r41.jpg?widt...\n",
       "32  https://preview.redd.it/mueg4irhegq41.png?widt...\n",
       "33  https://preview.redd.it/gm0sc5uzvvp41.jpg?widt..."
      ]
     },
     "execution_count": 17,
     "metadata": {},
     "output_type": "execute_result"
    }
   ],
   "source": [
    "meme_df"
   ]
  },
  {
   "cell_type": "code",
   "execution_count": 18,
   "metadata": {},
   "outputs": [],
   "source": [
    "pd.read_csv('static/csv/memes.csv').append(meme_df).drop_duplicates().to_csv('static/csv/memes.csv',index=False, header=True)"
   ]
  },
  {
   "cell_type": "code",
   "execution_count": 19,
   "metadata": {},
   "outputs": [
    {
     "data": {
      "text/html": [
       "<div>\n",
       "<style scoped>\n",
       "    .dataframe tbody tr th:only-of-type {\n",
       "        vertical-align: middle;\n",
       "    }\n",
       "\n",
       "    .dataframe tbody tr th {\n",
       "        vertical-align: top;\n",
       "    }\n",
       "\n",
       "    .dataframe thead th {\n",
       "        text-align: right;\n",
       "    }\n",
       "</style>\n",
       "<table border=\"1\" class=\"dataframe\">\n",
       "  <thead>\n",
       "    <tr style=\"text-align: right;\">\n",
       "      <th></th>\n",
       "      <th>Memes</th>\n",
       "    </tr>\n",
       "  </thead>\n",
       "  <tbody>\n",
       "    <tr>\n",
       "      <td>0</td>\n",
       "      <td>https://external-preview.redd.it/fAGQbSp-O3xEw...</td>\n",
       "    </tr>\n",
       "    <tr>\n",
       "      <td>1</td>\n",
       "      <td>https://preview.redd.it/14p38gi1r7r41.jpg?widt...</td>\n",
       "    </tr>\n",
       "    <tr>\n",
       "      <td>2</td>\n",
       "      <td>https://preview.redd.it/jhgluev418r41.jpg?widt...</td>\n",
       "    </tr>\n",
       "    <tr>\n",
       "      <td>3</td>\n",
       "      <td>https://preview.redd.it/ai2zrs79t7r41.png?widt...</td>\n",
       "    </tr>\n",
       "    <tr>\n",
       "      <td>4</td>\n",
       "      <td>https://preview.redd.it/ixiwxi7ff7r41.jpg?widt...</td>\n",
       "    </tr>\n",
       "    <tr>\n",
       "      <td>...</td>\n",
       "      <td>...</td>\n",
       "    </tr>\n",
       "    <tr>\n",
       "      <td>188</td>\n",
       "      <td>https://preview.redd.it/ptuapq1nd4r41.jpg?widt...</td>\n",
       "    </tr>\n",
       "    <tr>\n",
       "      <td>189</td>\n",
       "      <td>https://preview.redd.it/nci87rijc4r41.jpg?widt...</td>\n",
       "    </tr>\n",
       "    <tr>\n",
       "      <td>190</td>\n",
       "      <td>https://preview.redd.it/w919mbs5f4r41.jpg?widt...</td>\n",
       "    </tr>\n",
       "    <tr>\n",
       "      <td>191</td>\n",
       "      <td>https://preview.redd.it/3noo5r4ypzq41.png?widt...</td>\n",
       "    </tr>\n",
       "    <tr>\n",
       "      <td>192</td>\n",
       "      <td>https://preview.redd.it/kv85ke5we4r41.jpg?widt...</td>\n",
       "    </tr>\n",
       "  </tbody>\n",
       "</table>\n",
       "<p>193 rows × 1 columns</p>\n",
       "</div>"
      ],
      "text/plain": [
       "                                                 Memes\n",
       "0    https://external-preview.redd.it/fAGQbSp-O3xEw...\n",
       "1    https://preview.redd.it/14p38gi1r7r41.jpg?widt...\n",
       "2    https://preview.redd.it/jhgluev418r41.jpg?widt...\n",
       "3    https://preview.redd.it/ai2zrs79t7r41.png?widt...\n",
       "4    https://preview.redd.it/ixiwxi7ff7r41.jpg?widt...\n",
       "..                                                 ...\n",
       "188  https://preview.redd.it/ptuapq1nd4r41.jpg?widt...\n",
       "189  https://preview.redd.it/nci87rijc4r41.jpg?widt...\n",
       "190  https://preview.redd.it/w919mbs5f4r41.jpg?widt...\n",
       "191  https://preview.redd.it/3noo5r4ypzq41.png?widt...\n",
       "192  https://preview.redd.it/kv85ke5we4r41.jpg?widt...\n",
       "\n",
       "[193 rows x 1 columns]"
      ]
     },
     "execution_count": 19,
     "metadata": {},
     "output_type": "execute_result"
    }
   ],
   "source": [
    "new_df = pd.read_csv('static/csv/memes.csv')\n",
    "new_df[\"Memes\"] = new_df[\"Memes\"].values[::-1]\n",
    "new_df"
   ]
  },
  {
   "cell_type": "code",
   "execution_count": 20,
   "metadata": {},
   "outputs": [],
   "source": [
    "new_df.to_csv('static/csv/memes.csv', index=False, header=True)"
   ]
  },
  {
   "cell_type": "code",
   "execution_count": 21,
   "metadata": {},
   "outputs": [],
   "source": [
    "browser.quit()"
   ]
  }
 ],
 "metadata": {
  "kernelspec": {
   "display_name": "Python 3",
   "language": "python",
   "name": "python3"
  },
  "language_info": {
   "codemirror_mode": {
    "name": "ipython",
    "version": 3
   },
   "file_extension": ".py",
   "mimetype": "text/x-python",
   "name": "python",
   "nbconvert_exporter": "python",
   "pygments_lexer": "ipython3",
   "version": "3.7.4"
  }
 },
 "nbformat": 4,
 "nbformat_minor": 2
}
