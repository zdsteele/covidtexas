{
 "cells": [
  {
   "cell_type": "code",
   "execution_count": 1,
   "metadata": {},
   "outputs": [],
   "source": [
    "import pandas as pd\n",
    "import numpy as np\n",
    "from bs4 import BeautifulSoup as bs\n",
    "from time import sleep\n",
    "from datetime import datetime\n",
    "from splinter import Browser\n",
    "from selenium.webdriver.common.keys import Keys\n",
    "import time\n",
    "import json\n",
    "\n",
    "import os\n",
    "import shutil"
   ]
  },
  {
   "cell_type": "code",
   "execution_count": null,
   "metadata": {},
   "outputs": [],
   "source": []
  },
  {
   "cell_type": "code",
   "execution_count": null,
   "metadata": {},
   "outputs": [],
   "source": []
  },
  {
   "cell_type": "code",
   "execution_count": 2,
   "metadata": {},
   "outputs": [],
   "source": [
    "url = 'https://www.reddit.com/r/CoronavirusMemes/'"
   ]
  },
  {
   "cell_type": "code",
   "execution_count": 3,
   "metadata": {},
   "outputs": [],
   "source": [
    "url2 = 'https://www.reddit.com/r/memes/comments/f2fi3z/covid19/'"
   ]
  },
  {
   "cell_type": "code",
   "execution_count": 4,
   "metadata": {},
   "outputs": [],
   "source": [
    "# Path to chromedriver.exe\n",
    "executable_path = {'executable_path':'C:/Users/zacha/AppData/Local/bin/chromedriver.exe'}\n",
    "\n",
    "# Open the Splinter Browswer\n",
    "browser = Browser('chrome', **executable_path)"
   ]
  },
  {
   "cell_type": "code",
   "execution_count": 5,
   "metadata": {},
   "outputs": [],
   "source": [
    "browser.visit(url)\n",
    "time.sleep(10)"
   ]
  },
  {
   "cell_type": "code",
   "execution_count": 6,
   "metadata": {},
   "outputs": [],
   "source": [
    "html = browser.html\n",
    "soup = bs(html, 'html.parser')"
   ]
  },
  {
   "cell_type": "code",
   "execution_count": 7,
   "metadata": {},
   "outputs": [],
   "source": [
    "memes = soup.find_all('div', class_='_3Oa0THmZ3f5iZXAQ0hBJ0k')"
   ]
  },
  {
   "cell_type": "code",
   "execution_count": 8,
   "metadata": {},
   "outputs": [
    {
     "data": {
      "text/plain": [
       "[<div class=\"_3Oa0THmZ3f5iZXAQ0hBJ0k\" style=\"max-height:512px;margin:0 auto\"><div><img alt=\"Post image\" class=\"_2_tDEnGMLxpM6uOa2kaDB3 ImageBox-image media-element _1XWObl-3b9tPy64oaG6fax\" src=\"https://preview.redd.it/6ge9ateugdq41.jpg?width=640&amp;crop=smart&amp;auto=webp&amp;s=f5f25573c8d7287e5d9dad464cd01e0b21fb85d5\" style=\"max-height:512px\"/></div></div>,\n",
       " <div class=\"_3Oa0THmZ3f5iZXAQ0hBJ0k\" style=\"max-height:512px;margin:0 auto\"><div><img alt=\"Post image\" class=\"_2_tDEnGMLxpM6uOa2kaDB3 ImageBox-image media-element _1XWObl-3b9tPy64oaG6fax\" src=\"https://external-preview.redd.it/f-GaL-us2X0UVPgpGC7b0IH8pzcCi1inP-0P6d2Q_nY.jpg?width=640&amp;crop=smart&amp;auto=webp&amp;s=8fa7b94f777e5551b95ee3ef661da0cdf4248d62\" style=\"max-height:512px\"/></div></div>,\n",
       " <div class=\"_3Oa0THmZ3f5iZXAQ0hBJ0k\" style=\"max-height:512px;margin:0 auto\"><div><img alt=\"Post image\" class=\"_2_tDEnGMLxpM6uOa2kaDB3 ImageBox-image media-element _1XWObl-3b9tPy64oaG6fax\" src=\"https://preview.redd.it/1t4d8ff7ucq41.jpg?width=640&amp;crop=smart&amp;auto=webp&amp;s=f963dc50220076050bc4e2cb9b4ec0b01d68e736\" style=\"max-height:512px\"/></div></div>,\n",
       " <div class=\"_3Oa0THmZ3f5iZXAQ0hBJ0k\" style=\"max-height:512px;margin:0 auto\"><div><img alt=\"Post image\" class=\"_2_tDEnGMLxpM6uOa2kaDB3 ImageBox-image media-element _1XWObl-3b9tPy64oaG6fax\" src=\"https://preview.redd.it/1yzcnj36oaq41.jpg?width=640&amp;crop=smart&amp;auto=webp&amp;s=1e86d1030fffd6b5be3868743dc92340f7985a1c\" style=\"max-height:512px\"/></div></div>,\n",
       " <div class=\"_3Oa0THmZ3f5iZXAQ0hBJ0k\" style=\"max-height:512px;margin:0 auto\"><div><img alt=\"Post image\" class=\"_2_tDEnGMLxpM6uOa2kaDB3 ImageBox-image media-element _1XWObl-3b9tPy64oaG6fax\" src=\"https://preview.redd.it/wbfpt2m0ncq41.png?width=640&amp;crop=smart&amp;auto=webp&amp;s=af6b4ba308abc7869c88156febabfce78c2ea1f0\" style=\"max-height:512px\"/></div></div>,\n",
       " <div class=\"_3Oa0THmZ3f5iZXAQ0hBJ0k\" style=\"max-height:512px;margin:0 auto\"><div><img alt=\"Post image\" class=\"_2_tDEnGMLxpM6uOa2kaDB3 ImageBox-image media-element _1XWObl-3b9tPy64oaG6fax\" src=\"https://i.redd.it/qm1tw52crdq41.jpg\" style=\"max-height:512px\"/></div></div>,\n",
       " <div class=\"_3Oa0THmZ3f5iZXAQ0hBJ0k\" style=\"max-height:512px;margin:0 auto\"><div><img alt=\"Post image\" class=\"_2_tDEnGMLxpM6uOa2kaDB3 ImageBox-image media-element _1XWObl-3b9tPy64oaG6fax\" src=\"https://i.redd.it/1e3vzmdukeq41.png\" style=\"max-height:512px\"/></div></div>,\n",
       " <div class=\"_3Oa0THmZ3f5iZXAQ0hBJ0k\" style=\"max-height: 512px; margin: 0px auto;\"><div><img alt=\"Post image\" class=\"_2_tDEnGMLxpM6uOa2kaDB3 ImageBox-image media-element _1XWObl-3b9tPy64oaG6fax\" src=\"https://preview.redd.it/3tpgbm06veq41.jpg?width=640&amp;crop=smart&amp;auto=webp&amp;s=0ef536914678f20b8f9c421a2d370245a416f306\" style=\"max-height: 512px;\"/></div></div>,\n",
       " <div class=\"_3Oa0THmZ3f5iZXAQ0hBJ0k\" style=\"max-height: 512px; margin: 0px auto;\"><div><img alt=\"Post image\" class=\"_2_tDEnGMLxpM6uOa2kaDB3 ImageBox-image media-element _1XWObl-3b9tPy64oaG6fax\" src=\"https://preview.redd.it/edzoye5u6dq41.jpg?width=640&amp;crop=smart&amp;auto=webp&amp;s=4c16907599ab1cb0e47fa7ae92f87a285f745957\" style=\"max-height: 512px;\"/></div></div>,\n",
       " <div class=\"_3Oa0THmZ3f5iZXAQ0hBJ0k\" style=\"max-height: 512px; margin: 0px auto;\"><div><img alt=\"Post image\" class=\"_2_tDEnGMLxpM6uOa2kaDB3 ImageBox-image media-element _1XWObl-3b9tPy64oaG6fax\" src=\"https://i.redd.it/fycwhrtngdq41.jpg\" style=\"max-height: 512px;\"/></div></div>,\n",
       " <div class=\"_3Oa0THmZ3f5iZXAQ0hBJ0k\" style=\"max-height: 512px; margin: 0px auto;\"><div><img alt=\"Post image\" class=\"_2_tDEnGMLxpM6uOa2kaDB3 ImageBox-image media-element _1XWObl-3b9tPy64oaG6fax\" src=\"https://preview.redd.it/og4nahb87dq41.jpg?width=640&amp;crop=smart&amp;auto=webp&amp;s=a31a45ab5ffac13a2e8f37ed72fd23d69f2e52ed\" style=\"max-height: 512px;\"/></div></div>,\n",
       " <div class=\"_3Oa0THmZ3f5iZXAQ0hBJ0k\" style=\"max-height: 512px; margin: 0px auto;\"><div><img alt=\"Post image\" class=\"_2_tDEnGMLxpM6uOa2kaDB3 ImageBox-image media-element _1XWObl-3b9tPy64oaG6fax\" src=\"https://preview.redd.it/ed8g1c228eq41.jpg?width=640&amp;crop=smart&amp;auto=webp&amp;s=33e104d9acfbc681d90cb0a6a73effc549881223\" style=\"max-height: 512px;\"/></div></div>,\n",
       " <div class=\"_3Oa0THmZ3f5iZXAQ0hBJ0k\" style=\"max-height: 512px; margin: 0px auto;\"><div><img alt=\"Post image\" class=\"_2_tDEnGMLxpM6uOa2kaDB3 ImageBox-image media-element _1XWObl-3b9tPy64oaG6fax\" src=\"https://preview.redd.it/9nhgjknt6eq41.jpg?width=640&amp;crop=smart&amp;auto=webp&amp;s=34f6b537ce65a6efae94e5b877d6cb04da4e17c3\" style=\"max-height: 512px;\"/></div></div>,\n",
       " <div class=\"_3Oa0THmZ3f5iZXAQ0hBJ0k\" style=\"max-height: 512px; margin: 0px auto;\"><div><img alt=\"Post image\" class=\"_2_tDEnGMLxpM6uOa2kaDB3 ImageBox-image media-element _1XWObl-3b9tPy64oaG6fax\" src=\"https://preview.redd.it/vtts17g4gdq41.jpg?width=640&amp;crop=smart&amp;auto=webp&amp;s=91c627e4063baf86086577729758578eefedfd45\" style=\"max-height: 512px;\"/></div></div>,\n",
       " <div class=\"_3Oa0THmZ3f5iZXAQ0hBJ0k\" style=\"max-height: 512px; margin: 0px auto;\"><div><img alt=\"Post image\" class=\"_2_tDEnGMLxpM6uOa2kaDB3 ImageBox-image media-element _1XWObl-3b9tPy64oaG6fax\" src=\"https://i.redd.it/wgkuznl7haq41.jpg\" style=\"max-height: 512px;\"/></div></div>,\n",
       " <div class=\"_3Oa0THmZ3f5iZXAQ0hBJ0k\" style=\"max-height: 512px; margin: 0px auto;\"><div><img alt=\"Post image\" class=\"_2_tDEnGMLxpM6uOa2kaDB3 ImageBox-image media-element _1XWObl-3b9tPy64oaG6fax\" src=\"https://preview.redd.it/3f228sw5a9q41.jpg?width=640&amp;crop=smart&amp;auto=webp&amp;s=ef932e8a124d5a97778d57e9467e2a6a47edde16\" style=\"max-height: 512px;\"/></div></div>,\n",
       " <div class=\"_3Oa0THmZ3f5iZXAQ0hBJ0k\" style=\"max-height: 512px; margin: 0px auto;\"><div><img alt=\"Post image\" class=\"_2_tDEnGMLxpM6uOa2kaDB3 ImageBox-image media-element _1XWObl-3b9tPy64oaG6fax\" src=\"https://external-preview.redd.it/e8rzrcK-gXK0yN260AeRQZWclK_C1mFlaJ2ZhBBrx9U.jpg?width=640&amp;crop=smart&amp;auto=webp&amp;s=3f3e5d8555362538ad02f9a39c6f9c0f7c0fd2cd\" style=\"max-height: 512px;\"/></div></div>,\n",
       " <div class=\"_3Oa0THmZ3f5iZXAQ0hBJ0k\" style=\"max-height: 512px; margin: 0px auto;\"><div><img alt=\"Post image\" class=\"_2_tDEnGMLxpM6uOa2kaDB3 ImageBox-image media-element _1XWObl-3b9tPy64oaG6fax\" src=\"https://preview.redd.it/k4y78cawmeq41.jpg?width=640&amp;crop=smart&amp;auto=webp&amp;s=19bb8c5248080ac05f2a8e5a5bb7b00240bf75db\" style=\"max-height: 512px;\"/></div></div>,\n",
       " <div class=\"_3Oa0THmZ3f5iZXAQ0hBJ0k\" style=\"max-height: 512px; margin: 0px auto;\"><div><img alt=\"Post image\" class=\"_2_tDEnGMLxpM6uOa2kaDB3 ImageBox-image media-element _1XWObl-3b9tPy64oaG6fax\" src=\"https://preview.redd.it/eqmfbmyjueq41.jpg?width=640&amp;crop=smart&amp;auto=webp&amp;s=15fd4ae50ecf6e8f8713d4abf498a388ddfc4404\" style=\"max-height: 512px;\"/></div></div>,\n",
       " <div class=\"_3Oa0THmZ3f5iZXAQ0hBJ0k\" style=\"max-height: 512px; margin: 0px auto;\"><div><img alt=\"Post image\" class=\"_2_tDEnGMLxpM6uOa2kaDB3 ImageBox-image media-element _1XWObl-3b9tPy64oaG6fax\" src=\"https://preview.redd.it/faj8hzedycq41.jpg?width=640&amp;crop=smart&amp;auto=webp&amp;s=dcc272528d6fa98fef172adb0106a8ec5cdca247\" style=\"max-height: 512px;\"/></div></div>,\n",
       " <div class=\"_3Oa0THmZ3f5iZXAQ0hBJ0k\" style=\"max-height: 512px; margin: 0px auto;\"><div><img alt=\"Post image\" class=\"_2_tDEnGMLxpM6uOa2kaDB3 ImageBox-image media-element _1XWObl-3b9tPy64oaG6fax\" src=\"https://preview.redd.it/qpa638d9paq41.jpg?width=640&amp;crop=smart&amp;auto=webp&amp;s=a51de3ac18985bae9a050892e39872d5481cf735\" style=\"max-height: 512px;\"/></div></div>,\n",
       " <div class=\"_3Oa0THmZ3f5iZXAQ0hBJ0k\" style=\"max-height: 512px; margin: 0px auto;\"><div><img alt=\"Post image\" class=\"_2_tDEnGMLxpM6uOa2kaDB3 ImageBox-image media-element _1XWObl-3b9tPy64oaG6fax\" src=\"https://preview.redd.it/shr008h8req41.jpg?width=640&amp;crop=smart&amp;auto=webp&amp;s=9ebe111faa4c1c81888b6dbb5b155bab7009b2fa\" style=\"max-height: 512px;\"/></div></div>,\n",
       " <div class=\"_3Oa0THmZ3f5iZXAQ0hBJ0k\" style=\"max-height: 512px; margin: 0px auto;\"><div><img alt=\"Post image\" class=\"_2_tDEnGMLxpM6uOa2kaDB3 ImageBox-image media-element _1XWObl-3b9tPy64oaG6fax\" src=\"https://preview.redd.it/75at5fd21bq41.jpg?width=640&amp;crop=smart&amp;auto=webp&amp;s=debd5b76b9e5c3eae75236158e92249988039073\" style=\"max-height: 512px;\"/></div></div>]"
      ]
     },
     "execution_count": 8,
     "metadata": {},
     "output_type": "execute_result"
    }
   ],
   "source": [
    "memes"
   ]
  },
  {
   "cell_type": "code",
   "execution_count": 9,
   "metadata": {},
   "outputs": [
    {
     "data": {
      "text/plain": [
       "23"
      ]
     },
     "execution_count": 9,
     "metadata": {},
     "output_type": "execute_result"
    }
   ],
   "source": [
    "len(memes)"
   ]
  },
  {
   "cell_type": "code",
   "execution_count": 10,
   "metadata": {},
   "outputs": [],
   "source": [
    "images = []"
   ]
  },
  {
   "cell_type": "code",
   "execution_count": 11,
   "metadata": {},
   "outputs": [],
   "source": [
    "for i in memes:\n",
    "    \n",
    "    image = i.find('img')['src']\n",
    "    images.append(image)"
   ]
  },
  {
   "cell_type": "code",
   "execution_count": 12,
   "metadata": {},
   "outputs": [],
   "source": [
    "browser.visit(url2)\n",
    "time.sleep(10)"
   ]
  },
  {
   "cell_type": "code",
   "execution_count": 13,
   "metadata": {},
   "outputs": [],
   "source": [
    "html = browser.html\n",
    "soup = bs(html, 'html.parser')"
   ]
  },
  {
   "cell_type": "code",
   "execution_count": 14,
   "metadata": {},
   "outputs": [],
   "source": [
    "memes2 = soup.find_all('div', class_='_3Oa0THmZ3f5iZXAQ0hBJ0k')"
   ]
  },
  {
   "cell_type": "code",
   "execution_count": 15,
   "metadata": {},
   "outputs": [],
   "source": [
    "for i in memes2:\n",
    "    image2 = i.find('img')['src']\n",
    "    images.append(image2)"
   ]
  },
  {
   "cell_type": "code",
   "execution_count": 16,
   "metadata": {},
   "outputs": [],
   "source": [
    "meme_df = pd.DataFrame({\"Memes\":images})"
   ]
  },
  {
   "cell_type": "code",
   "execution_count": 17,
   "metadata": {},
   "outputs": [
    {
     "data": {
      "text/html": [
       "<div>\n",
       "<style scoped>\n",
       "    .dataframe tbody tr th:only-of-type {\n",
       "        vertical-align: middle;\n",
       "    }\n",
       "\n",
       "    .dataframe tbody tr th {\n",
       "        vertical-align: top;\n",
       "    }\n",
       "\n",
       "    .dataframe thead th {\n",
       "        text-align: right;\n",
       "    }\n",
       "</style>\n",
       "<table border=\"1\" class=\"dataframe\">\n",
       "  <thead>\n",
       "    <tr style=\"text-align: right;\">\n",
       "      <th></th>\n",
       "      <th>Memes</th>\n",
       "    </tr>\n",
       "  </thead>\n",
       "  <tbody>\n",
       "    <tr>\n",
       "      <td>0</td>\n",
       "      <td>https://preview.redd.it/6ge9ateugdq41.jpg?widt...</td>\n",
       "    </tr>\n",
       "    <tr>\n",
       "      <td>1</td>\n",
       "      <td>https://external-preview.redd.it/f-GaL-us2X0UV...</td>\n",
       "    </tr>\n",
       "    <tr>\n",
       "      <td>2</td>\n",
       "      <td>https://preview.redd.it/1t4d8ff7ucq41.jpg?widt...</td>\n",
       "    </tr>\n",
       "    <tr>\n",
       "      <td>3</td>\n",
       "      <td>https://preview.redd.it/1yzcnj36oaq41.jpg?widt...</td>\n",
       "    </tr>\n",
       "    <tr>\n",
       "      <td>4</td>\n",
       "      <td>https://preview.redd.it/wbfpt2m0ncq41.png?widt...</td>\n",
       "    </tr>\n",
       "    <tr>\n",
       "      <td>5</td>\n",
       "      <td>https://i.redd.it/qm1tw52crdq41.jpg</td>\n",
       "    </tr>\n",
       "    <tr>\n",
       "      <td>6</td>\n",
       "      <td>https://i.redd.it/1e3vzmdukeq41.png</td>\n",
       "    </tr>\n",
       "    <tr>\n",
       "      <td>7</td>\n",
       "      <td>https://preview.redd.it/3tpgbm06veq41.jpg?widt...</td>\n",
       "    </tr>\n",
       "    <tr>\n",
       "      <td>8</td>\n",
       "      <td>https://preview.redd.it/edzoye5u6dq41.jpg?widt...</td>\n",
       "    </tr>\n",
       "    <tr>\n",
       "      <td>9</td>\n",
       "      <td>https://i.redd.it/fycwhrtngdq41.jpg</td>\n",
       "    </tr>\n",
       "    <tr>\n",
       "      <td>10</td>\n",
       "      <td>https://preview.redd.it/og4nahb87dq41.jpg?widt...</td>\n",
       "    </tr>\n",
       "    <tr>\n",
       "      <td>11</td>\n",
       "      <td>https://preview.redd.it/ed8g1c228eq41.jpg?widt...</td>\n",
       "    </tr>\n",
       "    <tr>\n",
       "      <td>12</td>\n",
       "      <td>https://preview.redd.it/9nhgjknt6eq41.jpg?widt...</td>\n",
       "    </tr>\n",
       "    <tr>\n",
       "      <td>13</td>\n",
       "      <td>https://preview.redd.it/vtts17g4gdq41.jpg?widt...</td>\n",
       "    </tr>\n",
       "    <tr>\n",
       "      <td>14</td>\n",
       "      <td>https://i.redd.it/wgkuznl7haq41.jpg</td>\n",
       "    </tr>\n",
       "    <tr>\n",
       "      <td>15</td>\n",
       "      <td>https://preview.redd.it/3f228sw5a9q41.jpg?widt...</td>\n",
       "    </tr>\n",
       "    <tr>\n",
       "      <td>16</td>\n",
       "      <td>https://external-preview.redd.it/e8rzrcK-gXK0y...</td>\n",
       "    </tr>\n",
       "    <tr>\n",
       "      <td>17</td>\n",
       "      <td>https://preview.redd.it/k4y78cawmeq41.jpg?widt...</td>\n",
       "    </tr>\n",
       "    <tr>\n",
       "      <td>18</td>\n",
       "      <td>https://preview.redd.it/eqmfbmyjueq41.jpg?widt...</td>\n",
       "    </tr>\n",
       "    <tr>\n",
       "      <td>19</td>\n",
       "      <td>https://preview.redd.it/faj8hzedycq41.jpg?widt...</td>\n",
       "    </tr>\n",
       "    <tr>\n",
       "      <td>20</td>\n",
       "      <td>https://preview.redd.it/qpa638d9paq41.jpg?widt...</td>\n",
       "    </tr>\n",
       "    <tr>\n",
       "      <td>21</td>\n",
       "      <td>https://preview.redd.it/shr008h8req41.jpg?widt...</td>\n",
       "    </tr>\n",
       "    <tr>\n",
       "      <td>22</td>\n",
       "      <td>https://preview.redd.it/75at5fd21bq41.jpg?widt...</td>\n",
       "    </tr>\n",
       "    <tr>\n",
       "      <td>23</td>\n",
       "      <td>https://preview.redd.it/24smtius5dg41.jpg?widt...</td>\n",
       "    </tr>\n",
       "    <tr>\n",
       "      <td>24</td>\n",
       "      <td>https://preview.redd.it/g8u12cmuggp41.jpg?widt...</td>\n",
       "    </tr>\n",
       "    <tr>\n",
       "      <td>25</td>\n",
       "      <td>https://preview.redd.it/89mep1u1mrp41.jpg?widt...</td>\n",
       "    </tr>\n",
       "    <tr>\n",
       "      <td>26</td>\n",
       "      <td>https://preview.redd.it/mgj1xku3rhp41.jpg?widt...</td>\n",
       "    </tr>\n",
       "    <tr>\n",
       "      <td>27</td>\n",
       "      <td>https://preview.redd.it/ylmr1ldb2tp41.jpg?widt...</td>\n",
       "    </tr>\n",
       "    <tr>\n",
       "      <td>28</td>\n",
       "      <td>https://preview.redd.it/gm0sc5uzvvp41.jpg?widt...</td>\n",
       "    </tr>\n",
       "    <tr>\n",
       "      <td>29</td>\n",
       "      <td>https://preview.redd.it/xsodm4c243q41.jpg?widt...</td>\n",
       "    </tr>\n",
       "    <tr>\n",
       "      <td>30</td>\n",
       "      <td>https://preview.redd.it/ff1edtgugdp41.jpg?widt...</td>\n",
       "    </tr>\n",
       "    <tr>\n",
       "      <td>31</td>\n",
       "      <td>https://preview.redd.it/zaiditb12zp41.png?widt...</td>\n",
       "    </tr>\n",
       "    <tr>\n",
       "      <td>32</td>\n",
       "      <td>https://preview.redd.it/ckvvbpbqt0q41.jpg?widt...</td>\n",
       "    </tr>\n",
       "    <tr>\n",
       "      <td>33</td>\n",
       "      <td>https://preview.redd.it/35mki814lyp41.jpg?widt...</td>\n",
       "    </tr>\n",
       "    <tr>\n",
       "      <td>34</td>\n",
       "      <td>https://preview.redd.it/i1pfj38rtep41.jpg?widt...</td>\n",
       "    </tr>\n",
       "    <tr>\n",
       "      <td>35</td>\n",
       "      <td>https://preview.redd.it/89864q04tmp41.jpg?widt...</td>\n",
       "    </tr>\n",
       "    <tr>\n",
       "      <td>36</td>\n",
       "      <td>https://preview.redd.it/lxqc9y0c7xp41.jpg?widt...</td>\n",
       "    </tr>\n",
       "    <tr>\n",
       "      <td>37</td>\n",
       "      <td>https://preview.redd.it/oaczkqez5lp41.jpg?widt...</td>\n",
       "    </tr>\n",
       "    <tr>\n",
       "      <td>38</td>\n",
       "      <td>https://preview.redd.it/jlwuqapkvzp41.jpg?widt...</td>\n",
       "    </tr>\n",
       "    <tr>\n",
       "      <td>39</td>\n",
       "      <td>https://preview.redd.it/t0cqo1vi55q41.jpg?widt...</td>\n",
       "    </tr>\n",
       "    <tr>\n",
       "      <td>40</td>\n",
       "      <td>https://preview.redd.it/0rsybsgptqp41.png?widt...</td>\n",
       "    </tr>\n",
       "    <tr>\n",
       "      <td>41</td>\n",
       "      <td>https://preview.redd.it/ob02fws0itp41.jpg?widt...</td>\n",
       "    </tr>\n",
       "    <tr>\n",
       "      <td>42</td>\n",
       "      <td>https://preview.redd.it/qynr8k1vxcq41.jpg?widt...</td>\n",
       "    </tr>\n",
       "    <tr>\n",
       "      <td>43</td>\n",
       "      <td>https://external-preview.redd.it/RJ9M94dhQKmyn...</td>\n",
       "    </tr>\n",
       "    <tr>\n",
       "      <td>44</td>\n",
       "      <td>https://i.redd.it/ohbuj6gbhyp41.jpg</td>\n",
       "    </tr>\n",
       "    <tr>\n",
       "      <td>45</td>\n",
       "      <td>https://preview.redd.it/zc41arw4rup41.jpg?widt...</td>\n",
       "    </tr>\n",
       "    <tr>\n",
       "      <td>46</td>\n",
       "      <td>https://preview.redd.it/squn6szmalp41.png?widt...</td>\n",
       "    </tr>\n",
       "    <tr>\n",
       "      <td>47</td>\n",
       "      <td>https://preview.redd.it/ypmbu4ae17p41.jpg?widt...</td>\n",
       "    </tr>\n",
       "    <tr>\n",
       "      <td>48</td>\n",
       "      <td>https://preview.redd.it/xh6wnxvjl7p41.jpg?widt...</td>\n",
       "    </tr>\n",
       "    <tr>\n",
       "      <td>49</td>\n",
       "      <td>https://preview.redd.it/3i9rdgvlp9q41.jpg?widt...</td>\n",
       "    </tr>\n",
       "  </tbody>\n",
       "</table>\n",
       "</div>"
      ],
      "text/plain": [
       "                                                Memes\n",
       "0   https://preview.redd.it/6ge9ateugdq41.jpg?widt...\n",
       "1   https://external-preview.redd.it/f-GaL-us2X0UV...\n",
       "2   https://preview.redd.it/1t4d8ff7ucq41.jpg?widt...\n",
       "3   https://preview.redd.it/1yzcnj36oaq41.jpg?widt...\n",
       "4   https://preview.redd.it/wbfpt2m0ncq41.png?widt...\n",
       "5                 https://i.redd.it/qm1tw52crdq41.jpg\n",
       "6                 https://i.redd.it/1e3vzmdukeq41.png\n",
       "7   https://preview.redd.it/3tpgbm06veq41.jpg?widt...\n",
       "8   https://preview.redd.it/edzoye5u6dq41.jpg?widt...\n",
       "9                 https://i.redd.it/fycwhrtngdq41.jpg\n",
       "10  https://preview.redd.it/og4nahb87dq41.jpg?widt...\n",
       "11  https://preview.redd.it/ed8g1c228eq41.jpg?widt...\n",
       "12  https://preview.redd.it/9nhgjknt6eq41.jpg?widt...\n",
       "13  https://preview.redd.it/vtts17g4gdq41.jpg?widt...\n",
       "14                https://i.redd.it/wgkuznl7haq41.jpg\n",
       "15  https://preview.redd.it/3f228sw5a9q41.jpg?widt...\n",
       "16  https://external-preview.redd.it/e8rzrcK-gXK0y...\n",
       "17  https://preview.redd.it/k4y78cawmeq41.jpg?widt...\n",
       "18  https://preview.redd.it/eqmfbmyjueq41.jpg?widt...\n",
       "19  https://preview.redd.it/faj8hzedycq41.jpg?widt...\n",
       "20  https://preview.redd.it/qpa638d9paq41.jpg?widt...\n",
       "21  https://preview.redd.it/shr008h8req41.jpg?widt...\n",
       "22  https://preview.redd.it/75at5fd21bq41.jpg?widt...\n",
       "23  https://preview.redd.it/24smtius5dg41.jpg?widt...\n",
       "24  https://preview.redd.it/g8u12cmuggp41.jpg?widt...\n",
       "25  https://preview.redd.it/89mep1u1mrp41.jpg?widt...\n",
       "26  https://preview.redd.it/mgj1xku3rhp41.jpg?widt...\n",
       "27  https://preview.redd.it/ylmr1ldb2tp41.jpg?widt...\n",
       "28  https://preview.redd.it/gm0sc5uzvvp41.jpg?widt...\n",
       "29  https://preview.redd.it/xsodm4c243q41.jpg?widt...\n",
       "30  https://preview.redd.it/ff1edtgugdp41.jpg?widt...\n",
       "31  https://preview.redd.it/zaiditb12zp41.png?widt...\n",
       "32  https://preview.redd.it/ckvvbpbqt0q41.jpg?widt...\n",
       "33  https://preview.redd.it/35mki814lyp41.jpg?widt...\n",
       "34  https://preview.redd.it/i1pfj38rtep41.jpg?widt...\n",
       "35  https://preview.redd.it/89864q04tmp41.jpg?widt...\n",
       "36  https://preview.redd.it/lxqc9y0c7xp41.jpg?widt...\n",
       "37  https://preview.redd.it/oaczkqez5lp41.jpg?widt...\n",
       "38  https://preview.redd.it/jlwuqapkvzp41.jpg?widt...\n",
       "39  https://preview.redd.it/t0cqo1vi55q41.jpg?widt...\n",
       "40  https://preview.redd.it/0rsybsgptqp41.png?widt...\n",
       "41  https://preview.redd.it/ob02fws0itp41.jpg?widt...\n",
       "42  https://preview.redd.it/qynr8k1vxcq41.jpg?widt...\n",
       "43  https://external-preview.redd.it/RJ9M94dhQKmyn...\n",
       "44                https://i.redd.it/ohbuj6gbhyp41.jpg\n",
       "45  https://preview.redd.it/zc41arw4rup41.jpg?widt...\n",
       "46  https://preview.redd.it/squn6szmalp41.png?widt...\n",
       "47  https://preview.redd.it/ypmbu4ae17p41.jpg?widt...\n",
       "48  https://preview.redd.it/xh6wnxvjl7p41.jpg?widt...\n",
       "49  https://preview.redd.it/3i9rdgvlp9q41.jpg?widt..."
      ]
     },
     "execution_count": 17,
     "metadata": {},
     "output_type": "execute_result"
    }
   ],
   "source": [
    "meme_df"
   ]
  },
  {
   "cell_type": "code",
   "execution_count": 18,
   "metadata": {},
   "outputs": [],
   "source": [
    "meme_df.to_csv('static/csv/memes.csv', index=False, header=True)"
   ]
  },
  {
   "cell_type": "code",
   "execution_count": 19,
   "metadata": {},
   "outputs": [],
   "source": [
    "browser.quit()"
   ]
  }
 ],
 "metadata": {
  "kernelspec": {
   "display_name": "Python 3",
   "language": "python",
   "name": "python3"
  },
  "language_info": {
   "codemirror_mode": {
    "name": "ipython",
    "version": 3
   },
   "file_extension": ".py",
   "mimetype": "text/x-python",
   "name": "python",
   "nbconvert_exporter": "python",
   "pygments_lexer": "ipython3",
   "version": "3.7.4"
  }
 },
 "nbformat": 4,
 "nbformat_minor": 2
}
