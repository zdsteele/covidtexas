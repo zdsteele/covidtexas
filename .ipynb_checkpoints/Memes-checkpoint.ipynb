{
 "cells": [
  {
   "cell_type": "code",
   "execution_count": 1,
   "metadata": {},
   "outputs": [],
   "source": [
    "import pandas as pd\n",
    "import numpy as np\n",
    "from bs4 import BeautifulSoup as bs\n",
    "from time import sleep\n",
    "from datetime import datetime\n",
    "from splinter import Browser\n",
    "from selenium.webdriver.common.keys import Keys\n",
    "import time\n",
    "import json\n",
    "\n",
    "import os\n",
    "import shutil"
   ]
  },
  {
   "cell_type": "code",
   "execution_count": null,
   "metadata": {},
   "outputs": [],
   "source": []
  },
  {
   "cell_type": "code",
   "execution_count": null,
   "metadata": {},
   "outputs": [],
   "source": []
  },
  {
   "cell_type": "code",
   "execution_count": 2,
   "metadata": {},
   "outputs": [],
   "source": [
    "url = 'https://www.reddit.com/r/CoronavirusMemes/'"
   ]
  },
  {
   "cell_type": "code",
   "execution_count": 3,
   "metadata": {},
   "outputs": [],
   "source": [
    "url2 = 'https://www.reddit.com/r/memes/comments/f2fi3z/covid19/'"
   ]
  },
  {
   "cell_type": "code",
   "execution_count": 4,
   "metadata": {},
   "outputs": [],
   "source": [
    "# Path to chromedriver.exe\n",
    "executable_path = {'executable_path':'C:/Users/zacha/AppData/Local/bin/chromedriver.exe'}\n",
    "\n",
    "# Open the Splinter Browswer\n",
    "browser = Browser('chrome', **executable_path)"
   ]
  },
  {
   "cell_type": "code",
   "execution_count": 5,
   "metadata": {},
   "outputs": [],
   "source": [
    "browser.visit(url)\n",
    "time.sleep(10)"
   ]
  },
  {
   "cell_type": "code",
   "execution_count": 6,
   "metadata": {},
   "outputs": [],
   "source": [
    "html = browser.html\n",
    "soup = bs(html, 'html.parser')"
   ]
  },
  {
   "cell_type": "code",
   "execution_count": 7,
   "metadata": {},
   "outputs": [],
   "source": [
    "memes = soup.find_all('div', class_='_3Oa0THmZ3f5iZXAQ0hBJ0k')"
   ]
  },
  {
   "cell_type": "code",
   "execution_count": 8,
   "metadata": {},
   "outputs": [
    {
     "data": {
      "text/plain": [
       "[<div class=\"_3Oa0THmZ3f5iZXAQ0hBJ0k\" style=\"max-height:512px;margin:0 auto\"><div><img alt=\"Post image\" class=\"_2_tDEnGMLxpM6uOa2kaDB3 ImageBox-image media-element _1XWObl-3b9tPy64oaG6fax\" src=\"https://preview.redd.it/o4pwime6asu41.jpg?width=640&amp;crop=smart&amp;auto=webp&amp;s=ed6630ebabef1d4a445aab1a48f461555cc76207\" style=\"max-height:512px\"/></div></div>,\n",
       " <div class=\"_3Oa0THmZ3f5iZXAQ0hBJ0k\" style=\"max-height:512px;margin:0 auto\"><div><img alt=\"Post image\" class=\"_2_tDEnGMLxpM6uOa2kaDB3 ImageBox-image media-element _1XWObl-3b9tPy64oaG6fax\" src=\"https://external-preview.redd.it/I_QzoQifx7TRpszU1hgTbGyhBU_NVdyz8ysgmuNcwsk.jpg?width=640&amp;crop=smart&amp;auto=webp&amp;s=2796e8f7e93580474516077d9a8fcf866b7b32e5\" style=\"max-height:512px\"/></div></div>,\n",
       " <div class=\"_3Oa0THmZ3f5iZXAQ0hBJ0k\" style=\"max-height:512px;margin:0 auto\"><div><img alt=\"Post image\" class=\"_2_tDEnGMLxpM6uOa2kaDB3 ImageBox-image media-element _1XWObl-3b9tPy64oaG6fax\" src=\"https://preview.redd.it/ai2ia4kk1su41.jpg?width=640&amp;crop=smart&amp;auto=webp&amp;s=2c95cecc8086178a9b9092f4a27d37012b620d41\" style=\"max-height:512px\"/></div></div>,\n",
       " <div class=\"_3Oa0THmZ3f5iZXAQ0hBJ0k\" style=\"max-height:512px;margin:0 auto\"><div><img alt=\"Post image\" class=\"_2_tDEnGMLxpM6uOa2kaDB3 ImageBox-image media-element _1XWObl-3b9tPy64oaG6fax\" src=\"https://preview.redd.it/12lgbu78mou41.jpg?width=640&amp;crop=smart&amp;auto=webp&amp;s=d76e12114f1db2327884817581271f70ba7dfa05\" style=\"max-height:512px\"/></div></div>,\n",
       " <div class=\"_3Oa0THmZ3f5iZXAQ0hBJ0k\" style=\"max-height:512px;margin:0 auto\"><div><img alt=\"Post image\" class=\"_2_tDEnGMLxpM6uOa2kaDB3 ImageBox-image media-element _1XWObl-3b9tPy64oaG6fax\" src=\"https://preview.redd.it/rqwy006crqu41.png?width=640&amp;crop=smart&amp;auto=webp&amp;s=1570ba69857e86e83d5fedf13c6a0a3ae93e5cca\" style=\"max-height:512px\"/></div></div>,\n",
       " <div class=\"_3Oa0THmZ3f5iZXAQ0hBJ0k\" style=\"max-height:512px;margin:0 auto\"><div><img alt=\"Post image\" class=\"_2_tDEnGMLxpM6uOa2kaDB3 ImageBox-image media-element _1XWObl-3b9tPy64oaG6fax\" src=\"https://i.redd.it/cichjp5cisu41.jpg\" style=\"max-height:512px\"/></div></div>,\n",
       " <div class=\"_3Oa0THmZ3f5iZXAQ0hBJ0k\" style=\"max-height:512px;margin:0 auto\"><div><img alt=\"Post image\" class=\"_2_tDEnGMLxpM6uOa2kaDB3 ImageBox-image media-element _1XWObl-3b9tPy64oaG6fax\" src=\"https://preview.redd.it/w8jw8aea0tu41.jpg?width=640&amp;crop=smart&amp;auto=webp&amp;s=f60efea2732825c9929d50ec4e61feed2388e9eb\" style=\"max-height:512px\"/></div></div>,\n",
       " <div class=\"_3Oa0THmZ3f5iZXAQ0hBJ0k\" style=\"max-height:512px;margin:0 auto\"><div><img alt=\"Post image\" class=\"_2_tDEnGMLxpM6uOa2kaDB3 ImageBox-image media-element _1XWObl-3b9tPy64oaG6fax\" src=\"https://preview.redd.it/pgoz5uwwnru41.jpg?width=640&amp;crop=smart&amp;auto=webp&amp;s=dd92360643914b372bdfb76c776f04b44b6886c0\" style=\"max-height:512px\"/></div></div>,\n",
       " <div class=\"_3Oa0THmZ3f5iZXAQ0hBJ0k\" style=\"max-height: 512px; margin: 0px auto;\"><div><img alt=\"Post image\" class=\"_2_tDEnGMLxpM6uOa2kaDB3 ImageBox-image media-element _1XWObl-3b9tPy64oaG6fax\" src=\"https://preview.redd.it/hij9djtqwqu41.jpg?width=640&amp;crop=smart&amp;auto=webp&amp;s=a692d0afb0d80c50d2e34fcb6e865900b23c5e26\" style=\"max-height: 512px;\"/></div></div>,\n",
       " <div class=\"_3Oa0THmZ3f5iZXAQ0hBJ0k\" style=\"max-height: 512px; margin: 0px auto;\"><div><img alt=\"Post image\" class=\"_2_tDEnGMLxpM6uOa2kaDB3 ImageBox-image media-element _1XWObl-3b9tPy64oaG6fax\" src=\"https://preview.redd.it/pf13likejru41.jpg?width=640&amp;crop=smart&amp;auto=webp&amp;s=c17e3eb014b9dff9aa589396de4993cc1abdd32b\" style=\"max-height: 512px;\"/></div></div>,\n",
       " <div class=\"_3Oa0THmZ3f5iZXAQ0hBJ0k\" style=\"max-height: 512px; margin: 0px auto;\"><div><img alt=\"Post image\" class=\"_2_tDEnGMLxpM6uOa2kaDB3 ImageBox-image media-element _1XWObl-3b9tPy64oaG6fax\" src=\"https://preview.redd.it/k05ymgfifru41.png?width=640&amp;crop=smart&amp;auto=webp&amp;s=654db9896b473819ae794ab26929ad32d98a565f\" style=\"max-height: 512px;\"/></div></div>,\n",
       " <div class=\"_3Oa0THmZ3f5iZXAQ0hBJ0k\" style=\"max-height: 512px; margin: 0px auto;\"><div><img alt=\"Post image\" class=\"_2_tDEnGMLxpM6uOa2kaDB3 ImageBox-image media-element _1XWObl-3b9tPy64oaG6fax\" src=\"https://external-preview.redd.it/FiT9ge4R_b0dznquBFdc6asSIMqUNWBVde6U-nXmtvA.jpg?width=640&amp;crop=smart&amp;auto=webp&amp;s=a271a612e2a0c6687114039301cfdabf14e2a92d\" style=\"max-height: 512px;\"/></div></div>,\n",
       " <div class=\"_3Oa0THmZ3f5iZXAQ0hBJ0k\" style=\"max-height: 512px; margin: 0px auto;\"><div><img alt=\"Post image\" class=\"_2_tDEnGMLxpM6uOa2kaDB3 ImageBox-image media-element _1XWObl-3b9tPy64oaG6fax\" src=\"https://preview.redd.it/nmd1ybdm4su41.jpg?width=640&amp;crop=smart&amp;auto=webp&amp;s=241dc2632c6a4b4ff9ba583adb6a3adbbefa4d09\" style=\"max-height: 512px;\"/></div></div>]"
      ]
     },
     "execution_count": 8,
     "metadata": {},
     "output_type": "execute_result"
    }
   ],
   "source": [
    "memes"
   ]
  },
  {
   "cell_type": "code",
   "execution_count": 9,
   "metadata": {},
   "outputs": [
    {
     "data": {
      "text/plain": [
       "13"
      ]
     },
     "execution_count": 9,
     "metadata": {},
     "output_type": "execute_result"
    }
   ],
   "source": [
    "len(memes)"
   ]
  },
  {
   "cell_type": "code",
   "execution_count": 10,
   "metadata": {},
   "outputs": [],
   "source": [
    "images = []"
   ]
  },
  {
   "cell_type": "code",
   "execution_count": 11,
   "metadata": {},
   "outputs": [],
   "source": [
    "for i in memes:\n",
    "    \n",
    "    image = i.find('img')['src']\n",
    "    images.append(image)"
   ]
  },
  {
   "cell_type": "code",
   "execution_count": 12,
   "metadata": {},
   "outputs": [],
   "source": [
    "browser.visit(url2)\n",
    "time.sleep(10)"
   ]
  },
  {
   "cell_type": "code",
   "execution_count": 13,
   "metadata": {},
   "outputs": [],
   "source": [
    "html = browser.html\n",
    "soup = bs(html, 'html.parser')"
   ]
  },
  {
   "cell_type": "code",
   "execution_count": 14,
   "metadata": {},
   "outputs": [],
   "source": [
    "memes2 = soup.find_all('div', class_='_3Oa0THmZ3f5iZXAQ0hBJ0k')"
   ]
  },
  {
   "cell_type": "code",
   "execution_count": 15,
   "metadata": {},
   "outputs": [],
   "source": [
    "for i in memes2:\n",
    "    image2 = i.find('img')['src']\n",
    "    images.append(image2)"
   ]
  },
  {
   "cell_type": "code",
   "execution_count": 16,
   "metadata": {},
   "outputs": [],
   "source": [
    "meme_df = pd.DataFrame({\"Memes\":images})"
   ]
  },
  {
   "cell_type": "code",
   "execution_count": 17,
   "metadata": {},
   "outputs": [
    {
     "data": {
      "text/html": [
       "<div>\n",
       "<style scoped>\n",
       "    .dataframe tbody tr th:only-of-type {\n",
       "        vertical-align: middle;\n",
       "    }\n",
       "\n",
       "    .dataframe tbody tr th {\n",
       "        vertical-align: top;\n",
       "    }\n",
       "\n",
       "    .dataframe thead th {\n",
       "        text-align: right;\n",
       "    }\n",
       "</style>\n",
       "<table border=\"1\" class=\"dataframe\">\n",
       "  <thead>\n",
       "    <tr style=\"text-align: right;\">\n",
       "      <th></th>\n",
       "      <th>Memes</th>\n",
       "    </tr>\n",
       "  </thead>\n",
       "  <tbody>\n",
       "    <tr>\n",
       "      <td>0</td>\n",
       "      <td>https://preview.redd.it/o4pwime6asu41.jpg?widt...</td>\n",
       "    </tr>\n",
       "    <tr>\n",
       "      <td>1</td>\n",
       "      <td>https://external-preview.redd.it/I_QzoQifx7TRp...</td>\n",
       "    </tr>\n",
       "    <tr>\n",
       "      <td>2</td>\n",
       "      <td>https://preview.redd.it/ai2ia4kk1su41.jpg?widt...</td>\n",
       "    </tr>\n",
       "    <tr>\n",
       "      <td>3</td>\n",
       "      <td>https://preview.redd.it/12lgbu78mou41.jpg?widt...</td>\n",
       "    </tr>\n",
       "    <tr>\n",
       "      <td>4</td>\n",
       "      <td>https://preview.redd.it/rqwy006crqu41.png?widt...</td>\n",
       "    </tr>\n",
       "    <tr>\n",
       "      <td>5</td>\n",
       "      <td>https://i.redd.it/cichjp5cisu41.jpg</td>\n",
       "    </tr>\n",
       "    <tr>\n",
       "      <td>6</td>\n",
       "      <td>https://preview.redd.it/w8jw8aea0tu41.jpg?widt...</td>\n",
       "    </tr>\n",
       "    <tr>\n",
       "      <td>7</td>\n",
       "      <td>https://preview.redd.it/pgoz5uwwnru41.jpg?widt...</td>\n",
       "    </tr>\n",
       "    <tr>\n",
       "      <td>8</td>\n",
       "      <td>https://preview.redd.it/hij9djtqwqu41.jpg?widt...</td>\n",
       "    </tr>\n",
       "    <tr>\n",
       "      <td>9</td>\n",
       "      <td>https://preview.redd.it/pf13likejru41.jpg?widt...</td>\n",
       "    </tr>\n",
       "    <tr>\n",
       "      <td>10</td>\n",
       "      <td>https://preview.redd.it/k05ymgfifru41.png?widt...</td>\n",
       "    </tr>\n",
       "    <tr>\n",
       "      <td>11</td>\n",
       "      <td>https://external-preview.redd.it/FiT9ge4R_b0dz...</td>\n",
       "    </tr>\n",
       "    <tr>\n",
       "      <td>12</td>\n",
       "      <td>https://preview.redd.it/nmd1ybdm4su41.jpg?widt...</td>\n",
       "    </tr>\n",
       "    <tr>\n",
       "      <td>13</td>\n",
       "      <td>https://preview.redd.it/24smtius5dg41.jpg?widt...</td>\n",
       "    </tr>\n",
       "    <tr>\n",
       "      <td>14</td>\n",
       "      <td>https://preview.redd.it/uhsw3xfsnst41.jpg?widt...</td>\n",
       "    </tr>\n",
       "    <tr>\n",
       "      <td>15</td>\n",
       "      <td>https://external-preview.redd.it/lnvEdzZgUB_HB...</td>\n",
       "    </tr>\n",
       "    <tr>\n",
       "      <td>16</td>\n",
       "      <td>https://preview.redd.it/4i1a4r1j0ou41.jpg?widt...</td>\n",
       "    </tr>\n",
       "    <tr>\n",
       "      <td>17</td>\n",
       "      <td>https://preview.redd.it/hdssy8hv0ju41.jpg?widt...</td>\n",
       "    </tr>\n",
       "    <tr>\n",
       "      <td>18</td>\n",
       "      <td>https://preview.redd.it/npcscwtdcku41.jpg?widt...</td>\n",
       "    </tr>\n",
       "    <tr>\n",
       "      <td>19</td>\n",
       "      <td>https://preview.redd.it/gg65bpswp5u41.jpg?widt...</td>\n",
       "    </tr>\n",
       "    <tr>\n",
       "      <td>20</td>\n",
       "      <td>https://preview.redd.it/rfusacghfpt41.jpg?widt...</td>\n",
       "    </tr>\n",
       "    <tr>\n",
       "      <td>21</td>\n",
       "      <td>https://preview.redd.it/co6zklhe37u41.jpg?widt...</td>\n",
       "    </tr>\n",
       "  </tbody>\n",
       "</table>\n",
       "</div>"
      ],
      "text/plain": [
       "                                                Memes\n",
       "0   https://preview.redd.it/o4pwime6asu41.jpg?widt...\n",
       "1   https://external-preview.redd.it/I_QzoQifx7TRp...\n",
       "2   https://preview.redd.it/ai2ia4kk1su41.jpg?widt...\n",
       "3   https://preview.redd.it/12lgbu78mou41.jpg?widt...\n",
       "4   https://preview.redd.it/rqwy006crqu41.png?widt...\n",
       "5                 https://i.redd.it/cichjp5cisu41.jpg\n",
       "6   https://preview.redd.it/w8jw8aea0tu41.jpg?widt...\n",
       "7   https://preview.redd.it/pgoz5uwwnru41.jpg?widt...\n",
       "8   https://preview.redd.it/hij9djtqwqu41.jpg?widt...\n",
       "9   https://preview.redd.it/pf13likejru41.jpg?widt...\n",
       "10  https://preview.redd.it/k05ymgfifru41.png?widt...\n",
       "11  https://external-preview.redd.it/FiT9ge4R_b0dz...\n",
       "12  https://preview.redd.it/nmd1ybdm4su41.jpg?widt...\n",
       "13  https://preview.redd.it/24smtius5dg41.jpg?widt...\n",
       "14  https://preview.redd.it/uhsw3xfsnst41.jpg?widt...\n",
       "15  https://external-preview.redd.it/lnvEdzZgUB_HB...\n",
       "16  https://preview.redd.it/4i1a4r1j0ou41.jpg?widt...\n",
       "17  https://preview.redd.it/hdssy8hv0ju41.jpg?widt...\n",
       "18  https://preview.redd.it/npcscwtdcku41.jpg?widt...\n",
       "19  https://preview.redd.it/gg65bpswp5u41.jpg?widt...\n",
       "20  https://preview.redd.it/rfusacghfpt41.jpg?widt...\n",
       "21  https://preview.redd.it/co6zklhe37u41.jpg?widt..."
      ]
     },
     "execution_count": 17,
     "metadata": {},
     "output_type": "execute_result"
    }
   ],
   "source": [
    "meme_df"
   ]
  },
  {
   "cell_type": "code",
   "execution_count": 18,
   "metadata": {},
   "outputs": [],
   "source": [
    "pd.read_csv('static/csv/memes.csv').append(meme_df).drop_duplicates().to_csv('static/csv/memes.csv',index=False, header=True)"
   ]
  },
  {
   "cell_type": "code",
   "execution_count": 19,
   "metadata": {},
   "outputs": [
    {
     "data": {
      "text/html": [
       "<div>\n",
       "<style scoped>\n",
       "    .dataframe tbody tr th:only-of-type {\n",
       "        vertical-align: middle;\n",
       "    }\n",
       "\n",
       "    .dataframe tbody tr th {\n",
       "        vertical-align: top;\n",
       "    }\n",
       "\n",
       "    .dataframe thead th {\n",
       "        text-align: right;\n",
       "    }\n",
       "</style>\n",
       "<table border=\"1\" class=\"dataframe\">\n",
       "  <thead>\n",
       "    <tr style=\"text-align: right;\">\n",
       "      <th></th>\n",
       "      <th>Memes</th>\n",
       "    </tr>\n",
       "  </thead>\n",
       "  <tbody>\n",
       "    <tr>\n",
       "      <td>0</td>\n",
       "      <td>https://preview.redd.it/co6zklhe37u41.jpg?widt...</td>\n",
       "    </tr>\n",
       "    <tr>\n",
       "      <td>1</td>\n",
       "      <td>https://preview.redd.it/rfusacghfpt41.jpg?widt...</td>\n",
       "    </tr>\n",
       "    <tr>\n",
       "      <td>2</td>\n",
       "      <td>https://preview.redd.it/gg65bpswp5u41.jpg?widt...</td>\n",
       "    </tr>\n",
       "    <tr>\n",
       "      <td>3</td>\n",
       "      <td>https://preview.redd.it/npcscwtdcku41.jpg?widt...</td>\n",
       "    </tr>\n",
       "    <tr>\n",
       "      <td>4</td>\n",
       "      <td>https://preview.redd.it/hdssy8hv0ju41.jpg?widt...</td>\n",
       "    </tr>\n",
       "    <tr>\n",
       "      <td>...</td>\n",
       "      <td>...</td>\n",
       "    </tr>\n",
       "    <tr>\n",
       "      <td>314</td>\n",
       "      <td>https://preview.redd.it/i254zw78jsr41.jpg?widt...</td>\n",
       "    </tr>\n",
       "    <tr>\n",
       "      <td>315</td>\n",
       "      <td>https://preview.redd.it/pc60sfidvrr41.jpg?widt...</td>\n",
       "    </tr>\n",
       "    <tr>\n",
       "      <td>316</td>\n",
       "      <td>https://preview.redd.it/78737kxjrbr41.jpg?widt...</td>\n",
       "    </tr>\n",
       "    <tr>\n",
       "      <td>317</td>\n",
       "      <td>https://preview.redd.it/wd6spui8v4r41.jpg?widt...</td>\n",
       "    </tr>\n",
       "    <tr>\n",
       "      <td>318</td>\n",
       "      <td>https://i.redd.it/qoadrxe8cfr41.png</td>\n",
       "    </tr>\n",
       "  </tbody>\n",
       "</table>\n",
       "<p>319 rows × 1 columns</p>\n",
       "</div>"
      ],
      "text/plain": [
       "                                                 Memes\n",
       "0    https://preview.redd.it/co6zklhe37u41.jpg?widt...\n",
       "1    https://preview.redd.it/rfusacghfpt41.jpg?widt...\n",
       "2    https://preview.redd.it/gg65bpswp5u41.jpg?widt...\n",
       "3    https://preview.redd.it/npcscwtdcku41.jpg?widt...\n",
       "4    https://preview.redd.it/hdssy8hv0ju41.jpg?widt...\n",
       "..                                                 ...\n",
       "314  https://preview.redd.it/i254zw78jsr41.jpg?widt...\n",
       "315  https://preview.redd.it/pc60sfidvrr41.jpg?widt...\n",
       "316  https://preview.redd.it/78737kxjrbr41.jpg?widt...\n",
       "317  https://preview.redd.it/wd6spui8v4r41.jpg?widt...\n",
       "318                https://i.redd.it/qoadrxe8cfr41.png\n",
       "\n",
       "[319 rows x 1 columns]"
      ]
     },
     "execution_count": 19,
     "metadata": {},
     "output_type": "execute_result"
    }
   ],
   "source": [
    "new_df = pd.read_csv('static/csv/memes.csv')\n",
    "new_df[\"Memes\"] = new_df[\"Memes\"].values[::-1]\n",
    "new_df"
   ]
  },
  {
   "cell_type": "code",
   "execution_count": 20,
   "metadata": {},
   "outputs": [],
   "source": [
    "new_df.to_csv('static/csv/memes.csv', index=False, header=True)"
   ]
  },
  {
   "cell_type": "code",
   "execution_count": 21,
   "metadata": {},
   "outputs": [],
   "source": [
    "browser.quit()"
   ]
  }
 ],
 "metadata": {
  "kernelspec": {
   "display_name": "Python 3",
   "language": "python",
   "name": "python3"
  },
  "language_info": {
   "codemirror_mode": {
    "name": "ipython",
    "version": 3
   },
   "file_extension": ".py",
   "mimetype": "text/x-python",
   "name": "python",
   "nbconvert_exporter": "python",
   "pygments_lexer": "ipython3",
   "version": "3.7.4"
  }
 },
 "nbformat": 4,
 "nbformat_minor": 2
}
